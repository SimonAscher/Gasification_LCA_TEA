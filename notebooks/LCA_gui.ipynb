{
 "cells": [
  {
   "cell_type": "markdown",
   "source": [
    "### Open in Jupyter Notebook (not in pycharm) to get notebook to display properly"
   ],
   "metadata": {
    "collapsed": false
   }
  },
  {
   "cell_type": "code",
   "execution_count": 21,
   "metadata": {
    "scrolled": true
   },
   "outputs": [
    {
     "data": {
      "text/html": [
       "<!-- HTML Code to hide code cells -->\n",
       "<script>\n",
       "    function luc21893_refresh_cell(cell) {\n",
       "        if( cell.luc21893 ) return;\n",
       "        cell.luc21893 = true;\n",
       "        console.debug('New code cell found...' );\n",
       "        \n",
       "        var div = document.createElement('DIV');            \n",
       "        cell.parentNode.insertBefore( div, cell.nextSibling );\n",
       "        div.style.textAlign = 'right';\n",
       "        var a = document.createElement('A');\n",
       "        div.appendChild(a);\n",
       "        a.href='#'\n",
       "        a.luc21893 = cell;\n",
       "        a.setAttribute( 'onclick', \"luc21893_toggle(this); return false;\" );\n",
       "\n",
       "        cell.style.visibility='hidden';\n",
       "        cell.style.position='absolute';\n",
       "        a.innerHTML = '[show code]';        \n",
       "                \n",
       "    }\n",
       "    function luc21893_refresh() {                \n",
       "        if( document.querySelector('.code_cell .input') == null ) {            \n",
       "            // it apeears that I am in a exported html\n",
       "            // hide this code\n",
       "            var codeCells = document.querySelectorAll('.jp-InputArea')\n",
       "            codeCells[0].style.visibility = 'hidden';\n",
       "            codeCells[0].style.position = 'absolute';                        \n",
       "            for( var i = 1; i < codeCells.length; i++ ) {\n",
       "                luc21893_refresh_cell(codeCells[i].parentNode)\n",
       "            }\n",
       "            window.onload = luc21893_refresh;\n",
       "        }                 \n",
       "        else {\n",
       "            // it apperas that I am in a jupyter editor\n",
       "            var codeCells = document.querySelectorAll('.code_cell .input')\n",
       "            for( var i = 0; i < codeCells.length; i++ ) {\n",
       "                luc21893_refresh_cell(codeCells[i])\n",
       "            }            \n",
       "            window.setTimeout( luc21893_refresh, 1000 )\n",
       "        }        \n",
       "    }\n",
       "    \n",
       "    function luc21893_toggle(a) {\n",
       "        if( a.luc21893.style.visibility=='hidden' ) {\n",
       "            a.luc21893.style.visibility='visible';        \n",
       "            a.luc21893.style.position='';\n",
       "            a.innerHTML = '[hide code]';\n",
       "        }\n",
       "        else {\n",
       "            a.luc21893.style.visibility='hidden';        \n",
       "            a.luc21893.style.position='absolute';\n",
       "            a.innerHTML = '[show code]';\n",
       "        }\n",
       "    }\n",
       "    \n",
       "    luc21893_refresh()\n",
       "</script>\n"
      ],
      "text/plain": [
       "<IPython.core.display.HTML object>"
      ]
     },
     "metadata": {},
     "output_type": "display_data"
    }
   ],
   "source": [
    "%%HTML \n",
    "<!-- HTML Code to hide code cells -->\n",
    "<script>\n",
    "    function luc21893_refresh_cell(cell) {\n",
    "        if( cell.luc21893 ) return;\n",
    "        cell.luc21893 = true;\n",
    "        console.debug('New code cell found...' );\n",
    "        \n",
    "        var div = document.createElement('DIV');            \n",
    "        cell.parentNode.insertBefore( div, cell.nextSibling );\n",
    "        div.style.textAlign = 'right';\n",
    "        var a = document.createElement('A');\n",
    "        div.appendChild(a);\n",
    "        a.href='#'\n",
    "        a.luc21893 = cell;\n",
    "        a.setAttribute( 'onclick', \"luc21893_toggle(this); return false;\" );\n",
    "\n",
    "        cell.style.visibility='hidden';\n",
    "        cell.style.position='absolute';\n",
    "        a.innerHTML = '[show code]';        \n",
    "                \n",
    "    }\n",
    "    function luc21893_refresh() {                \n",
    "        if( document.querySelector('.code_cell .input') == null ) {            \n",
    "            // it apeears that I am in a exported html\n",
    "            // hide this code\n",
    "            var codeCells = document.querySelectorAll('.jp-InputArea')\n",
    "            codeCells[0].style.visibility = 'hidden';\n",
    "            codeCells[0].style.position = 'absolute';                        \n",
    "            for( var i = 1; i < codeCells.length; i++ ) {\n",
    "                luc21893_refresh_cell(codeCells[i].parentNode)\n",
    "            }\n",
    "            window.onload = luc21893_refresh;\n",
    "        }                 \n",
    "        else {\n",
    "            // it apperas that I am in a jupyter editor\n",
    "            var codeCells = document.querySelectorAll('.code_cell .input')\n",
    "            for( var i = 0; i < codeCells.length; i++ ) {\n",
    "                luc21893_refresh_cell(codeCells[i])\n",
    "            }            \n",
    "            window.setTimeout( luc21893_refresh, 1000 )\n",
    "        }        \n",
    "    }\n",
    "    \n",
    "    function luc21893_toggle(a) {\n",
    "        if( a.luc21893.style.visibility=='hidden' ) {\n",
    "            a.luc21893.style.visibility='visible';        \n",
    "            a.luc21893.style.position='';\n",
    "            a.innerHTML = '[hide code]';\n",
    "        }\n",
    "        else {\n",
    "            a.luc21893.style.visibility='hidden';        \n",
    "            a.luc21893.style.position='absolute';\n",
    "            a.innerHTML = '[show code]';\n",
    "        }\n",
    "    }\n",
    "    \n",
    "    luc21893_refresh()\n",
    "</script>"
   ]
  },
  {
   "cell_type": "markdown",
   "metadata": {},
   "source": [
    "# General Biomass and Waste Gasification LCA"
   ]
  },
  {
   "cell_type": "markdown",
   "metadata": {},
   "source": [
    "### TODO: Add more detailed Instructions here at later stage:\n"
   ]
  },
  {
   "cell_type": "code",
   "execution_count": 41,
   "metadata": {},
   "outputs": [],
   "source": [
    "# Import required packages\n",
    "import ipywidgets as widgets\n",
    "from IPython.display import display, Javascript\n",
    "from config import settings\n",
    "from functions.general.utility.toml_handling import update_user_inputs_toml, reset_user_inputs_toml\n"
   ]
  },
  {
   "cell_type": "code",
   "execution_count": 42,
   "metadata": {},
   "outputs": [
    {
     "data": {
      "application/vnd.jupyter.widget-view+json": {
       "model_id": "f15916ef8ab94499bafa2c0040fc8195",
       "version_major": 2,
       "version_minor": 0
      },
      "text/plain": [
       "Button(description='Start Simulation', layout=Layout(height='40px', width='auto'), style=ButtonStyle())"
      ]
     },
     "metadata": {},
     "output_type": "display_data"
    },
    {
     "data": {
      "application/vnd.jupyter.widget-view+json": {
       "model_id": "c20b314731dd4a3590255b2cc7a4d9fb",
       "version_major": 2,
       "version_minor": 0
      },
      "text/plain": [
       "Output()"
      ]
     },
     "metadata": {},
     "output_type": "display_data"
    }
   ],
   "source": [
    "\"\"\"\n",
    "Improve this function - have button to click at end of each section after you're done with your inputs...\n",
    "\n",
    "Alternative workflow for user - click run all button, then enter values - fields will be displayed automatically - then\n",
    "click button saying start simulation - show progress bar\n",
    "    - issue with this might currently be that some cells e.g. bed material are dependent on other inputs\n",
    "    - could also have code for button at end of each cell where I want a button and just directly link to whatever cell we want.\n",
    "        - i.e just say cell X in JavaScript - would not even need to fetch current cell number or anything. could just do manually\n",
    "        \n",
    "\"\"\"\n",
    "\n",
    "\n",
    "\n",
    "\n",
    "\n",
    "\n",
    "\n",
    "\n",
    "\n",
    "\n",
    "\n",
    "\n",
    "# Create Buttons to progress to next Section when finished with previous section\n",
    "from IPython.display import display\n",
    "\n",
    "# Create layout object to style button\n",
    "layout_button = widgets.Layout(width='auto', height='40px') #set width and height\n",
    "\n",
    "\n",
    "\n",
    "button = widgets.Button(description=\"Start Simulation\", # Click to proceed to next cell\n",
    "                        layout = layout_button\n",
    "                       ) \n",
    "output = widgets.Output() \n",
    "display(button, output) \n",
    "\n",
    "# Define function to execute next code cell - executed upon button click\n",
    "# NOTE: Change to idx+2 if I decided to add a markdown cell between cells\n",
    "def on_button_click(inp) : \n",
    "    with output:    \n",
    "        # Define Javascript command to run next cell\n",
    "        js_command = \"\"\"\n",
    "        var output_area = this;\n",
    "        // find my cell element\n",
    "        var cell_element = output_area.element.parents('.cell');\n",
    "        // which cell is it?\n",
    "        var cell_idx = Jupyter.notebook.get_cell_elements().index(cell_element);\n",
    "        // get the cell object\n",
    "        var cell = Jupyter.notebook.get_cell(cell_idx);\n",
    "\n",
    "         // Execute next cell\n",
    "        Jupyter.notebook.execute_cells([cell_idx+{}])\n",
    "        \"\"\".format(2)\n",
    "        \n",
    "        # Execute command\n",
    "        display(Javascript(js_command))\n",
    "        \n",
    "        # Tell user\n",
    "        #print(\"Proceeded to next section\")\n",
    "\n",
    "button.on_click(on_button_click)\n"
   ]
  },
  {
   "cell_type": "markdown",
   "metadata": {},
   "source": [
    "### Please define general simulation parameters:"
   ]
  },
  {
   "cell_type": "code",
   "execution_count": 43,
   "metadata": {
    "scrolled": true
   },
   "outputs": [],
   "source": [
    "# Define MC widget\n",
    "MC_widget = widgets.BoundedIntText(value = 1000,\n",
    "                                   min=0,\n",
    "                                   max=10000,\n",
    "                                   step=100,\n",
    "                                   description=\"Select the number of Monte Carlo iterations:\",\n",
    "                                   style={'description_width': 'initial'},\n",
    "                                   layout={'width':'500px'}\n",
    "                                  )\n",
    "\n",
    "# Define country widget\n",
    "country_widget = widgets.Dropdown(options = settings.general.countries,\n",
    "                                  description=\"Select a reference country:\",\n",
    "                                  style={'description_width': 'initial'},\n",
    "                                  layout={'width':'500px'}\n",
    "                                 )\n"
   ]
  },
  {
   "cell_type": "markdown",
   "metadata": {},
   "source": [
    "### Please provide information about the feedstock"
   ]
  },
  {
   "cell_type": "code",
   "execution_count": 44,
   "metadata": {},
   "outputs": [
    {
     "name": "stdout",
     "output_type": "stream",
     "text": [
      "General feedstock information:\n"
     ]
    },
    {
     "data": {
      "application/vnd.jupyter.widget-view+json": {
       "model_id": "60b843d3553149f1bef279516be7c948",
       "version_major": 2,
       "version_minor": 0
      },
      "text/plain": [
       "Dropdown(description='Select a feedstock category:', layout=Layout(width='500px'), options=('plastics', 'munic…"
      ]
     },
     "metadata": {},
     "output_type": "display_data"
    },
    {
     "data": {
      "application/vnd.jupyter.widget-view+json": {
       "model_id": "2404323daf134dd388a5fdeea82aaa69",
       "version_major": 2,
       "version_minor": 0
      },
      "text/plain": [
       "Textarea(value='', description='Please enter a descriptive name of your feedstock:', layout=Layout(width='500p…"
      ]
     },
     "metadata": {},
     "output_type": "display_data"
    },
    {
     "data": {
      "application/vnd.jupyter.widget-view+json": {
       "model_id": "e998972e92ac49e18c5633b397e9c965",
       "version_major": 2,
       "version_minor": 0
      },
      "text/plain": [
       "BoundedFloatText(value=0.0, description='Particle size [mm]:', layout=Layout(width='500px'), style=Description…"
      ]
     },
     "metadata": {},
     "output_type": "display_data"
    },
    {
     "name": "stdout",
     "output_type": "stream",
     "text": [
      "Feedstock elemental composition:\n"
     ]
    },
    {
     "data": {
      "application/vnd.jupyter.widget-view+json": {
       "model_id": "b6b0a40c238d4da8a8a1b309f8ab6c3e",
       "version_major": 2,
       "version_minor": 0
      },
      "text/plain": [
       "BoundedFloatText(value=0.0, description='Carbon content [%daf]:', layout=Layout(width='500px'), style=Descript…"
      ]
     },
     "metadata": {},
     "output_type": "display_data"
    },
    {
     "data": {
      "application/vnd.jupyter.widget-view+json": {
       "model_id": "d91778e02db5476fb95704ac068f379b",
       "version_major": 2,
       "version_minor": 0
      },
      "text/plain": [
       "BoundedFloatText(value=0.0, description='Hydrogen content [%daf]:', layout=Layout(width='500px'), style=Descri…"
      ]
     },
     "metadata": {},
     "output_type": "display_data"
    },
    {
     "data": {
      "application/vnd.jupyter.widget-view+json": {
       "model_id": "dc237d5016ae488daed59cd399b71d43",
       "version_major": 2,
       "version_minor": 0
      },
      "text/plain": [
       "BoundedFloatText(value=0.0, description='Sulphur content [%daf]:', layout=Layout(width='500px'), style=Descrip…"
      ]
     },
     "metadata": {},
     "output_type": "display_data"
    },
    {
     "name": "stdout",
     "output_type": "stream",
     "text": [
      "Feedstock proximate composition:\n"
     ]
    },
    {
     "data": {
      "application/vnd.jupyter.widget-view+json": {
       "model_id": "1bd703b464754c7aa64ee480c7cae79b",
       "version_major": 2,
       "version_minor": 0
      },
      "text/plain": [
       "BoundedFloatText(value=0.0, description='Feedstock moisture as received [%wb]:', layout=Layout(width='500px'),…"
      ]
     },
     "metadata": {},
     "output_type": "display_data"
    },
    {
     "data": {
      "application/vnd.jupyter.widget-view+json": {
       "model_id": "1c27d7af2a3a468baa8cd2876dff21da",
       "version_major": 2,
       "version_minor": 0
      },
      "text/plain": [
       "BoundedFloatText(value=0.0, description='Desired feedstock moisture post drying [%wb]:', layout=Layout(width='…"
      ]
     },
     "metadata": {},
     "output_type": "display_data"
    },
    {
     "data": {
      "application/vnd.jupyter.widget-view+json": {
       "model_id": "632379e8551743619e4b0c6fa10f5a1e",
       "version_major": 2,
       "version_minor": 0
      },
      "text/plain": [
       "BoundedFloatText(value=0.0, description='Ash content [%db]:', layout=Layout(width='500px'), style=DescriptionS…"
      ]
     },
     "metadata": {},
     "output_type": "display_data"
    }
   ],
   "source": [
    "# Feedstock category widget\n",
    "feedstock_category_widget = widgets.Dropdown(options = settings.general.feedstock_categories,\n",
    "                                             description=\"Select a feedstock category:\",\n",
    "                                             style={'description_width': 'initial'},\n",
    "                                             layout={'width':'500px'}\n",
    "                                            )\n",
    "\n",
    "# Feedstock name widget\n",
    "feedstock_name_widget = widgets.Textarea(placeholder='Enter feedstock name',\n",
    "                                         description='Please enter a descriptive name of your feedstock:',\n",
    "                                         style={'description_width': 'initial'},\n",
    "                                         layout={'width':'500px'}\n",
    "                                        )\n",
    "\n",
    "# Feedstock particle size widget\n",
    "particle_size_widget = widgets.BoundedFloatText(min=0,\n",
    "                                                max=100,\n",
    "                                                style={'description_width': 'initial'},\n",
    "                                                layout={'width':'500px'},\n",
    "                                                description = \"Particle size [mm]:\"\n",
    "                                               )\n",
    "\n",
    "\n",
    "\n",
    "# Feedstock elemental composition widgets\n",
    "C_widget = widgets.BoundedFloatText(min=0,\n",
    "                                    max=100,\n",
    "                                    style={'description_width': 'initial'},\n",
    "                                    layout={'width':'500px'},\n",
    "                                    description = \"Carbon content [%daf]:\"\n",
    "                                   )\n",
    "\n",
    "H_widget = widgets.BoundedFloatText(min=0,\n",
    "                                    max=100,\n",
    "                                    style={'description_width': 'initial'},\n",
    "                                    layout={'width':'500px'},\n",
    "                                    description= \"Hydrogen content [%daf]:\"\n",
    "                                   )\n",
    "\n",
    "S_widget = widgets.BoundedFloatText(min=0,\n",
    "                                    max=100,\n",
    "                                    style={'description_width': 'initial'},\n",
    "                                    layout={'width':'500px'},\n",
    "                                    description=  \"Sulphur content [%daf]:\"\n",
    "                                   )\n",
    "\n",
    "# Feedstock moisture widgets\n",
    "received_moisture_widget = widgets.BoundedFloatText(min=0,\n",
    "                                                    max=100,\n",
    "                                                    style={'description_width': 'initial'},\n",
    "                                                    layout={'width':'500px'},\n",
    "                                                    description=  \"Feedstock moisture as received [%wb]:\"\n",
    "                                                   )\n",
    "\n",
    "desired_moisture_widget = widgets.BoundedFloatText(min=0,\n",
    "                                                   max=100,\n",
    "                                                   style={'description_width': 'initial'},\n",
    "                                                   layout={'width':'500px'},\n",
    "                                                   description= \"Desired feedstock moisture post drying [%wb]:\"\n",
    "                                                  )\n",
    "\n",
    "ash_widget = widgets.BoundedFloatText(min=0,\n",
    "                                      max=100,\n",
    "                                      style={'description_width': 'initial'},\n",
    "                                      layout={'width':'500px'},\n",
    "                                      description= \"Ash content [%db]:\"\n",
    "                                     )\n",
    "\n",
    "# Display widgets\n",
    "print(\"General feedstock information:\")\n",
    "display(feedstock_category_widget)\n",
    "display(feedstock_name_widget)\n",
    "display(particle_size_widget)\n",
    "\n",
    "print(\"Feedstock elemental composition:\")\n",
    "display(C_widget)\n",
    "display(H_widget)\n",
    "display(S_widget)\n",
    "\n",
    "print(\"Feedstock proximate composition:\")\n",
    "display(received_moisture_widget)\n",
    "display(desired_moisture_widget)\n",
    "display(ash_widget)\n"
   ]
  },
  {
   "cell_type": "code",
   "execution_count": 45,
   "metadata": {},
   "outputs": [],
   "source": [
    "if desired_moisture_widget.value > received_moisture_widget.value:\n",
    "    raise ValueError(\"Desired feedstock moisture after drying should not be higher than as received moisture\")"
   ]
  },
  {
   "cell_type": "markdown",
   "metadata": {},
   "source": [
    "### Please provide information about reactor and operating conditions"
   ]
  },
  {
   "cell_type": "code",
   "execution_count": 47,
   "metadata": {},
   "outputs": [
    {
     "data": {
      "application/vnd.jupyter.widget-view+json": {
       "model_id": "54d71dfa7e334fb19207aad88799ee7a",
       "version_major": 2,
       "version_minor": 0
      },
      "text/plain": [
       "BoundedFloatText(value=0.0, description='Gasification Temperature [°C]:', layout=Layout(width='500px'), max=15…"
      ]
     },
     "metadata": {},
     "output_type": "display_data"
    },
    {
     "data": {
      "application/vnd.jupyter.widget-view+json": {
       "model_id": "7c0c387057e146ffa90dcc02938ab91f",
       "version_major": 2,
       "version_minor": 0
      },
      "text/plain": [
       "BoundedFloatText(value=0.3, description='Equivalence Ratio (ER):', layout=Layout(width='500px'), max=1.0, styl…"
      ]
     },
     "metadata": {},
     "output_type": "display_data"
    },
    {
     "data": {
      "application/vnd.jupyter.widget-view+json": {
       "model_id": "498059663fcf480382cfa787f0b65ba1",
       "version_major": 2,
       "version_minor": 0
      },
      "text/plain": [
       "Dropdown(description='Select the operation mode:', layout=Layout(width='500px'), options=('Continuous', 'Batch…"
      ]
     },
     "metadata": {},
     "output_type": "display_data"
    },
    {
     "data": {
      "application/vnd.jupyter.widget-view+json": {
       "model_id": "d6f5e09207c34ffd8a85136d64282d9a",
       "version_major": 2,
       "version_minor": 0
      },
      "text/plain": [
       "Dropdown(description='Is a catalyst used?', layout=Layout(width='500px'), options=('No', 'Yes'), style=Descrip…"
      ]
     },
     "metadata": {},
     "output_type": "display_data"
    },
    {
     "data": {
      "application/vnd.jupyter.widget-view+json": {
       "model_id": "d177dbcc75c440db8efe351f8051ec17",
       "version_major": 2,
       "version_minor": 0
      },
      "text/plain": [
       "Dropdown(description='Select the gasifier scale:', layout=Layout(width='500px'), options=('Lab', 'Pilot'), sty…"
      ]
     },
     "metadata": {},
     "output_type": "display_data"
    },
    {
     "data": {
      "application/vnd.jupyter.widget-view+json": {
       "model_id": "2292bab103344548936c33361f9b73c2",
       "version_major": 2,
       "version_minor": 0
      },
      "text/plain": [
       "Dropdown(description='Select a gasifying agent:', layout=Layout(width='500px'), options=('Air', 'Air + steam',…"
      ]
     },
     "metadata": {},
     "output_type": "display_data"
    },
    {
     "data": {
      "application/vnd.jupyter.widget-view+json": {
       "model_id": "120d463348f342c39984fb9c23b93e53",
       "version_major": 2,
       "version_minor": 0
      },
      "text/plain": [
       "Dropdown(description='Select the reactor type:', layout=Layout(width='500px'), options=('Fixed bed', 'Fluidise…"
      ]
     },
     "metadata": {},
     "output_type": "display_data"
    }
   ],
   "source": [
    "# Operating condition widgets\n",
    "temperature_widget = widgets.BoundedFloatText(min=0,\n",
    "                                              max=1500,\n",
    "                                              style={'description_width': 'initial'},\n",
    "                                              layout={'width':'500px'},\n",
    "                                              description = 'Gasification Temperature [°C]:'\n",
    "                                             )\n",
    "ER_widget = widgets.BoundedFloatText(value=0.3,\n",
    "                                     min=0,\n",
    "                                     max=1,\n",
    "                                     style={'description_width': 'initial'},\n",
    "                                     layout={'width':'500px'},\n",
    "                                     description = 'Equivalence Ratio (ER):'\n",
    "                                    )\n",
    "\n",
    "operation_mode_widget = widgets.Dropdown(options = ['Continuous', 'Batch'],\n",
    "                                         description=\"Select the operation mode:\",\n",
    "                                         style={'description_width': 'initial'},\n",
    "                                         layout={'width':'500px'}\n",
    "                                        )\n",
    "\n",
    "\n",
    "operation_scale_widget = widgets.Dropdown(options = ['Lab', 'Pilot'],\n",
    "                                          description=\"Select the gasifier scale:\",\n",
    "                                          style={'description_width': 'initial'},\n",
    "                                          layout={'width':'500px'}\n",
    "                                         )\n",
    "\n",
    "gasifying_agent_widget = widgets.Dropdown(options = [\"Air\", \"Air + steam\", \"Oxygen\", \"Steam\", \"Other\"],\n",
    "                                          description=\"Select a gasifying agent:\",\n",
    "                                          style={'description_width': 'initial'},\n",
    "                                          layout={'width':'500px'}\n",
    "                                         )\n",
    "\n",
    "reactor_type_widget = widgets.Dropdown(options = ['Fixed bed', 'Fluidised bed', 'Other'],\n",
    "                                       description=\"Select the reactor type:\",\n",
    "                                       style={'description_width': 'initial'},\n",
    "                                       layout={'width':'500px'}\n",
    "                                      )\n",
    "\n",
    "catalyst_widget = widgets.Dropdown(options = ['No', 'Yes'],\n",
    "                                   description=\"Is a catalyst used?\",\n",
    "                                   style={'description_width': 'initial'},\n",
    "                                   layout={'width':'500px'}\n",
    "                                  )\n",
    "\n",
    "# Display widgets\n",
    "display(temperature_widget)\n",
    "display(ER_widget)\n",
    "display(operation_mode_widget)\n",
    "display(catalyst_widget)\n",
    "display(operation_scale_widget)\n",
    "display(gasifying_agent_widget)\n",
    "display(reactor_type_widget)\n"
   ]
  },
  {
   "cell_type": "code",
   "execution_count": 48,
   "metadata": {},
   "outputs": [
    {
     "data": {
      "application/vnd.jupyter.widget-view+json": {
       "model_id": "b9bd1d66a2f44e6ca6a113fad70b8a64",
       "version_major": 2,
       "version_minor": 0
      },
      "text/plain": [
       "Dropdown(description='Select a bed material:', layout=Layout(width='500px'), options=('Silica', 'Alumina', 'Ol…"
      ]
     },
     "metadata": {},
     "output_type": "display_data"
    }
   ],
   "source": [
    "bed_material_widget = widgets.Dropdown(options = [\"Silica\", \"Alumina\", \"Olivine\", \"Other\"],\n",
    "                                             description=\"Select a bed material:\",\n",
    "                                             style={'description_width': 'initial'},\n",
    "                                             layout={'width':'500px'}\n",
    "                                            )\n",
    "\n",
    "# Display bed material widget if reactor type other than fixed bed was selected\n",
    "if reactor_type_widget.value != 'Fixed bed':\n",
    "    display(bed_material_widget)"
   ]
  },
  {
   "cell_type": "code",
   "execution_count": 49,
   "metadata": {},
   "outputs": [],
   "source": [
    "# Reset .toml file with user inputs and prepare for new entries\n",
    "reset_user_inputs_toml()\n",
    "\n",
    "\n",
    "# Write general simulation parameters to .toml file\n",
    "update_user_inputs_toml('iterations_MC', MC_widget.value)\n",
    "update_user_inputs_toml('country', country_widget.value)\n",
    "\n",
    "\n",
    "# Write feedstock information to .toml file\n",
    "# General feedstock information\n",
    "update_user_inputs_toml('feedstock_category', feedstock_category_widget.value)\n",
    "update_user_inputs_toml('feedstock_name', feedstock_name_widget.value)\n",
    "update_user_inputs_toml(\"particle size\",particle_size_widget.value)\n",
    "\n",
    "# Feedstock elemental composition\n",
    "update_user_inputs_toml('carbon content', C_widget.value)\n",
    "update_user_inputs_toml('hydrogen content', H_widget.value)\n",
    "update_user_inputs_toml('sulphur content', S_widget.value)\n",
    "\n",
    "# Feedstock proximate composition\n",
    "update_user_inputs_toml('as received moisture', received_moisture_widget.value)\n",
    "update_user_inputs_toml('desired moisture', desired_moisture_widget.value)\n",
    "update_user_inputs_toml('ash', ash_widget.value)\n",
    "\n",
    "\n",
    "# Write operating conditions to .toml file\n",
    "update_user_inputs_toml('temperature', temperature_widget.value)\n",
    "update_user_inputs_toml('ER', ER_widget.value)\n",
    "update_user_inputs_toml('operation mode', operation_mode_widget.value)\n",
    "update_user_inputs_toml('operation scale', operation_scale_widget.value)\n",
    "update_user_inputs_toml('gasifying agent', gasifying_agent_widget.value)\n",
    "\n",
    "# Convert catalyst use before storing in toml\n",
    "if catalyst_widget.value == 'Yes':\n",
    "    catalyst_value_to_toml = True\n",
    "else:\n",
    "    catalyst_value_to_toml = False\n",
    "update_user_inputs_toml('catalyst', catalyst_value_to_toml)\n",
    "\n",
    "# Convert reactor type before storing in toml\n",
    "if reactor_type_widget.value == 'Fixed bed':\n",
    "    reactor_type_value_to_toml = 'Fixed'\n",
    "elif reactor_type_widget.value == 'Fluidised bed':\n",
    "    reactor_type_value_to_toml = 'Fluidised'\n",
    "else:\n",
    "    reactor_type_value_to_toml = 'Other'\n",
    "update_user_inputs_toml('reactor type', reactor_type_value_to_toml)\n",
    "\n",
    "# Store bed material based on reactor type\n",
    "if reactor_type_widget.value == 'Fixed bed':\n",
    "    update_user_inputs_toml('bed material', 'N/A')\n",
    "else:\n",
    "    update_user_inputs_toml('bed material', bed_material_widget.value)\n"
   ]
  },
  {
   "cell_type": "markdown",
   "metadata": {},
   "source": [
    "### Thanks your LCA results will be calculated.\n"
   ]
  },
  {
   "cell_type": "code",
   "execution_count": 50,
   "metadata": {},
   "outputs": [],
   "source": [
    "# Execute LCA\n",
    "# figure out how to show loading progress bar - Jan has it in his jupyter notebook - can ask him about it.\n",
    "\n",
    "\n"
   ]
  }
 ],
 "metadata": {
  "kernelspec": {
   "display_name": "Python 3 (ipykernel)",
   "language": "python",
   "name": "python3"
  },
  "language_info": {
   "codemirror_mode": {
    "name": "ipython",
    "version": 3
   },
   "file_extension": ".py",
   "mimetype": "text/x-python",
   "name": "python",
   "nbconvert_exporter": "python",
   "pygments_lexer": "ipython3",
   "version": "3.8.13"
  }
 },
 "nbformat": 4,
 "nbformat_minor": 1
}

{
 "cells": [
  {
   "cell_type": "markdown",
   "source": [
    "# Biogenic emissions fractions related to the combustion of various biomass feedstocks."
   ],
   "metadata": {
    "collapsed": false,
    "pycharm": {
     "name": "#%% md\n"
    }
   }
  },
  {
   "cell_type": "code",
   "execution_count": 1,
   "outputs": [],
   "source": [
    "# Data\n",
    "emissions = [120.179, 94.9556, 95.6645, 93.8645, 95.2645]  # [kg CO2eq./mmBtu]\n",
    "biogenic_factor = [118.17, 93.8, 95.5, 93.7, 95.1]  # [kg biogenic CO2 per mmBtu]\n",
    "labels = [\"agricultural byproducts\", \"wood and wood residuals\", \"bagasse\", \"bamboo\", \"straw\"]\n",
    "source = \"EPA, 'Emission Factors for Greenhouse Gas Inventories,' Table 1 Stationary Combustion Emission Factors, \" \\\n",
    "         \"March 9, 2018 (https://www.epa.gov/climateleadership/center-corporate-climate-leadership-ghg-emission\" \\\n",
    "         \"-factors-hub). \""
   ],
   "metadata": {
    "collapsed": false,
    "pycharm": {
     "name": "#%%\n"
    }
   }
  },
  {
   "cell_type": "code",
   "execution_count": 2,
   "outputs": [],
   "source": [
    "# Calculate fraction of non-biogenic emissions for different feedstocks\n",
    "non_biogenic_fraction = [1 - (i / j) for i, j in zip(biogenic_factor, emissions)]"
   ],
   "metadata": {
    "collapsed": false,
    "pycharm": {
     "name": "#%%\n"
    }
   }
  },
  {
   "cell_type": "code",
   "execution_count": 3,
   "outputs": [
    {
     "name": "stdout",
     "output_type": "stream",
     "text": [
      "Non-biogenic emissions fraction from the combustion of agricultural byproducts: 1.6716730876442654 %\n",
      "Non-biogenic emissions fraction from the combustion of wood and wood residuals: 1.216989835249327 %\n",
      "Non-biogenic emissions fraction from the combustion of bagasse: 0.1719551139660047 %\n",
      "Non-biogenic emissions fraction from the combustion of bamboo: 0.1752526247942532 %\n",
      "Non-biogenic emissions fraction from the combustion of straw: 0.17267712526702894 %\n"
     ]
    }
   ],
   "source": [
    "# Show results\n",
    "for count, label in enumerate(labels):\n",
    "    print(\"Non-biogenic emissions fraction from the combustion of {0}: {1} %\".format(label, 100*non_biogenic_fraction[count]))"
   ],
   "metadata": {
    "collapsed": false,
    "pycharm": {
     "name": "#%%\n"
    }
   }
  },
  {
   "cell_type": "markdown",
   "source": [
    "### In the analysis the first two values should be used for agricultural residues and woody biomass respectively, to keep the analysis conservative."
   ],
   "metadata": {
    "collapsed": false,
    "pycharm": {
     "name": "#%% md\n"
    }
   }
  }
 ],
 "metadata": {
  "kernelspec": {
   "display_name": "Python 3",
   "language": "python",
   "name": "python3"
  },
  "language_info": {
   "codemirror_mode": {
    "name": "ipython",
    "version": 2
   },
   "file_extension": ".py",
   "mimetype": "text/x-python",
   "name": "python",
   "nbconvert_exporter": "python",
   "pygments_lexer": "ipython2",
   "version": "2.7.6"
  }
 },
 "nbformat": 4,
 "nbformat_minor": 0
}
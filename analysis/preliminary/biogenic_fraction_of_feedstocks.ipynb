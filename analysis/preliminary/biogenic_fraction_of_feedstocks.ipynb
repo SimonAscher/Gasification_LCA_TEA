{
 "cells": [
  {
   "cell_type": "markdown",
   "source": [
    "# Biogenic emissions fractions related to the combustion of various biomass feedstocks."
   ],
   "metadata": {
    "collapsed": false
   }
  },
  {
   "cell_type": "code",
   "execution_count": 1,
   "outputs": [],
   "source": [
    "# Data\n",
    "emissions = [120.179, 94.9556, 95.6645, 93.8645, 95.2645]  # [kg CO2eq./mmBtu]\n",
    "biogenic_factor = [118.17, 93.8, 95.5, 93.7, 95.1]  # [kg biogenic CO2 per mmBtu]\n",
    "labels = [\"agricultural byproducts\", \"wood and wood residuals\", \"bagasse\", \"bamboo\", \"straw\"]\n",
    "source = \"EPA, 'Emission Factors for Greenhouse Gas Inventories,' Table 1 Stationary Combustion Emission Factors, \" \\\n",
    "         \"March 9, 2018 (https://www.epa.gov/climateleadership/center-corporate-climate-leadership-ghg-emission-factors-hub). \""
   ],
   "metadata": {
    "collapsed": false
   }
  },
  {
   "cell_type": "code",
   "execution_count": 2,
   "outputs": [],
   "source": [
    "# Calculate fraction of non-biogenic emissions for different feedstocks\n",
    "non_biogenic_fraction = [1 - (i / j) for i, j in zip(biogenic_factor, emissions)]"
   ],
   "metadata": {
    "collapsed": false
   }
  },
  {
   "cell_type": "code",
   "execution_count": 3,
   "outputs": [
    {
     "name": "stdout",
     "output_type": "stream",
     "text": [
      "Non-biogenic emissions fraction from the combustion of agricultural byproducts: 1.6716730876442654 %\n",
      "Non-biogenic emissions fraction from the combustion of wood and wood residuals: 1.216989835249327 %\n",
      "Non-biogenic emissions fraction from the combustion of bagasse: 0.1719551139660047 %\n",
      "Non-biogenic emissions fraction from the combustion of bamboo: 0.1752526247942532 %\n",
      "Non-biogenic emissions fraction from the combustion of straw: 0.17267712526702894 %\n"
     ]
    }
   ],
   "source": [
    "# Show results\n",
    "for count, label in enumerate(labels):\n",
    "    print(\"Non-biogenic emissions fraction from the combustion of {0}: {1} %\".format(label, 100*non_biogenic_fraction[count]))"
   ],
   "metadata": {
    "collapsed": false
   }
  },
  {
   "cell_type": "markdown",
   "source": [
    "### In the analysis the first two values should be used for agricultural residues and woody biomass respectively, to keep the analysis conservative."
   ],
   "metadata": {
    "collapsed": false
   }
  },
  {
   "cell_type": "markdown",
   "source": [
    "# Biogenic emissions fractions of municipal solid waste (MSW)\n"
   ],
   "metadata": {
    "collapsed": false
   }
  },
  {
   "cell_type": "code",
   "execution_count": 1,
   "outputs": [],
   "source": [
    "# MSW deemed 61-67% biogenic in\n",
    "MSW_reference_1 = \"Comparison of waste-to-energy technologies of gasification and incineration using life cycle assessment: Case studies in Finland, France and China (https://doi.org/10.1016/j.jclepro.2018.08.139)\"\n",
    "MSW_values_1 = [0.61, 0.67]  # biogenic fraction - rest fossil\n",
    "MSW_reference_2 = \"Life cycle assessment of pyrolysis, gasification and incineration waste-to-energy technologies: Theoretical analysis and case study of commercial plants (https://doi.org/10.1016/j.scitotenv.2018.01.151)\"\n",
    "MSW_values_2 = [0.64]  # biogenic fraction - rest fossil\n"
   ],
   "metadata": {
    "collapsed": false
   }
  }
 ],
 "metadata": {
  "kernelspec": {
   "display_name": "Python 3",
   "language": "python",
   "name": "python3"
  },
  "language_info": {
   "codemirror_mode": {
    "name": "ipython",
    "version": 2
   },
   "file_extension": ".py",
   "mimetype": "text/x-python",
   "name": "python",
   "nbconvert_exporter": "python",
   "pygments_lexer": "ipython2",
   "version": "2.7.6"
  }
 },
 "nbformat": 4,
 "nbformat_minor": 0
}

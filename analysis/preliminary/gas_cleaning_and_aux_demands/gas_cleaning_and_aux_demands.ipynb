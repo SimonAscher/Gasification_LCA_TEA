{
 "cells": [
  {
   "cell_type": "markdown",
   "source": [
    "# Analysis on the auxiliary requirements for gasification and requirements for gas cleaning"
   ],
   "metadata": {
    "collapsed": false
   }
  },
  {
   "cell_type": "code",
   "execution_count": 1,
   "outputs": [],
   "source": [
    "# Fix sys path to root directory so locally defined packages can be found\n",
    "import sys\n",
    "sys.path.append('C:\\\\Users\\\\2270577A\\\\PycharmProjects\\\\PhD_LCA_TEA')  # fix path so I can import local functions etc."
   ],
   "metadata": {
    "collapsed": false,
    "ExecuteTime": {
     "end_time": "2023-06-27T15:05:49.854484200Z",
     "start_time": "2023-06-27T15:05:49.840332500Z"
    }
   }
  },
  {
   "cell_type": "code",
   "execution_count": 2,
   "outputs": [],
   "source": [
    "import pickle\n",
    "\n",
    "import pandas as pd\n",
    "import numpy as np\n",
    "\n",
    "from functions.general.utility import reject_outliers\n",
    "from objects import triangular_dist_maker\n"
   ],
   "metadata": {
    "collapsed": false,
    "ExecuteTime": {
     "end_time": "2023-06-27T15:05:52.844702900Z",
     "start_time": "2023-06-27T15:05:49.857991400Z"
    }
   }
  },
  {
   "cell_type": "markdown",
   "source": [
    "### Reference 1:"
   ],
   "metadata": {
    "collapsed": false
   }
  },
  {
   "cell_type": "code",
   "execution_count": 3,
   "outputs": [
    {
     "name": "stdout",
     "output_type": "stream",
     "text": [
      "Auxiliary requirements as fraction of biomass input: 2.0 %\n"
     ]
    }
   ],
   "source": [
    "# Synthetic natural gas production via allothermal biomass gasification\n",
    "ref1 = \"https://doi.org/10.1002/er.2933\"\n",
    "biomass_input = 500  # kW\n",
    "aux_power = 10  # kW\n",
    "aux_fraction = aux_power / biomass_input  # as fraction of biomass input. Note: Uses power not energy.\n",
    "print(\"Auxiliary requirements as fraction of biomass input:\", aux_fraction*100, \"%\")\n"
   ],
   "metadata": {
    "collapsed": false,
    "ExecuteTime": {
     "end_time": "2023-06-27T15:05:52.861251600Z",
     "start_time": "2023-06-27T15:05:52.845701Z"
    }
   }
  },
  {
   "cell_type": "markdown",
   "source": [
    "### Reference 2:"
   ],
   "metadata": {
    "collapsed": false
   }
  },
  {
   "cell_type": "code",
   "execution_count": 4,
   "outputs": [
    {
     "data": {
      "text/plain": "               Exergy fuel [kW]  Exergy loss gas cleaning [kW]  \\\nBattelle LTGC          12226.71                         254.51   \nBattelle HTGC          12226.71                         385.06   \nVaernamo LTGC          11762.67                        1546.21   \nVaernamo HTGC          11762.67                         618.76   \nFICFB LTGC             11827.50                         343.52   \nFICFB HTGC             11827.50                         172.74   \n\n               Gas cleaning exergy fraction  \nBattelle LTGC                      0.020816  \nBattelle HTGC                      0.031493  \nVaernamo LTGC                      0.131451  \nVaernamo HTGC                      0.052604  \nFICFB LTGC                         0.029044  \nFICFB HTGC                         0.014605  ",
      "text/html": "<div>\n<style scoped>\n    .dataframe tbody tr th:only-of-type {\n        vertical-align: middle;\n    }\n\n    .dataframe tbody tr th {\n        vertical-align: top;\n    }\n\n    .dataframe thead th {\n        text-align: right;\n    }\n</style>\n<table border=\"1\" class=\"dataframe\">\n  <thead>\n    <tr style=\"text-align: right;\">\n      <th></th>\n      <th>Exergy fuel [kW]</th>\n      <th>Exergy loss gas cleaning [kW]</th>\n      <th>Gas cleaning exergy fraction</th>\n    </tr>\n  </thead>\n  <tbody>\n    <tr>\n      <th>Battelle LTGC</th>\n      <td>12226.71</td>\n      <td>254.51</td>\n      <td>0.020816</td>\n    </tr>\n    <tr>\n      <th>Battelle HTGC</th>\n      <td>12226.71</td>\n      <td>385.06</td>\n      <td>0.031493</td>\n    </tr>\n    <tr>\n      <th>Vaernamo LTGC</th>\n      <td>11762.67</td>\n      <td>1546.21</td>\n      <td>0.131451</td>\n    </tr>\n    <tr>\n      <th>Vaernamo HTGC</th>\n      <td>11762.67</td>\n      <td>618.76</td>\n      <td>0.052604</td>\n    </tr>\n    <tr>\n      <th>FICFB LTGC</th>\n      <td>11827.50</td>\n      <td>343.52</td>\n      <td>0.029044</td>\n    </tr>\n    <tr>\n      <th>FICFB HTGC</th>\n      <td>11827.50</td>\n      <td>172.74</td>\n      <td>0.014605</td>\n    </tr>\n  </tbody>\n</table>\n</div>"
     },
     "execution_count": 4,
     "metadata": {},
     "output_type": "execute_result"
    }
   ],
   "source": [
    "# Exergy analysis of hydrogen production plants based on biomass gasification\n",
    "ref2 = \"https://doi.org/10.1016/j.ijhydene.2008.05.059\"\n",
    "# Battelle, Vaernamo, and FICFB systems used for reference\n",
    "\n",
    "exergy_data = pd.DataFrame({\"Battelle LTGC\": {\"Exergy fuel [kW]\": 12226.71, \"Exergy loss gas cleaning [kW]\": 254.51},\n",
    "                            \"Battelle HTGC\": {\"Exergy fuel [kW]\": 12226.71, \"Exergy loss gas cleaning [kW]\": 385.06},\n",
    "                            \"Vaernamo LTGC\": {\"Exergy fuel [kW]\": 11762.67, \"Exergy loss gas cleaning [kW]\": 1546.21},\n",
    "                            \"Vaernamo HTGC\": {\"Exergy fuel [kW]\": 11762.67, \"Exergy loss gas cleaning [kW]\": 618.76},\n",
    "                            \"FICFB LTGC\": {\"Exergy fuel [kW]\": 11827.5, \"Exergy loss gas cleaning [kW]\": 343.52},\n",
    "                            \"FICFB HTGC\": {\"Exergy fuel [kW]\": 11827.5, \"Exergy loss gas cleaning [kW]\": 172.74}\n",
    "                            }).transpose()\n",
    "\n",
    "exergy_data[\"Gas cleaning exergy fraction\"] = exergy_data[\"Exergy loss gas cleaning [kW]\"] / exergy_data[\"Exergy fuel [kW]\"]\n",
    "\n",
    "# Display data\n",
    "exergy_data\n"
   ],
   "metadata": {
    "collapsed": false,
    "ExecuteTime": {
     "end_time": "2023-06-27T15:05:52.934430900Z",
     "start_time": "2023-06-27T15:05:52.866915200Z"
    }
   }
  },
  {
   "cell_type": "code",
   "execution_count": 5,
   "outputs": [
    {
     "name": "stdout",
     "output_type": "stream",
     "text": [
      "Auxiliary requirements as fraction of biomass input [%]:\n"
     ]
    },
    {
     "data": {
      "text/plain": "Battelle LTGC     2.081590\nBattelle HTGC     3.149335\nVaernamo LTGC    13.145060\nVaernamo HTGC     5.260370\nFICFB LTGC        2.904418\nFICFB HTGC        1.460495\nName: Gas cleaning exergy fraction, dtype: float64"
     },
     "execution_count": 5,
     "metadata": {},
     "output_type": "execute_result"
    }
   ],
   "source": [
    "print(\"Auxiliary requirements as fraction of biomass input [%]:\")\n",
    "exergy_data[\"Gas cleaning exergy fraction\"] * 100\n"
   ],
   "metadata": {
    "collapsed": false,
    "ExecuteTime": {
     "end_time": "2023-06-27T15:05:52.945697100Z",
     "start_time": "2023-06-27T15:05:52.882079200Z"
    }
   }
  },
  {
   "cell_type": "code",
   "execution_count": 6,
   "outputs": [
    {
     "name": "stdout",
     "output_type": "stream",
     "text": [
      "Mean auxiliary requirements as fraction of biomass input before removing outliers: 4.666877849076176 %\n",
      "Mean auxiliary requirements as fraction of biomass input after removing outliers: 2.9712414683733748 %\n"
     ]
    }
   ],
   "source": [
    "# Show mean requirements\n",
    "print(\"Mean auxiliary requirements as fraction of biomass input before removing outliers:\", np.mean(exergy_data[\"Gas cleaning exergy fraction\"] * 100), \"%\")\n",
    "print(\"Mean auxiliary requirements as fraction of biomass input after removing outliers:\",np.mean(reject_outliers(exergy_data[\"Gas cleaning exergy fraction\"] * 100, 2)), \"%\")\n"
   ],
   "metadata": {
    "collapsed": false,
    "ExecuteTime": {
     "end_time": "2023-06-27T15:05:52.999794100Z",
     "start_time": "2023-06-27T15:05:52.905722200Z"
    }
   }
  },
  {
   "cell_type": "markdown",
   "source": [
    "### Reference 3:"
   ],
   "metadata": {
    "collapsed": false
   }
  },
  {
   "cell_type": "code",
   "execution_count": 7,
   "outputs": [
    {
     "name": "stdout",
     "output_type": "stream",
     "text": [
      "Feedstock power: 245 kW\n",
      "Auxiliary power: 5.88 kW\n",
      "Auxiliary power as fraction of feedstock input: 2.4 %\n"
     ]
    }
   ],
   "source": [
    "ref3 = [\"https://www.espegroup.com/en/biomass/co-generator-and-biomass/#1614073795532-4ecca7b6-c1aa\", \"accessed on 27.06.2023\"]\n",
    "# from section \"Why choose CHiP50\"\n",
    "electricity_self_consumption = 0.12  # of all electricity produced\n",
    "power_el = 49 # kWe\n",
    "aux_power = power_el * electricity_self_consumption\n",
    "feed_rate = 49 # kg wood chip per hour\n",
    "feed_LHV = 5 # kWh/kg (i.e. 18 MJ)  estimated based on lowest allowed LHV of wood chips\n",
    "feedstock_power = feed_LHV * feed_rate\n",
    "aux_power_fraction = aux_power / feedstock_power\n",
    "print(\"Feedstock power:\", feedstock_power, \"kW\")\n",
    "print(\"Auxiliary power:\", aux_power, \"kW\")\n",
    "print(\"Auxiliary power as fraction of feedstock input:\", aux_power_fraction * 100, \"%\")"
   ],
   "metadata": {
    "collapsed": false,
    "ExecuteTime": {
     "end_time": "2023-06-27T15:05:52.999794100Z",
     "start_time": "2023-06-27T15:05:52.934430900Z"
    }
   }
  },
  {
   "cell_type": "markdown",
   "source": [
    "### Summary\n",
    "- In general auxiliary demands and demands for syngas cleaning are very low.\n",
    "- Mostly in the range of 2-5% of energy contained in the biomass input.\n",
    "- A single outlier is as high as 13%.\n",
    "- It can be assumed that the required energy is in the form of electricity to operate pumps, compressors, etc.\n",
    "- A triangular distributions defined by a lower, mode, and upper boundary of 1.5, 3, and 5% respectively may best represent the auxiliary requirements."
   ],
   "metadata": {
    "collapsed": false
   }
  },
  {
   "cell_type": "code",
   "execution_count": 8,
   "outputs": [],
   "source": [
    "# Prepare output and store in pickle file\n",
    "requirements_triangular = triangular_dist_maker(lower=0.015, mode=0.03, upper=0.05)\n",
    "\n",
    "# Store results\n",
    "with open(r\"results\\gasification_aux_demands_results\", \"wb\") as f:\n",
    "    pickle.dump(requirements_triangular, f)\n",
    "\n",
    "# Also save to data folder\n",
    "with open(r\"C:\\Users\\2270577A\\PycharmProjects\\PhD_LCA_TEA\\data\\gasification_aux_demands_results\", \"wb\") as f:\n",
    "    pickle.dump(requirements_triangular, f)"
   ],
   "metadata": {
    "collapsed": false,
    "ExecuteTime": {
     "end_time": "2023-06-27T15:05:53.025133300Z",
     "start_time": "2023-06-27T15:05:52.940295800Z"
    }
   }
  },
  {
   "cell_type": "code",
   "execution_count": 9,
   "outputs": [],
   "source": [
    "# Also store data as toml file\n",
    "import toml\n",
    "from functions.general.utility import get_project_root\n",
    "\n",
    "toml_output = {\"electricity_dist_maker\": {\"lower\": requirements_triangular.lower,\n",
    "                                   \"mode\": requirements_triangular.mode,\n",
    "                                   \"upper\": requirements_triangular.upper\n",
    "                                   }\n",
    "               }\n",
    "\n",
    "project_root = get_project_root()\n",
    "file_name = str(project_root) + r\"\\data\\gasification_aux_electricity_demands_results.toml\"\n",
    "with open(file_name, \"w\") as toml_file:\n",
    "    toml.dump(toml_output, toml_file)\n"
   ],
   "metadata": {
    "collapsed": false,
    "ExecuteTime": {
     "end_time": "2023-06-27T15:05:53.114559500Z",
     "start_time": "2023-06-27T15:05:52.953742200Z"
    }
   }
  },
  {
   "cell_type": "markdown",
   "source": [],
   "metadata": {
    "collapsed": false
   }
  }
 ],
 "metadata": {
  "kernelspec": {
   "display_name": "Python 3",
   "language": "python",
   "name": "python3"
  },
  "language_info": {
   "codemirror_mode": {
    "name": "ipython",
    "version": 2
   },
   "file_extension": ".py",
   "mimetype": "text/x-python",
   "name": "python",
   "nbconvert_exporter": "python",
   "pygments_lexer": "ipython2",
   "version": "2.7.6"
  }
 },
 "nbformat": 4,
 "nbformat_minor": 0
}

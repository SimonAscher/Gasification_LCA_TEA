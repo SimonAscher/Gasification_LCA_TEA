{
 "cells": [
  {
   "cell_type": "markdown",
   "source": [
    "# Analysis on the auxiliary requirements for gasification and requirements for gas cleaning"
   ],
   "metadata": {
    "collapsed": false
   }
  },
  {
   "cell_type": "code",
   "execution_count": 1,
   "outputs": [],
   "source": [
    "# Fix sys path to root directory so locally defined packages can be found\n",
    "import sys\n",
    "sys.path.append('C:\\\\Users\\\\2270577A\\\\PycharmProjects\\\\PhD_LCA_TEA')  # fix path so I can import local functions etc."
   ],
   "metadata": {
    "collapsed": false,
    "ExecuteTime": {
     "start_time": "2023-04-14T10:40:37.394592Z",
     "end_time": "2023-04-14T10:40:37.415536Z"
    }
   }
  },
  {
   "cell_type": "code",
   "execution_count": 2,
   "outputs": [],
   "source": [
    "import pickle\n",
    "\n",
    "import pandas as pd\n",
    "import numpy as np\n",
    "\n",
    "from functions.general.utility import reject_outliers\n",
    "from objects import triangular_dist_maker\n"
   ],
   "metadata": {
    "collapsed": false,
    "ExecuteTime": {
     "start_time": "2023-04-14T10:40:37.403568Z",
     "end_time": "2023-04-14T10:40:40.429507Z"
    }
   }
  },
  {
   "cell_type": "markdown",
   "source": [
    "### Reference 1:"
   ],
   "metadata": {
    "collapsed": false
   }
  },
  {
   "cell_type": "code",
   "execution_count": 3,
   "outputs": [
    {
     "name": "stdout",
     "output_type": "stream",
     "text": [
      "Auxiliary requirements as fraction of biomass input: 2.0 %\n"
     ]
    }
   ],
   "source": [
    "# Synthetic natural gas production via allothermal biomass gasification\n",
    "ref1 = \"https://doi.org/10.1002/er.2933\"\n",
    "biomass_input = 500  # kW\n",
    "aux_power = 10  # kW\n",
    "aux_fraction = aux_power / biomass_input  # as fraction of biomass input. Note: Uses power not energy.\n",
    "print(\"Auxiliary requirements as fraction of biomass input:\", aux_fraction*100, \"%\")\n"
   ],
   "metadata": {
    "collapsed": false,
    "ExecuteTime": {
     "start_time": "2023-04-14T10:40:40.432498Z",
     "end_time": "2023-04-14T10:40:40.446460Z"
    }
   }
  },
  {
   "cell_type": "markdown",
   "source": [
    "### Reference 2:"
   ],
   "metadata": {
    "collapsed": false
   }
  },
  {
   "cell_type": "code",
   "execution_count": 4,
   "outputs": [
    {
     "data": {
      "text/plain": "               Exergy fuel [kW]  Exergy loss gas cleaning [kW]  \\\nBattelle LTGC          12226.71                         254.51   \nBattelle HTGC          12226.71                         385.06   \nVaernamo LTGC          11762.67                        1546.21   \nVaernamo HTGC          11762.67                         618.76   \nFICFB LTGC             11827.50                         343.52   \nFICFB HTGC             11827.50                         172.74   \n\n               Gas cleaning exergy fraction  \nBattelle LTGC                      0.020816  \nBattelle HTGC                      0.031493  \nVaernamo LTGC                      0.131451  \nVaernamo HTGC                      0.052604  \nFICFB LTGC                         0.029044  \nFICFB HTGC                         0.014605  ",
      "text/html": "<div>\n<style scoped>\n    .dataframe tbody tr th:only-of-type {\n        vertical-align: middle;\n    }\n\n    .dataframe tbody tr th {\n        vertical-align: top;\n    }\n\n    .dataframe thead th {\n        text-align: right;\n    }\n</style>\n<table border=\"1\" class=\"dataframe\">\n  <thead>\n    <tr style=\"text-align: right;\">\n      <th></th>\n      <th>Exergy fuel [kW]</th>\n      <th>Exergy loss gas cleaning [kW]</th>\n      <th>Gas cleaning exergy fraction</th>\n    </tr>\n  </thead>\n  <tbody>\n    <tr>\n      <th>Battelle LTGC</th>\n      <td>12226.71</td>\n      <td>254.51</td>\n      <td>0.020816</td>\n    </tr>\n    <tr>\n      <th>Battelle HTGC</th>\n      <td>12226.71</td>\n      <td>385.06</td>\n      <td>0.031493</td>\n    </tr>\n    <tr>\n      <th>Vaernamo LTGC</th>\n      <td>11762.67</td>\n      <td>1546.21</td>\n      <td>0.131451</td>\n    </tr>\n    <tr>\n      <th>Vaernamo HTGC</th>\n      <td>11762.67</td>\n      <td>618.76</td>\n      <td>0.052604</td>\n    </tr>\n    <tr>\n      <th>FICFB LTGC</th>\n      <td>11827.50</td>\n      <td>343.52</td>\n      <td>0.029044</td>\n    </tr>\n    <tr>\n      <th>FICFB HTGC</th>\n      <td>11827.50</td>\n      <td>172.74</td>\n      <td>0.014605</td>\n    </tr>\n  </tbody>\n</table>\n</div>"
     },
     "execution_count": 4,
     "metadata": {},
     "output_type": "execute_result"
    }
   ],
   "source": [
    "# Exergy analysis of hydrogen production plants based on biomass gasification\n",
    "ref2 = \"https://doi.org/10.1016/j.ijhydene.2008.05.059\"\n",
    "# Battelle, Vaernamo, and FICFB systems used for reference\n",
    "\n",
    "exergy_data = pd.DataFrame({\"Battelle LTGC\": {\"Exergy fuel [kW]\": 12226.71, \"Exergy loss gas cleaning [kW]\": 254.51},\n",
    "                            \"Battelle HTGC\": {\"Exergy fuel [kW]\": 12226.71, \"Exergy loss gas cleaning [kW]\": 385.06},\n",
    "                            \"Vaernamo LTGC\": {\"Exergy fuel [kW]\": 11762.67, \"Exergy loss gas cleaning [kW]\": 1546.21},\n",
    "                            \"Vaernamo HTGC\": {\"Exergy fuel [kW]\": 11762.67, \"Exergy loss gas cleaning [kW]\": 618.76},\n",
    "                            \"FICFB LTGC\": {\"Exergy fuel [kW]\": 11827.5, \"Exergy loss gas cleaning [kW]\": 343.52},\n",
    "                            \"FICFB HTGC\": {\"Exergy fuel [kW]\": 11827.5, \"Exergy loss gas cleaning [kW]\": 172.74}\n",
    "                            }).transpose()\n",
    "\n",
    "exergy_data[\"Gas cleaning exergy fraction\"] = exergy_data[\"Exergy loss gas cleaning [kW]\"] / exergy_data[\"Exergy fuel [kW]\"]\n",
    "\n",
    "# Display data\n",
    "exergy_data\n"
   ],
   "metadata": {
    "collapsed": false,
    "ExecuteTime": {
     "start_time": "2023-04-14T10:40:40.448456Z",
     "end_time": "2023-04-14T10:40:40.490343Z"
    }
   }
  },
  {
   "cell_type": "code",
   "execution_count": 5,
   "outputs": [
    {
     "name": "stdout",
     "output_type": "stream",
     "text": [
      "Auxiliary requirements as fraction of biomass input [%]:\n"
     ]
    },
    {
     "data": {
      "text/plain": "Battelle LTGC     2.081590\nBattelle HTGC     3.149335\nVaernamo LTGC    13.145060\nVaernamo HTGC     5.260370\nFICFB LTGC        2.904418\nFICFB HTGC        1.460495\nName: Gas cleaning exergy fraction, dtype: float64"
     },
     "execution_count": 5,
     "metadata": {},
     "output_type": "execute_result"
    }
   ],
   "source": [
    "print(\"Auxiliary requirements as fraction of biomass input [%]:\")\n",
    "exergy_data[\"Gas cleaning exergy fraction\"] * 100\n"
   ],
   "metadata": {
    "collapsed": false,
    "ExecuteTime": {
     "start_time": "2023-04-14T10:40:40.462419Z",
     "end_time": "2023-04-14T10:40:40.521260Z"
    }
   }
  },
  {
   "cell_type": "code",
   "execution_count": 6,
   "outputs": [
    {
     "name": "stdout",
     "output_type": "stream",
     "text": [
      "Mean auxiliary requirements as fraction of biomass input before removing outliers: 4.666877849076176 %\n",
      "Mean auxiliary requirements as fraction of biomass input after removing outliers: 2.9712414683733748 %\n"
     ]
    }
   ],
   "source": [
    "# Show mean requirements\n",
    "print(\"Mean auxiliary requirements as fraction of biomass input before removing outliers:\", np.mean(exergy_data[\"Gas cleaning exergy fraction\"] * 100), \"%\")\n",
    "print(\"Mean auxiliary requirements as fraction of biomass input after removing outliers:\",np.mean(reject_outliers(exergy_data[\"Gas cleaning exergy fraction\"] * 100, 2)), \"%\")\n"
   ],
   "metadata": {
    "collapsed": false,
    "ExecuteTime": {
     "start_time": "2023-04-14T10:40:40.478377Z",
     "end_time": "2023-04-14T10:40:40.534258Z"
    }
   }
  },
  {
   "cell_type": "markdown",
   "source": [
    "### Summary\n",
    "- In general auxiliary demands and demands for syngas cleaning are very low.\n",
    "- Mostly in the range of 2-5% of energy contained in the biomass input.\n",
    "- A single outlier is as high as 13%.\n",
    "- It can be assumed that the required energy is in the form of electricity to operate pumps, compressors, etc.\n",
    "- A triangular distributions defined by a lower, mode, and upper boundary of 1.5, 3, and 5% respectively may best represent the auxiliary requirements."
   ],
   "metadata": {
    "collapsed": false
   }
  },
  {
   "cell_type": "code",
   "execution_count": 7,
   "outputs": [],
   "source": [
    "# Prepare output and store in pickle file\n",
    "requirements_triangular = triangular_dist_maker(lower=0.015, mode=0.03, upper=0.05)\n",
    "\n",
    "# Store results\n",
    "with open(r\"results\\gasification_aux_demands_results\", \"wb\") as f:\n",
    "    pickle.dump(requirements_triangular, f)\n",
    "\n",
    "# Also save to data folder\n",
    "with open(r\"C:\\Users\\2270577A\\PycharmProjects\\PhD_LCA_TEA\\data\\gasification_aux_demands_results\", \"wb\") as f:\n",
    "    pickle.dump(requirements_triangular, f)"
   ],
   "metadata": {
    "collapsed": false,
    "ExecuteTime": {
     "start_time": "2023-04-14T10:40:40.494334Z",
     "end_time": "2023-04-14T10:40:40.568167Z"
    }
   }
  },
  {
   "cell_type": "code",
   "execution_count": 8,
   "outputs": [],
   "source": [
    "# Also store data as toml file\n",
    "import toml\n",
    "from functions.general.utility import get_project_root\n",
    "\n",
    "toml_output = {\"electricity_dist_maker\": {\"lower\": requirements_triangular.lower,\n",
    "                                   \"mode\": requirements_triangular.mode,\n",
    "                                   \"upper\": requirements_triangular.upper\n",
    "                                   }\n",
    "               }\n",
    "\n",
    "project_root = get_project_root()\n",
    "file_name = str(project_root) + r\"\\data\\gasification_aux_electricity_demands_results.toml\"\n",
    "with open(file_name, \"w\") as toml_file:\n",
    "    toml.dump(toml_output, toml_file)\n"
   ],
   "metadata": {
    "collapsed": false,
    "ExecuteTime": {
     "start_time": "2023-04-14T10:40:40.510290Z",
     "end_time": "2023-04-14T10:40:40.614590Z"
    }
   }
  },
  {
   "cell_type": "markdown",
   "source": [],
   "metadata": {
    "collapsed": false
   }
  }
 ],
 "metadata": {
  "kernelspec": {
   "display_name": "Python 3",
   "language": "python",
   "name": "python3"
  },
  "language_info": {
   "codemirror_mode": {
    "name": "ipython",
    "version": 2
   },
   "file_extension": ".py",
   "mimetype": "text/x-python",
   "name": "python",
   "nbconvert_exporter": "python",
   "pygments_lexer": "ipython2",
   "version": "2.7.6"
  }
 },
 "nbformat": 4,
 "nbformat_minor": 0
}

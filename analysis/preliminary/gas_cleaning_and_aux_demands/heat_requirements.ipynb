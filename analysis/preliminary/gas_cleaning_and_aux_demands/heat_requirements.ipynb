{
 "cells": [
  {
   "cell_type": "markdown",
   "source": [
    "# Gasification auxiliary heat requirements"
   ],
   "metadata": {
    "collapsed": false
   }
  },
  {
   "cell_type": "code",
   "execution_count": 2,
   "outputs": [],
   "source": [
    "# Fix sys path to root directory so locally defined packages can be found\n",
    "import sys\n",
    "sys.path.append('C:\\\\Users\\\\2270577A\\\\PycharmProjects\\\\PhD_LCA_TEA')  # fix path so I can import local functions etc."
   ],
   "metadata": {
    "collapsed": false
   }
  },
  {
   "cell_type": "code",
   "execution_count": 10,
   "outputs": [],
   "source": [
    "import pickle\n",
    "\n",
    "import matplotlib.pyplot as plt\n",
    "\n",
    "from functions.MonteCarloSimulation import get_distribution_draws\n",
    "from configs import gaussian_dist_maker"
   ],
   "metadata": {
    "collapsed": false
   }
  },
  {
   "cell_type": "code",
   "execution_count": 12,
   "outputs": [],
   "source": [
    "# Little data available but 10.1016/j.energy.2019.05.191 states 20% of heat used for auxiliary\n",
    "\n",
    "heat_fraction = 0.20\n",
    "heat_std = 0.20 * 0.20  # estimate std\n",
    "heat_dist_maker = gaussian_dist_maker(mean=heat_fraction, std=heat_std)\n",
    "\n",
    "heat_distribution = get_distribution_draws(distribution_maker=heat_dist_maker, length_array=1000)\n"
   ],
   "metadata": {
    "collapsed": false
   }
  },
  {
   "cell_type": "code",
   "execution_count": 13,
   "outputs": [
    {
     "data": {
      "text/plain": "<Figure size 432x288 with 1 Axes>",
      "image/png": "[encoded data removed]"
     },
     "metadata": {
      "needs_background": "light"
     },
     "output_type": "display_data"
    }
   ],
   "source": [
    "# Show estimated distribution\n",
    "\n",
    "plt.hist(heat_distribution)\n",
    "plt.show()"
   ],
   "metadata": {
    "collapsed": false
   }
  },
  {
   "cell_type": "code",
   "execution_count": 14,
   "outputs": [],
   "source": [
    "# Store results\n",
    "with open(r\"results\\gasification_aux_heat_demands_results\", \"wb\") as f:\n",
    "    pickle.dump(heat_dist_maker, f)\n",
    "\n",
    "# Also save to data folder\n",
    "with open(r\"C:\\Users\\2270577A\\PycharmProjects\\PhD_LCA_TEA\\data\\gasification_aux_heat_demands_results\", \"wb\") as f:\n",
    "    pickle.dump(heat_dist_maker, f)"
   ],
   "metadata": {
    "collapsed": false
   }
  }
 ],
 "metadata": {
  "kernelspec": {
   "display_name": "Python 3",
   "language": "python",
   "name": "python3"
  },
  "language_info": {
   "codemirror_mode": {
    "name": "ipython",
    "version": 2
   },
   "file_extension": ".py",
   "mimetype": "text/x-python",
   "name": "python",
   "nbconvert_exporter": "python",
   "pygments_lexer": "ipython2",
   "version": "2.7.6"
  }
 },
 "nbformat": 4,
 "nbformat_minor": 0
}

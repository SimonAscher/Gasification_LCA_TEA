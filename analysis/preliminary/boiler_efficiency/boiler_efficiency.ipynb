{
 "cells": [
  {
   "cell_type": "code",
   "execution_count": 12,
   "outputs": [],
   "source": [
    "# Fix sys path to root directory so locally defined packages can be found\n",
    "import pickle\n",
    "import sys\n",
    "sys.path.append('C:\\\\Users\\\\2270577A\\\\PycharmProjects\\\\PhD_LCA_TEA')  # fix path so I can import local functions etc.\n",
    "\n",
    "from configs import triangular\n"
   ],
   "metadata": {
    "collapsed": false
   }
  },
  {
   "cell_type": "code",
   "execution_count": 13,
   "metadata": {
    "collapsed": true
   },
   "outputs": [],
   "source": [
    "# Collect efficiency data from literature\n",
    "\n",
    "data1 = [79.15, 85.89]  # biomass, coal\n",
    "reference1 = \"Wienese A. Boilers, Boiler Fuel and Boiler Efficiency. Proc S Afr Sug Technol Ass 2001;75:275–81.\"\n",
    "\n",
    "data2 = 80  # coal\n",
    "reference2 = \"10.1007/978-981-19-1457-7_55\"\n",
    "\n",
    "data3 = [86.95, 76.08]  # oil, natural gas\n",
    "reference3 = \"10.1002/ep.13161\"\n",
    "\n",
    "data4 = {\"natural gas\": [94,95],\n",
    "        \"oil\": [92,95],\n",
    "        \"coal\": [88,92],\n",
    "        \"wood chips\": [87,91],\n",
    "        \"bark\": [85,90],\n",
    "        \"peat\": [85,89],\n",
    "        }\n",
    "reference4 = \"10.1016/b978-0-12-804389-9.00003-4\"\n",
    "# Note: natural gas typically higher than others\n",
    "\n",
    "data5 = [90.98, 91.84]  # coal\n",
    "reference5 = \"10.1016/j.energy.2020.117221\"\n",
    "# Note: Typical values of over 90%\n"
   ]
  },
  {
   "cell_type": "code",
   "execution_count": 14,
   "outputs": [],
   "source": [
    "# Create distribution object based on literature data\n",
    "distribution_object = triangular(lower=0.7608, mode=0.90, upper=0.9500)\n"
   ],
   "metadata": {
    "collapsed": false
   }
  },
  {
   "cell_type": "code",
   "execution_count": 15,
   "outputs": [],
   "source": [
    "# Prepare output\n",
    "boiler_output = {\"triangular distribution values\": distribution_object,\n",
    "                 \"references\": [\"10.1002/ep.13161\",\n",
    "                                \"10.1016/j.energy.2020.117221\",\n",
    "                                \"10.1016/b978-0-12-804389-9.00003-4\"],\n",
    "                 \"fuel type\": \"natural gas\"\n",
    "                 }\n",
    "\n",
    "# Store output\n",
    "with open(r\"results\\boiler_efficiency_results\", \"wb\") as f:\n",
    "    pickle.dump(boiler_output, f)\n",
    "\n",
    "# Also save to data folder\n",
    "with open(r\"C:\\Users\\2270577A\\PycharmProjects\\PhD_LCA_TEA\\data\\boiler_efficiency_results\", \"wb\") as f:\n",
    "    pickle.dump(boiler_output, f)\n"
   ],
   "metadata": {
    "collapsed": false
   }
  }
 ],
 "metadata": {
  "kernelspec": {
   "display_name": "Python 3",
   "language": "python",
   "name": "python3"
  },
  "language_info": {
   "codemirror_mode": {
    "name": "ipython",
    "version": 2
   },
   "file_extension": ".py",
   "mimetype": "text/x-python",
   "name": "python",
   "nbconvert_exporter": "python",
   "pygments_lexer": "ipython2",
   "version": "2.7.6"
  }
 },
 "nbformat": 4,
 "nbformat_minor": 0
}

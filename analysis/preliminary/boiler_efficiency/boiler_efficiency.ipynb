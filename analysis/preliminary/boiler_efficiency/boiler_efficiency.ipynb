{
 "cells": [
  {
   "cell_type": "code",
   "execution_count": 1,
   "outputs": [],
   "source": [
    "# Fix sys path to root directory so locally defined packages can be found\n",
    "import pickle\n",
    "import sys\n",
    "sys.path.append('C:\\\\Users\\\\2270577A\\\\PycharmProjects\\\\PhD_LCA_TEA')  # fix path so I can import local functions etc.\n",
    "\n",
    "from objects import triangular_dist_maker\n"
   ],
   "metadata": {
    "collapsed": false,
    "ExecuteTime": {
     "start_time": "2023-04-14T10:34:18.614000Z",
     "end_time": "2023-04-14T10:34:21.707290Z"
    }
   }
  },
  {
   "cell_type": "code",
   "execution_count": 2,
   "metadata": {
    "collapsed": true,
    "ExecuteTime": {
     "start_time": "2023-04-14T10:34:21.708288Z",
     "end_time": "2023-04-14T10:34:21.723252Z"
    }
   },
   "outputs": [],
   "source": [
    "# Collect efficiency data from literature\n",
    "\n",
    "data1 = [79.15, 85.89]  # biomass, coal\n",
    "reference1 = \"Wienese A. Boilers, Boiler Fuel and Boiler Efficiency. Proc S Afr Sug Technol Ass 2001;75:275–81.\"\n",
    "\n",
    "data2 = 80  # coal\n",
    "reference2 = \"10.1007/978-981-19-1457-7_55\"\n",
    "\n",
    "data3 = [86.95, 76.08]  # oil, natural gas\n",
    "reference3 = \"10.1002/ep.13161\"\n",
    "\n",
    "data4 = {\"natural gas\": [94,95],\n",
    "        \"oil\": [92,95],\n",
    "        \"coal\": [88,92],\n",
    "        \"wood chips\": [87,91],\n",
    "        \"bark\": [85,90],\n",
    "        \"peat\": [85,89],\n",
    "        }\n",
    "reference4 = \"10.1016/b978-0-12-804389-9.00003-4\"\n",
    "# Note: natural gas typically higher than others\n",
    "\n",
    "data5 = [90.98, 91.84]  # coal\n",
    "reference5 = \"10.1016/j.energy.2020.117221\"\n",
    "# Note: Typical values of over 90%\n"
   ]
  },
  {
   "cell_type": "code",
   "execution_count": 3,
   "outputs": [],
   "source": [
    "# Create distribution object based on literature data\n",
    "distribution_object = triangular_dist_maker(lower=0.7608, mode=0.90, upper=0.9500)\n"
   ],
   "metadata": {
    "collapsed": false,
    "ExecuteTime": {
     "start_time": "2023-04-14T10:34:21.725259Z",
     "end_time": "2023-04-14T10:34:21.742209Z"
    }
   }
  },
  {
   "cell_type": "code",
   "execution_count": 4,
   "outputs": [],
   "source": [
    "# Prepare output\n",
    "boiler_output = {\"triangular distribution object\": distribution_object,\n",
    "                 \"references\": [\"10.1002/ep.13161\",\n",
    "                                \"10.1016/j.energy.2020.117221\",\n",
    "                                \"10.1016/b978-0-12-804389-9.00003-4\"],\n",
    "                 \"fuel type\": \"natural gas\"\n",
    "                 }\n",
    "\n",
    "# Store output\n",
    "with open(r\"results\\boiler_efficiency_results\", \"wb\") as f:\n",
    "    pickle.dump(boiler_output, f)\n",
    "\n",
    "# Also save to data folder\n",
    "with open(r\"C:\\Users\\2270577A\\PycharmProjects\\PhD_LCA_TEA\\data\\boiler_efficiency_results\", \"wb\") as f:\n",
    "    pickle.dump(boiler_output, f)\n"
   ],
   "metadata": {
    "collapsed": false,
    "ExecuteTime": {
     "start_time": "2023-04-14T10:34:21.742209Z",
     "end_time": "2023-04-14T10:34:21.755701Z"
    }
   }
  },
  {
   "cell_type": "code",
   "execution_count": 6,
   "outputs": [],
   "source": [
    "# Also store data as toml file\n",
    "import toml\n",
    "from functions.general.utility import get_project_root\n",
    "\n",
    "toml_output = {\"triangular_distribution\": {\"lower\": distribution_object.lower,\n",
    "                                             \"mode\": distribution_object.mode,\n",
    "                                             \"upper\": distribution_object.upper},\n",
    "                 \"references\": [\"10.1002/ep.13161\",\n",
    "                                \"10.1016/j.energy.2020.117221\",\n",
    "                                \"10.1016/b978-0-12-804389-9.00003-4\"],\n",
    "                 \"fuel_type\": \"natural gas\"\n",
    "                 }\n",
    "\n",
    "project_root = get_project_root()\n",
    "file_name = str(project_root) + r\"\\data\\boiler_efficiency_results.toml\"\n",
    "with open(file_name, \"w\") as toml_file:\n",
    "    toml.dump(toml_output, toml_file)\n"
   ],
   "metadata": {
    "collapsed": false,
    "ExecuteTime": {
     "start_time": "2023-04-14T10:35:34.142399Z",
     "end_time": "2023-04-14T10:35:34.161891Z"
    }
   }
  }
 ],
 "metadata": {
  "kernelspec": {
   "display_name": "Python 3",
   "language": "python",
   "name": "python3"
  },
  "language_info": {
   "codemirror_mode": {
    "name": "ipython",
    "version": 2
   },
   "file_extension": ".py",
   "mimetype": "text/x-python",
   "name": "python",
   "nbconvert_exporter": "python",
   "pygments_lexer": "ipython2",
   "version": "2.7.6"
  }
 },
 "nbformat": 4,
 "nbformat_minor": 0
}

{
 "cells": [
  {
   "cell_type": "markdown",
   "source": [
    "# Analyse steam to biomass ratios:"
   ],
   "metadata": {
    "collapsed": false
   }
  },
  {
   "cell_type": "code",
   "execution_count": 2,
   "metadata": {
    "collapsed": true
   },
   "outputs": [],
   "source": [
    "import numpy as np\n",
    "import csv\n"
   ]
  },
  {
   "cell_type": "code",
   "execution_count": 3,
   "outputs": [
    {
     "name": "stdout",
     "output_type": "stream",
     "text": [
      "[['ï»¿Steam/Biomass'], ['2.7'], ['2.7'], ['2.7'], ['2.7'], ['2.7'], ['1.56'], ['1.56'], ['1.56'], ['1.56'], ['1.56'], ['0'], ['1.35'], ['2.02'], ['2.7'], ['4.04'], ['1.56'], ['1.56'], ['1.56'], ['1.56'], ['0.5'], ['0.5'], ['0.5'], ['1'], ['1'], ['1'], ['0.5'], ['1'], ['0.5'], ['0.5'], ['0.2'], ['0.5'], ['0.5'], ['0.5'], ['0.8'], ['0.8'], ['1.16'], ['1.16'], ['1.16'], ['1.16'], ['1.16'], ['0.25'], ['0.4'], ['0.73'], ['0.91'], ['1.16'], ['2'], ['2'], ['2'], ['2'], ['1.23'], ['1.23'], ['1.23'], ['1.23'], ['0.73'], ['1.23'], ['2.08'], ['2.77'], ['3.08'], ['1.23'], ['1.23'], ['0.41'], ['0.63'], ['0.97'], ['1.09'], ['0.41'], ['0.65'], ['0.96'], ['0.17'], ['0.17'], ['0.15'], ['0.18'], ['0.17'], ['0.17'], ['1.22'], ['1.22'], ['1.22'], ['0.11'], ['2.33'], ['1.22'], ['1.22'], ['0'], ['0.65'], ['0.91'], ['0.65'], ['0'], ['0.65'], ['0.91'], ['0'], ['0.65'], ['0'], ['0'], ['0.6'], ['0'], ['0'], ['0'], ['0.44'], ['0'], ['0.44'], ['1.2'], ['1.2'], ['1.2'], ['1.2'], ['1.2'], ['0.8'], ['1'], ['1.2'], ['1.4'], ['1.7'], ['2'], ['0.8'], ['0.8'], ['0.8'], ['0.8'], ['0.8'], ['0.8'], ['0.8'], ['0.8'], ['0.8'], ['0.8'], ['0.8'], ['0.8'], ['0.8'], ['0.8'], ['0.8'], ['0.8'], ['1'], ['1'], ['1'], ['0.5'], ['0.6'], ['0.7'], ['1']]\n"
     ]
    }
   ],
   "source": [
    "# Data taken from gasification database\n",
    "with open(r'C:\\Users\\2270577A\\PycharmProjects\\PhD_LCA_TEA\\analysis\\preliminary\\steam to biomass ratio\\steam_biomass_data.csv', newline='') as csvfile:\n",
    "    data = csv.reader(csvfile, delimiter=' ')\n",
    "    Steam_Biomass = []\n",
    "    for row in data:\n",
    "        Steam_Biomass.append(row)\n",
    "    print(Steam_Biomass)\n",
    "\n"
   ],
   "metadata": {
    "collapsed": false
   }
  },
  {
   "cell_type": "code",
   "execution_count": 4,
   "outputs": [
    {
     "name": "stdout",
     "output_type": "stream",
     "text": [
      "[['2.7'], ['2.7'], ['2.7'], ['2.7'], ['2.7'], ['1.56'], ['1.56'], ['1.56'], ['1.56'], ['1.56'], ['0'], ['1.35'], ['2.02'], ['2.7'], ['4.04'], ['1.56'], ['1.56'], ['1.56'], ['1.56'], ['0.5'], ['0.5'], ['0.5'], ['1'], ['1'], ['1'], ['0.5'], ['1'], ['0.5'], ['0.5'], ['0.2'], ['0.5'], ['0.5'], ['0.5'], ['0.8'], ['0.8'], ['1.16'], ['1.16'], ['1.16'], ['1.16'], ['1.16'], ['0.25'], ['0.4'], ['0.73'], ['0.91'], ['1.16'], ['2'], ['2'], ['2'], ['2'], ['1.23'], ['1.23'], ['1.23'], ['1.23'], ['0.73'], ['1.23'], ['2.08'], ['2.77'], ['3.08'], ['1.23'], ['1.23'], ['0.41'], ['0.63'], ['0.97'], ['1.09'], ['0.41'], ['0.65'], ['0.96'], ['0.17'], ['0.17'], ['0.15'], ['0.18'], ['0.17'], ['0.17'], ['1.22'], ['1.22'], ['1.22'], ['0.11'], ['2.33'], ['1.22'], ['1.22'], ['0'], ['0.65'], ['0.91'], ['0.65'], ['0'], ['0.65'], ['0.91'], ['0'], ['0.65'], ['0'], ['0'], ['0.6'], ['0'], ['0'], ['0'], ['0.44'], ['0'], ['0.44'], ['1.2'], ['1.2'], ['1.2'], ['1.2'], ['1.2'], ['0.8'], ['1'], ['1.2'], ['1.4'], ['1.7'], ['2'], ['0.8'], ['0.8'], ['0.8'], ['0.8'], ['0.8'], ['0.8'], ['0.8'], ['0.8'], ['0.8'], ['0.8'], ['0.8'], ['0.8'], ['0.8'], ['0.8'], ['0.8'], ['0.8'], ['1'], ['1'], ['1'], ['0.5'], ['0.6'], ['0.7'], ['1']]\n"
     ]
    }
   ],
   "source": [
    "# Remove faulty first value\n",
    "Steam_Biomass.pop(0)\n",
    "print(Steam_Biomass)\n"
   ],
   "metadata": {
    "collapsed": false
   }
  },
  {
   "cell_type": "code",
   "execution_count": 5,
   "outputs": [],
   "source": [
    "SB_ratio_array = np.array(Steam_Biomass).astype(float)\n"
   ],
   "metadata": {
    "collapsed": false
   }
  },
  {
   "cell_type": "code",
   "execution_count": 6,
   "outputs": [
    {
     "name": "stdout",
     "output_type": "stream",
     "text": [
      "Mean: 1.0283333333333333\n",
      "Std: 0.7279070939163441\n"
     ]
    }
   ],
   "source": [
    "# Calculate stats\n",
    "mean = np.mean(SB_ratio_array)\n",
    "std = np.std(SB_ratio_array)\n",
    "\n",
    "# Display stats\n",
    "print(\"Mean:\", mean)\n",
    "print(\"Std:\", std)\n"
   ],
   "metadata": {
    "collapsed": false
   }
  },
  {
   "cell_type": "code",
   "execution_count": 7,
   "outputs": [
    {
     "data": {
      "text/plain": "<Figure size 432x288 with 1 Axes>",
      "image/png": "[encoded data removed]"
     },
     "metadata": {
      "needs_background": "light"
     },
     "output_type": "display_data"
    }
   ],
   "source": [
    "import matplotlib.pyplot as plt\n",
    "\n",
    "plt.hist(SB_ratio_array, 20)\n",
    "plt.xlabel(\"S/B\")\n",
    "plt.ylabel(\"Counts\")\n",
    "plt.show()"
   ],
   "metadata": {
    "collapsed": false
   }
  }
 ],
 "metadata": {
  "kernelspec": {
   "display_name": "Python 3",
   "language": "python",
   "name": "python3"
  },
  "language_info": {
   "codemirror_mode": {
    "name": "ipython",
    "version": 2
   },
   "file_extension": ".py",
   "mimetype": "text/x-python",
   "name": "python",
   "nbconvert_exporter": "python",
   "pygments_lexer": "ipython2",
   "version": "2.7.6"
  }
 },
 "nbformat": 4,
 "nbformat_minor": 0
}

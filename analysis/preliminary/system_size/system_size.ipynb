{
 "cells": [
  {
   "cell_type": "markdown",
   "source": [
    "# Analysis on a gasification system's size\n",
    "What is the correlation between a system's size in terms of power?\n",
    " (e.g. kW, MW, kWel, or kWth) and feedstock input in terms of mass/energy (e.g. tonnes/year or kg/hour OR kWh/year or kWh/hour)."
   ],
   "metadata": {
    "collapsed": false
   }
  },
  {
   "cell_type": "code",
   "execution_count": 1,
   "outputs": [],
   "source": [
    "# Import requirements and initialise Dataframe to store data in\n",
    "import pandas as pd\n",
    "import numpy as np\n",
    "import seaborn as sns\n",
    "import matplotlib.pyplot as plt\n",
    "\n",
    "from functions.general.utility import MJ_to_kWh\n",
    "from sklearn.linear_model import LinearRegression\n",
    "from functions.general.utility import get_project_root"
   ],
   "metadata": {
    "collapsed": false,
    "ExecuteTime": {
     "end_time": "2023-09-14T15:30:29.329713100Z",
     "start_time": "2023-09-14T15:30:27.741329Z"
    }
   }
  },
  {
   "cell_type": "code",
   "execution_count": 2,
   "outputs": [],
   "source": [
    "# Set up dataframes for storage of data\n",
    "df_rows = []\n",
    "df_columns = [\"Size electricity generation (MWe)\", \"Size gasifier (MWth)\", \"Feedstock mass input (tonnes/h)\", \"Feedstock energy input (kWh/h)\", \"Reference\"]\n",
    "df_small = pd.DataFrame(index=df_rows, columns=df_columns)  # for small systems\n",
    "df_large = pd.DataFrame(index=df_rows, columns=df_columns)  # for large systems\n"
   ],
   "metadata": {
    "collapsed": false,
    "ExecuteTime": {
     "end_time": "2023-09-14T15:30:29.332705300Z",
     "start_time": "2023-09-14T15:30:29.316745600Z"
    }
   }
  },
  {
   "cell_type": "markdown",
   "source": [
    "# Start collecting literature data"
   ],
   "metadata": {
    "collapsed": false
   }
  },
  {
   "cell_type": "code",
   "execution_count": 3,
   "outputs": [],
   "source": [
    "# Data\n",
    "gasifier_data_1 = {\"reference\": {\"title\":\"Comparison of three Mexican biomasses valorization through combustion and gasification: Environmental and economic analysis\",\n",
    "                                 \"doi\": \"https://doi.org/10.1016/j.energy.2019.116095\",\n",
    "                                 \"authors\": \"Parascanu et al.\"\n",
    "                                 },\n",
    "                   \"CAPEX\": {\"value\": 2073183,\n",
    "                             \"units\": \"EUR\",\n",
    "                             \"descriptor\": \"Biomass gasifier with rankine cycle + all accessories\"\n",
    "                             },\n",
    "                   \"size\": {\"value\":1,\n",
    "                            \"units\": \"tonnes/hour\"\n",
    "                            },\n",
    "                   \"operating_hours\": {\"value\": 8000,\n",
    "                                       \"units\": \"hours/year\"\n",
    "                                       },\n",
    "                   \"feedstock\": {\"LHV\": [16.5, 14.9, 16.3],\n",
    "                                 \"HHV\":[ 17.8, 16.3, 17.7],\n",
    "                                 \"units\": \"MJ/kg\"\n",
    "                                 },\n",
    "                 }\n",
    "# NOTE: No data on size in terms of electricity generation or electricity generation efficiency"
   ],
   "metadata": {
    "collapsed": false,
    "ExecuteTime": {
     "end_time": "2023-09-14T15:30:29.345669100Z",
     "start_time": "2023-09-14T15:30:29.335695400Z"
    }
   }
  },
  {
   "cell_type": "code",
   "execution_count": 4,
   "outputs": [
    {
     "name": "stdout",
     "output_type": "stream",
     "text": [
      "Case 1 - 1.5 MW feedstock input: Quoted electric power 0.3222 MW vs Calculated electric power 0.32221 MW\n",
      "Case 2 - 5 MW feedstock input: Quoted electric power 1.154 MW vs Calculated electric power 1.15402 MW\n",
      "\n",
      "Case 1 - 0.322 MWel\n",
      "Feedstock energy [kWh/year]: 9000000.0\n",
      "Feedstock energy density (LHV) [kWh/tonne]: 3944.4444444444443\n",
      "Annual feedstock mass requirement [tonne/year]: 2281.6901408450703\n",
      "Daily feedstock mass requirement [tonne/day]: 6.25120586532896\n",
      "Hourly feedstock mass requirement [tonne/hour]: 0.38028169014084506\n",
      "Hourly feedstock energy requirement [kWh/hour]: 1499.9999999999998\n",
      "\n",
      "Case 2 - 1.15 MWel\n",
      "Feedstock energy [kWh/year]: 30000000\n",
      "Feedstock energy density (LHV) [kWh/tonne]: 3944.4444444444443\n",
      "Annual feedstock mass requirement [tonne/year]: 7605.633802816901\n",
      "Daily feedstock mass requirement [tonne/day]: 20.837352884429865\n",
      "Hourly feedstock mass requirement [tonne/hour]: 1.2676056338028168\n",
      "Hourly feedstock energy requirement [kWh/hour]: 4999.999999999999\n"
     ]
    }
   ],
   "source": [
    "# Data\n",
    "gasifier_data_2 = {\"reference\": {\"title\":\"The influence of the size of the CHP (combined heat and power) system integrated with a biomass fueled gas generator and piston engine on the thermodynamic and economic effectiveness of electricity and heat generation\",\n",
    "                                 \"doi\": \"https://doi.org/10.1016/j.energy.2014.01.015\",\n",
    "                                 \"authors\": \"Skorek-Osikowska et al.\"\n",
    "                                 },\n",
    "                   \"1.5 MW biomass chemical energy\": {\"biomass chemical energy\": 1.5,\n",
    "                                                      \"nominal electric power\": 0.32221,\n",
    "                                                      \"engine nominal efficiency\": 0.7930,\n",
    "                                                      \"system overall efficiency\": 0.6655,\n",
    "                                                      \"electricity generation efficiency\": 0.2148,\n",
    "                                                      },\n",
    "                   \"5 MW biomass chemical energy\": {\"biomass chemical energy\": 5,\n",
    "                                                      \"nominal electric power\": 1.15402,\n",
    "                                                      \"engine nominal efficiency\": 0.8135,\n",
    "                                                      \"system overall efficiency\": 0.6687,\n",
    "                                                      \"electricity generation efficiency\": 0.2308,\n",
    "                                                      },\n",
    "                   \"operating_hours\": {\"value\": 6000,\n",
    "                                       \"units\": \"hours/year\"\n",
    "                                     },\n",
    "                   \"feedstock\": {\"LHV\": 14.2,  # MJ/kg\n",
    "                                 \"type\": \"biomass\"}\n",
    "                   }\n",
    "\n",
    "# Analysis data 2\n",
    "calculated_electric_power_2_a = gasifier_data_2[\"1.5 MW biomass chemical energy\"][\"biomass chemical energy\"] * gasifier_data_2[\"1.5 MW biomass chemical energy\"][\"electricity generation efficiency\"]\n",
    "calculated_electric_power_2_b = gasifier_data_2[\"5 MW biomass chemical energy\"][\"biomass chemical energy\"] * gasifier_data_2[\"5 MW biomass chemical energy\"][\"electricity generation efficiency\"]\n",
    "\n",
    "print(\"Case 1 - 1.5 MW feedstock input: Quoted electric power {0} MW vs Calculated electric power {1} MW\".format(calculated_electric_power_2_a, gasifier_data_2[\"1.5 MW biomass chemical energy\"][\"nominal electric power\"]))\n",
    "print(\"Case 2 - 5 MW feedstock input: Quoted electric power {0} MW vs Calculated electric power {1} MW\".format(calculated_electric_power_2_b, gasifier_data_2[\"5 MW biomass chemical energy\"][\"nominal electric power\"]))\n",
    "print()\n",
    "\n",
    "# Calculations - Example 1\n",
    "feedstock_energy_2_a = gasifier_data_2[\"1.5 MW biomass chemical energy\"][\"biomass chemical energy\"] * 1000 * gasifier_data_2[\"operating_hours\"][\"value\"]  # kWh/year\n",
    "feedstock_energy_density_2_a = MJ_to_kWh(gasifier_data_2[\"feedstock\"][\"LHV\"]) * 1000   # kWh/ tonne\n",
    "annual_feedstock_weight_2_a = feedstock_energy_2_a / feedstock_energy_density_2_a  # tonne/year\n",
    "daily_feedstock_weight_2_a = annual_feedstock_weight_2_a / 365  # tonne/day\n",
    "hourly_feedstock_mass_2_a = annual_feedstock_weight_2_a / gasifier_data_2[\"operating_hours\"][\"value\"]  # tonne/hour\n",
    "hourly_feedstock_energy_2_a = hourly_feedstock_mass_2_a * MJ_to_kWh(gasifier_data_2[\"feedstock\"][\"LHV\"]) * 1000  # kWh/hour\n",
    "\n",
    "print(\"Case 1 - 0.322 MWel\")\n",
    "print(\"Feedstock energy [kWh/year]:\", feedstock_energy_2_a)\n",
    "print(\"Feedstock energy density (LHV) [kWh/tonne]:\", feedstock_energy_density_2_a)\n",
    "print(\"Annual feedstock mass requirement [tonne/year]:\", annual_feedstock_weight_2_a)\n",
    "print(\"Daily feedstock mass requirement [tonne/day]:\", daily_feedstock_weight_2_a)\n",
    "print(\"Hourly feedstock mass requirement [tonne/hour]:\", hourly_feedstock_mass_2_a)\n",
    "print(\"Hourly feedstock energy requirement [kWh/hour]:\", hourly_feedstock_energy_2_a)\n",
    "\n",
    "print()\n",
    "\n",
    "# Calculations - Example 2\n",
    "feedstock_energy_2_b = gasifier_data_2[\"5 MW biomass chemical energy\"][\"biomass chemical energy\"]  * 1000 * gasifier_data_2[\"operating_hours\"][\"value\"]  # kWh/year\n",
    "feedstock_energy_density_2_b = MJ_to_kWh(gasifier_data_2[\"feedstock\"][\"LHV\"]) * 1000   # kWh/ tonne\n",
    "annual_feedstock_weight_2_b = feedstock_energy_2_b / feedstock_energy_density_2_b  # tonne/year\n",
    "daily_feedstock_weight_2_b = annual_feedstock_weight_2_b / 365  # tonne/day\n",
    "hourly_feedstock_mass_2_b = annual_feedstock_weight_2_b / gasifier_data_2[\"operating_hours\"][\"value\"]  # tonne/hour\n",
    "hourly_feedstock_energy_2_b = hourly_feedstock_mass_2_b * MJ_to_kWh(gasifier_data_2[\"feedstock\"][\"LHV\"]) * 1000  # kWh/hour\n",
    "\n",
    "\n",
    "print(\"Case 2 - 1.15 MWel\")\n",
    "print(\"Feedstock energy [kWh/year]:\", feedstock_energy_2_b)\n",
    "print(\"Feedstock energy density (LHV) [kWh/tonne]:\", feedstock_energy_density_2_b)\n",
    "print(\"Annual feedstock mass requirement [tonne/year]:\", annual_feedstock_weight_2_b)\n",
    "print(\"Daily feedstock mass requirement [tonne/day]:\", daily_feedstock_weight_2_b)\n",
    "print(\"Hourly feedstock mass requirement [tonne/hour]:\", hourly_feedstock_mass_2_b)\n",
    "print(\"Hourly feedstock energy requirement [kWh/hour]:\", hourly_feedstock_energy_2_b)\n"
   ],
   "metadata": {
    "collapsed": false,
    "ExecuteTime": {
     "end_time": "2023-09-14T15:30:29.388554Z",
     "start_time": "2023-09-14T15:30:29.353647100Z"
    }
   }
  },
  {
   "cell_type": "code",
   "execution_count": 5,
   "outputs": [
    {
     "data": {
      "text/plain": "                                                    Size electricity generation (MWe)  \\\nBiomass gasifier with rankine cycle + all acces...                             0.3222   \nBiomass gasifier with rankine cycle + all acces...                             1.1540   \n\n                                                   Size gasifier (MWth)  \\\nBiomass gasifier with rankine cycle + all acces...                 None   \nBiomass gasifier with rankine cycle + all acces...                 None   \n\n                                                    Feedstock mass input (tonnes/h)  \\\nBiomass gasifier with rankine cycle + all acces...                         0.380282   \nBiomass gasifier with rankine cycle + all acces...                         1.267606   \n\n                                                    Feedstock energy input (kWh/h)  \\\nBiomass gasifier with rankine cycle + all acces...                          1500.0   \nBiomass gasifier with rankine cycle + all acces...                          5000.0   \n\n                                                                                            Reference  \nBiomass gasifier with rankine cycle + all acces...  {'title': 'The influence of the size of the CH...  \nBiomass gasifier with rankine cycle + all acces...  {'title': 'The influence of the size of the CH...  ",
      "text/html": "<div>\n<style scoped>\n    .dataframe tbody tr th:only-of-type {\n        vertical-align: middle;\n    }\n\n    .dataframe tbody tr th {\n        vertical-align: top;\n    }\n\n    .dataframe thead th {\n        text-align: right;\n    }\n</style>\n<table border=\"1\" class=\"dataframe\">\n  <thead>\n    <tr style=\"text-align: right;\">\n      <th></th>\n      <th>Size electricity generation (MWe)</th>\n      <th>Size gasifier (MWth)</th>\n      <th>Feedstock mass input (tonnes/h)</th>\n      <th>Feedstock energy input (kWh/h)</th>\n      <th>Reference</th>\n    </tr>\n  </thead>\n  <tbody>\n    <tr>\n      <th>Biomass gasifier with rankine cycle + all accessories - 1.5 MW biomass chemical energy</th>\n      <td>0.3222</td>\n      <td>None</td>\n      <td>0.380282</td>\n      <td>1500.0</td>\n      <td>{'title': 'The influence of the size of the CH...</td>\n    </tr>\n    <tr>\n      <th>Biomass gasifier with rankine cycle + all accessories - 5 MW biomass chemical energy</th>\n      <td>1.1540</td>\n      <td>None</td>\n      <td>1.267606</td>\n      <td>5000.0</td>\n      <td>{'title': 'The influence of the size of the CH...</td>\n    </tr>\n  </tbody>\n</table>\n</div>"
     },
     "execution_count": 5,
     "metadata": {},
     "output_type": "execute_result"
    }
   ],
   "source": [
    "# Add data to dataframe\n",
    "df_small.loc[\"Biomass gasifier with rankine cycle + all accessories - 1.5 MW biomass chemical energy\"] = [calculated_electric_power_2_a, None, hourly_feedstock_mass_2_a, hourly_feedstock_energy_2_a, gasifier_data_2[\"reference\"]]\n",
    "\n",
    "df_small.loc[\"Biomass gasifier with rankine cycle + all accessories - 5 MW biomass chemical energy\"] = [calculated_electric_power_2_b, None, hourly_feedstock_mass_2_b, hourly_feedstock_energy_2_b, gasifier_data_2[\"reference\"]]\n",
    "df_small"
   ],
   "metadata": {
    "collapsed": false,
    "ExecuteTime": {
     "end_time": "2023-09-14T15:30:29.409497900Z",
     "start_time": "2023-09-14T15:30:29.385561900Z"
    }
   }
  },
  {
   "cell_type": "code",
   "execution_count": 6,
   "outputs": [
    {
     "name": "stdout",
     "output_type": "stream",
     "text": [
      "Hourly feedstock mass requirement [tonne/hour]: 0.6944444444444444\n",
      "Hourly feedstock energy requirement [kWh/hour]: 3182.8703703703704\n",
      "Size electricity generation [MWel]: 0.4\n",
      "Size gasifier [MWth]: 0.4\n"
     ]
    }
   ],
   "source": [
    "# Data\n",
    "gasifier_data_3 = {\"reference\": {\"title\":\"A techno-economic evaluation of a small-scale fluidized bed gasifier for solid recovered fuel\",\n",
    "                                 \"doi\": \"https://doi.org/10.1016/j.fuproc.2014.11.003\",\n",
    "                                 \"authors\": \"Arena et al.\"\n",
    "                                 },\n",
    "                   \"CAPEX\": {\"value\": 660000,\n",
    "                             \"units\": \"EUR\",\n",
    "                             \"descriptor\": \"Bubbling Fluidised Bed Gasifier\"\n",
    "                             },\n",
    "                   \"size\":\n",
    "                       {\"electricity generation\": {\"value\":400, \"units\": \"kWe\"},\n",
    "                        \"thermal output gasifier\": {\"value\":400, \"units\": \"kWth\"},\n",
    "                        \"annual feedstock input\": {\"value\": 5000, \"units\": \"tonnes/year\"},\n",
    "                        \"hourly feedstock input\": {\"value\":70, \"units\": \"kg/hour\"},\n",
    "                        \"annual energy production\": {\"value\":2880, \"units\": \"MWh el/year\"},\n",
    "                        },\n",
    "                   \"operating_hours\": {\"value\": 7200,\n",
    "                                       \"units\": \"hours/year\"\n",
    "                                       },\n",
    "                   \"feedstock\": {\"LHV\": 16.5,\n",
    "                                 \"type\": \"solid recovered fuel (SRF\",\n",
    "                                 \"units\": \"MJ/kg\"\n",
    "                                 },\n",
    "                 }\n",
    "# Note: Hourly feedstock input of 70 kg/hour and 5000 tonnes/year do not match up... - I believe it should have been 700 kg/hour\n",
    "\n",
    "# Calculations\n",
    "hourly_feedstock_mass_3 = gasifier_data_3[\"size\"][\"annual feedstock input\"][\"value\"] / gasifier_data_3[\"operating_hours\"][\"value\"]  # tonne/hour\n",
    "hourly_feedstock_energy_3 = hourly_feedstock_mass_3  * MJ_to_kWh(gasifier_data_3[\"feedstock\"][\"LHV\"]) * 1000 # kWh/hour\n",
    "size_electricity_MWel_3 = gasifier_data_3[\"size\"][\"electricity generation\"][\"value\"] / 1000\n",
    "size_gasifier_MWth_3 = gasifier_data_3[\"size\"][\"thermal output gasifier\"][\"value\"] / 1000\n",
    "\n",
    "print(\"Hourly feedstock mass requirement [tonne/hour]:\", hourly_feedstock_mass_3)\n",
    "print(\"Hourly feedstock energy requirement [kWh/hour]:\", hourly_feedstock_energy_3)\n",
    "print(\"Size electricity generation [MWel]:\", size_electricity_MWel_3)\n",
    "print(\"Size gasifier [MWth]:\", size_gasifier_MWth_3)\n"
   ],
   "metadata": {
    "collapsed": false,
    "ExecuteTime": {
     "end_time": "2023-09-14T15:30:29.469815700Z",
     "start_time": "2023-09-14T15:30:29.414486600Z"
    }
   }
  },
  {
   "cell_type": "code",
   "execution_count": 7,
   "outputs": [
    {
     "data": {
      "text/plain": "                                                    Size electricity generation (MWe)  \\\nBiomass gasifier with rankine cycle + all acces...                             0.3222   \nBiomass gasifier with rankine cycle + all acces...                             1.1540   \nBubbling Fluidised Bed Gasifier                                                0.4000   \n\n                                                    Size gasifier (MWth)  \\\nBiomass gasifier with rankine cycle + all acces...                   NaN   \nBiomass gasifier with rankine cycle + all acces...                   NaN   \nBubbling Fluidised Bed Gasifier                                      0.4   \n\n                                                    Feedstock mass input (tonnes/h)  \\\nBiomass gasifier with rankine cycle + all acces...                         0.380282   \nBiomass gasifier with rankine cycle + all acces...                         1.267606   \nBubbling Fluidised Bed Gasifier                                            0.694444   \n\n                                                    Feedstock energy input (kWh/h)  \\\nBiomass gasifier with rankine cycle + all acces...                      1500.00000   \nBiomass gasifier with rankine cycle + all acces...                      5000.00000   \nBubbling Fluidised Bed Gasifier                                         3182.87037   \n\n                                                                                            Reference  \nBiomass gasifier with rankine cycle + all acces...  {'title': 'The influence of the size of the CH...  \nBiomass gasifier with rankine cycle + all acces...  {'title': 'The influence of the size of the CH...  \nBubbling Fluidised Bed Gasifier                     {'title': 'A techno-economic evaluation of a s...  ",
      "text/html": "<div>\n<style scoped>\n    .dataframe tbody tr th:only-of-type {\n        vertical-align: middle;\n    }\n\n    .dataframe tbody tr th {\n        vertical-align: top;\n    }\n\n    .dataframe thead th {\n        text-align: right;\n    }\n</style>\n<table border=\"1\" class=\"dataframe\">\n  <thead>\n    <tr style=\"text-align: right;\">\n      <th></th>\n      <th>Size electricity generation (MWe)</th>\n      <th>Size gasifier (MWth)</th>\n      <th>Feedstock mass input (tonnes/h)</th>\n      <th>Feedstock energy input (kWh/h)</th>\n      <th>Reference</th>\n    </tr>\n  </thead>\n  <tbody>\n    <tr>\n      <th>Biomass gasifier with rankine cycle + all accessories - 1.5 MW biomass chemical energy</th>\n      <td>0.3222</td>\n      <td>NaN</td>\n      <td>0.380282</td>\n      <td>1500.00000</td>\n      <td>{'title': 'The influence of the size of the CH...</td>\n    </tr>\n    <tr>\n      <th>Biomass gasifier with rankine cycle + all accessories - 5 MW biomass chemical energy</th>\n      <td>1.1540</td>\n      <td>NaN</td>\n      <td>1.267606</td>\n      <td>5000.00000</td>\n      <td>{'title': 'The influence of the size of the CH...</td>\n    </tr>\n    <tr>\n      <th>Bubbling Fluidised Bed Gasifier</th>\n      <td>0.4000</td>\n      <td>0.4</td>\n      <td>0.694444</td>\n      <td>3182.87037</td>\n      <td>{'title': 'A techno-economic evaluation of a s...</td>\n    </tr>\n  </tbody>\n</table>\n</div>"
     },
     "execution_count": 7,
     "metadata": {},
     "output_type": "execute_result"
    }
   ],
   "source": [
    "# Add data to dataframe\n",
    "df_small.loc[\"Bubbling Fluidised Bed Gasifier\"] = [size_electricity_MWel_3, size_gasifier_MWth_3, hourly_feedstock_mass_3, hourly_feedstock_energy_3, gasifier_data_3[\"reference\"]]\n",
    "df_small"
   ],
   "metadata": {
    "collapsed": false,
    "ExecuteTime": {
     "end_time": "2023-09-14T15:30:29.516791100Z",
     "start_time": "2023-09-14T15:30:29.426453600Z"
    }
   }
  },
  {
   "cell_type": "code",
   "execution_count": 8,
   "outputs": [
    {
     "name": "stdout",
     "output_type": "stream",
     "text": [
      "Hourly feedstock mass requirement [tonne/hour]: 0.5\n",
      "Hourly feedstock energy requirement [kWh/hour]: 3222.2222222222217\n",
      "Size electricity generation [MWel]: 0.5\n",
      "Size gasifier [MWth]: 0.5\n"
     ]
    }
   ],
   "source": [
    "# Data\n",
    "gasifier_data_4 = {\"reference\": {\"title\":\"Fluidized bed gasification of a packaging derived fuel: energetic, environmental and economic performances comparison for waste-to-energy plants\",\n",
    "                                 \"doi\": \"https://doi.org/10.1016/j.energy.2012.03.048\",\n",
    "                                 \"authors\": \"Di Gregorio and Zaccariello\"\n",
    "                                 },\n",
    "                   \"CAPEX\": {\"value\": 2430000,\n",
    "                             \"units\": \"EUR\",\n",
    "                             \"descriptor\": \"Bubbling fluidised bed air gasifier + power production system + accessories\"\n",
    "                             },\n",
    "                   \"size\":\n",
    "                       {\"electricity generation\": {\"value\":500, \"units\": \"kWe\"},\n",
    "                        \"thermal output gasifier\": {\"value\":500, \"units\": \"kWth\"},\n",
    "                        \"annual feedstock input\": {\"value\": 3840, \"units\": \"tonnes/year\"},\n",
    "                        \"hourly feedstock input\": {\"value\": 500, \"units\": \"kg/hour\"},\n",
    "                        },\n",
    "                   \"operating_hours\": {\"value\": 7680,\n",
    "                                       \"units\": \"hours/year\"\n",
    "                                       },\n",
    "                   \"feedstock\": {\"LHV\": 23.2,\n",
    "                                 \"type\": \"packaging derived fuel (PDF)\",\n",
    "                                 \"units\": \"MJ/kg\"\n",
    "                                 },\n",
    "                 }\n",
    "\n",
    "\n",
    "# Calculations\n",
    "hourly_feedstock_mass_4 = gasifier_data_4[\"size\"][\"hourly feedstock input\"][\"value\"] / 1000  # tonne/hour\n",
    "hourly_feedstock_energy_4 = hourly_feedstock_mass_4  * MJ_to_kWh(gasifier_data_4[\"feedstock\"][\"LHV\"]) * 1000 # kWh/hour\n",
    "size_electricity_MWel_4 = gasifier_data_4[\"size\"][\"electricity generation\"][\"value\"] / 1000\n",
    "size_gasifier_MWth_4 = gasifier_data_4[\"size\"][\"thermal output gasifier\"][\"value\"] / 1000\n",
    "\n",
    "print(\"Hourly feedstock mass requirement [tonne/hour]:\", hourly_feedstock_mass_4)\n",
    "print(\"Hourly feedstock energy requirement [kWh/hour]:\", hourly_feedstock_energy_4)\n",
    "print(\"Size electricity generation [MWel]:\", size_electricity_MWel_4)\n",
    "print(\"Size gasifier [MWth]:\", size_gasifier_MWth_4)"
   ],
   "metadata": {
    "collapsed": false,
    "ExecuteTime": {
     "end_time": "2023-09-14T15:30:29.541724100Z",
     "start_time": "2023-09-14T15:30:29.446399Z"
    }
   }
  },
  {
   "cell_type": "code",
   "execution_count": 9,
   "outputs": [
    {
     "data": {
      "text/plain": "                                                    Size electricity generation (MWe)  \\\nBiomass gasifier with rankine cycle + all acces...                             0.3222   \nBiomass gasifier with rankine cycle + all acces...                             1.1540   \nBubbling Fluidised Bed Gasifier                                                0.4000   \nBubbling fluidised bed air gasifier + power pro...                             0.5000   \n\n                                                    Size gasifier (MWth)  \\\nBiomass gasifier with rankine cycle + all acces...                   NaN   \nBiomass gasifier with rankine cycle + all acces...                   NaN   \nBubbling Fluidised Bed Gasifier                                      0.4   \nBubbling fluidised bed air gasifier + power pro...                   0.5   \n\n                                                    Feedstock mass input (tonnes/h)  \\\nBiomass gasifier with rankine cycle + all acces...                         0.380282   \nBiomass gasifier with rankine cycle + all acces...                         1.267606   \nBubbling Fluidised Bed Gasifier                                            0.694444   \nBubbling fluidised bed air gasifier + power pro...                         0.500000   \n\n                                                    Feedstock energy input (kWh/h)  \\\nBiomass gasifier with rankine cycle + all acces...                     1500.000000   \nBiomass gasifier with rankine cycle + all acces...                     5000.000000   \nBubbling Fluidised Bed Gasifier                                        3182.870370   \nBubbling fluidised bed air gasifier + power pro...                     3222.222222   \n\n                                                                                            Reference  \nBiomass gasifier with rankine cycle + all acces...  {'title': 'The influence of the size of the CH...  \nBiomass gasifier with rankine cycle + all acces...  {'title': 'The influence of the size of the CH...  \nBubbling Fluidised Bed Gasifier                     {'title': 'A techno-economic evaluation of a s...  \nBubbling fluidised bed air gasifier + power pro...  {'title': 'Fluidized bed gasification of a pac...  ",
      "text/html": "<div>\n<style scoped>\n    .dataframe tbody tr th:only-of-type {\n        vertical-align: middle;\n    }\n\n    .dataframe tbody tr th {\n        vertical-align: top;\n    }\n\n    .dataframe thead th {\n        text-align: right;\n    }\n</style>\n<table border=\"1\" class=\"dataframe\">\n  <thead>\n    <tr style=\"text-align: right;\">\n      <th></th>\n      <th>Size electricity generation (MWe)</th>\n      <th>Size gasifier (MWth)</th>\n      <th>Feedstock mass input (tonnes/h)</th>\n      <th>Feedstock energy input (kWh/h)</th>\n      <th>Reference</th>\n    </tr>\n  </thead>\n  <tbody>\n    <tr>\n      <th>Biomass gasifier with rankine cycle + all accessories - 1.5 MW biomass chemical energy</th>\n      <td>0.3222</td>\n      <td>NaN</td>\n      <td>0.380282</td>\n      <td>1500.000000</td>\n      <td>{'title': 'The influence of the size of the CH...</td>\n    </tr>\n    <tr>\n      <th>Biomass gasifier with rankine cycle + all accessories - 5 MW biomass chemical energy</th>\n      <td>1.1540</td>\n      <td>NaN</td>\n      <td>1.267606</td>\n      <td>5000.000000</td>\n      <td>{'title': 'The influence of the size of the CH...</td>\n    </tr>\n    <tr>\n      <th>Bubbling Fluidised Bed Gasifier</th>\n      <td>0.4000</td>\n      <td>0.4</td>\n      <td>0.694444</td>\n      <td>3182.870370</td>\n      <td>{'title': 'A techno-economic evaluation of a s...</td>\n    </tr>\n    <tr>\n      <th>Bubbling fluidised bed air gasifier + power production system + accessories</th>\n      <td>0.5000</td>\n      <td>0.5</td>\n      <td>0.500000</td>\n      <td>3222.222222</td>\n      <td>{'title': 'Fluidized bed gasification of a pac...</td>\n    </tr>\n  </tbody>\n</table>\n</div>"
     },
     "execution_count": 9,
     "metadata": {},
     "output_type": "execute_result"
    }
   ],
   "source": [
    "# Add data to dataframe\n",
    "df_small.loc[\"Bubbling fluidised bed air gasifier + power production system + accessories\"] = [size_electricity_MWel_4, size_gasifier_MWth_4, hourly_feedstock_mass_4, hourly_feedstock_energy_4, gasifier_data_4[\"reference\"]]\n",
    "df_small"
   ],
   "metadata": {
    "collapsed": false,
    "ExecuteTime": {
     "end_time": "2023-09-14T15:30:29.544715600Z",
     "start_time": "2023-09-14T15:30:29.457375500Z"
    }
   }
  },
  {
   "cell_type": "code",
   "execution_count": 10,
   "outputs": [
    {
     "name": "stdout",
     "output_type": "stream",
     "text": [
      "Upflow, entrained, slagging gasifier + cleaning etc  (Shell IGCC) (w.o. cleaning)\n",
      "Hourly feedstock mass requirement [tonne/hour]: 102.85969084423306\n",
      "Hourly feedstock energy requirement [kWh/hour]: 747161.3654379706\n",
      "Size electricity generation [MWel]: 640\n",
      "\n",
      "E-GasTM gasifier (w.o. cleaning)\n",
      "Hourly feedstock mass requirement [tonne/hour]: 72.82639714625446\n",
      "Hourly feedstock energy requirement [kWh/hour]: 529002.8570484873\n",
      "Size electricity generation [MWel]: 641\n",
      "\n",
      "GEP Radiant IGCC (w.o. cleaning)\n",
      "Hourly feedstock mass requirement [tonne/hour]: 98.43281807372176\n",
      "Hourly feedstock energy requirement [kWh/hour]: 715005.053507729\n",
      "Size electricity generation [MWel]: 634\n",
      "\n",
      "GEP Radiant IGCC - Quench (w.o. cleaning)\n",
      "Hourly feedstock mass requirement [tonne/hour]: 98.43281807372176\n",
      "Hourly feedstock energy requirement [kWh/hour]: 715005.053507729\n",
      "Size electricity generation [MWel]: 499\n"
     ]
    }
   ],
   "source": [
    "# Data\n",
    "gasifier_data_5 = {\"reference\": {\"title\":\"Cost and Performance Baseline for Fossil Energy Plants Volume 1 : Bituminous Coal and Natural Gas to Electricity\",\n",
    "                                 \"doi\": None,\n",
    "                                 \"authors\": \"James et al.\"\n",
    "                                 },\n",
    "                   \"size\": {\"upflow, entrained, slagging gasifier + cleaning etc  (Shell IGCC) (w.o. cleaning)\":\n",
    "                                {\"electricity generation\": {\"value\":640, \"units\": \"MWe\"},\n",
    "                                 \"daily feedstock input\": {\"value\": 2370, \"units\": \"tonnes/day\"}\n",
    "                                 },\n",
    "                            \"E-GasTM gasifier (w.o. cleaning)\":\n",
    "                                {\"electricity generation\": {\"value\":641, \"units\": \"MWe\"},\n",
    "                                 \"daily feedstock input\": {\"value\": 1678, \"units\": \"tonnes/day\"}\n",
    "                                 },\n",
    "                            \"GEP Radiant IGCC (w.o. cleaning)\":\n",
    "                                {\"electricity generation\": {\"value\":634, \"units\": \"MWe\"},\n",
    "                                 \"daily feedstock input\": {\"value\": 2268, \"units\": \"tonnes/day\"}\n",
    "                                 },\n",
    "                            \"GEP Radiant IGCC - Quench (w.o. cleaning)\":\n",
    "                                {\"electricity generation\": {\"value\":499, \"units\": \"MWe\"},\n",
    "                                 \"daily feedstock input\": {\"value\": 2268, \"units\": \"tonnes/day\"}\n",
    "                                 }\n",
    "                            },\n",
    "                   \"operating_hours\": {\"value\": None,\n",
    "                                       \"units\": \"hours/year\"\n",
    "                                       },\n",
    "                   \"feedstock\": {\"LHV\": 26.15,\n",
    "                                 \"type\": \"Bituminous coal\",\n",
    "                                 \"units\": \"MJ/kg\"\n",
    "                                 },\n",
    "                 }\n",
    "operating_hours_5 = 8410  # hours/year - estimated based on \"Process Design and Economics for Conversion of Lignocellulosic Biomass to Ethanol: Thermochemical Pathway by Indirect Gasification and Mixed Alcohol Synthesis\"\n",
    "\n",
    "# Calculations - a\n",
    "hourly_feedstock_mass_5_a = gasifier_data_5[\"size\"][\"upflow, entrained, slagging gasifier + cleaning etc  (Shell IGCC) (w.o. cleaning)\"][\"daily feedstock input\"][\"value\"] * 365 / operating_hours_5  # tonne/hour\n",
    "hourly_feedstock_energy_5_a = hourly_feedstock_mass_5_a  * MJ_to_kWh(gasifier_data_5[\"feedstock\"][\"LHV\"]) * 1000 # kWh/hour\n",
    "size_electricity_MWel_5_a = gasifier_data_5[\"size\"][\"upflow, entrained, slagging gasifier + cleaning etc  (Shell IGCC) (w.o. cleaning)\"][\"electricity generation\"][\"value\"]\n",
    "\n",
    "print(\"Upflow, entrained, slagging gasifier + cleaning etc  (Shell IGCC) (w.o. cleaning)\")\n",
    "print(\"Hourly feedstock mass requirement [tonne/hour]:\", hourly_feedstock_mass_5_a)\n",
    "print(\"Hourly feedstock energy requirement [kWh/hour]:\", hourly_feedstock_energy_5_a)\n",
    "print(\"Size electricity generation [MWel]:\", size_electricity_MWel_5_a)\n",
    "print()\n",
    "\n",
    "# Calculations - b\n",
    "hourly_feedstock_mass_5_b = gasifier_data_5[\"size\"][\"E-GasTM gasifier (w.o. cleaning)\"][\"daily feedstock input\"][\"value\"] * 365 / operating_hours_5  # tonne/hour\n",
    "hourly_feedstock_energy_5_b = hourly_feedstock_mass_5_b  * MJ_to_kWh(gasifier_data_5[\"feedstock\"][\"LHV\"]) * 1000 # kWh/hour\n",
    "size_electricity_MWel_5_b = gasifier_data_5[\"size\"][\"E-GasTM gasifier (w.o. cleaning)\"][\"electricity generation\"][\"value\"]\n",
    "\n",
    "print(\"E-GasTM gasifier (w.o. cleaning)\")\n",
    "print(\"Hourly feedstock mass requirement [tonne/hour]:\", hourly_feedstock_mass_5_b)\n",
    "print(\"Hourly feedstock energy requirement [kWh/hour]:\", hourly_feedstock_energy_5_b)\n",
    "print(\"Size electricity generation [MWel]:\", size_electricity_MWel_5_b)\n",
    "print()\n",
    "\n",
    "# Calculations - c\n",
    "hourly_feedstock_mass_5_c = gasifier_data_5[\"size\"][\"GEP Radiant IGCC (w.o. cleaning)\"][\"daily feedstock input\"][\"value\"] * 365 / operating_hours_5  # tonne/hour\n",
    "hourly_feedstock_energy_5_c = hourly_feedstock_mass_5_c  * MJ_to_kWh(gasifier_data_5[\"feedstock\"][\"LHV\"]) * 1000 # kWh/hour\n",
    "size_electricity_MWel_5_c = gasifier_data_5[\"size\"][\"GEP Radiant IGCC (w.o. cleaning)\"][\"electricity generation\"][\"value\"]\n",
    "\n",
    "print(\"GEP Radiant IGCC (w.o. cleaning)\")\n",
    "print(\"Hourly feedstock mass requirement [tonne/hour]:\", hourly_feedstock_mass_5_c)\n",
    "print(\"Hourly feedstock energy requirement [kWh/hour]:\", hourly_feedstock_energy_5_c)\n",
    "print(\"Size electricity generation [MWel]:\", size_electricity_MWel_5_c)\n",
    "print()\n",
    "\n",
    "# Calculations - d\n",
    "hourly_feedstock_mass_5_d = gasifier_data_5[\"size\"][\"GEP Radiant IGCC - Quench (w.o. cleaning)\"][\"daily feedstock input\"][\"value\"] * 365 / operating_hours_5  # tonne/hour\n",
    "hourly_feedstock_energy_5_d = hourly_feedstock_mass_5_d  * MJ_to_kWh(gasifier_data_5[\"feedstock\"][\"LHV\"]) * 1000 # kWh/hour\n",
    "size_electricity_MWel_5_d = gasifier_data_5[\"size\"][\"GEP Radiant IGCC - Quench (w.o. cleaning)\"][\"electricity generation\"][\"value\"]\n",
    "\n",
    "print(\"GEP Radiant IGCC - Quench (w.o. cleaning)\")\n",
    "print(\"Hourly feedstock mass requirement [tonne/hour]:\", hourly_feedstock_mass_5_d)\n",
    "print(\"Hourly feedstock energy requirement [kWh/hour]:\", hourly_feedstock_energy_5_d)\n",
    "print(\"Size electricity generation [MWel]:\", size_electricity_MWel_5_d)"
   ],
   "metadata": {
    "collapsed": false,
    "ExecuteTime": {
     "end_time": "2023-09-14T15:30:29.559676300Z",
     "start_time": "2023-09-14T15:30:29.481784400Z"
    }
   }
  },
  {
   "cell_type": "code",
   "execution_count": 11,
   "outputs": [
    {
     "data": {
      "text/plain": "                                                    Size electricity generation (MWe)  \\\nUpflow, entrained, slagging gasifier + cleaning...                                640   \nE-GasTM gasifier (w.o. cleaning)                                                  641   \nGEP Radiant IGCC (w.o. cleaning)                                                  634   \nGEP Radiant IGCC - Quench (w.o. cleaning)                                         499   \n\n                                                   Size gasifier (MWth)  \\\nUpflow, entrained, slagging gasifier + cleaning...                 None   \nE-GasTM gasifier (w.o. cleaning)                                   None   \nGEP Radiant IGCC (w.o. cleaning)                                   None   \nGEP Radiant IGCC - Quench (w.o. cleaning)                          None   \n\n                                                    Feedstock mass input (tonnes/h)  \\\nUpflow, entrained, slagging gasifier + cleaning...                       102.859691   \nE-GasTM gasifier (w.o. cleaning)                                          72.826397   \nGEP Radiant IGCC (w.o. cleaning)                                          98.432818   \nGEP Radiant IGCC - Quench (w.o. cleaning)                                 98.432818   \n\n                                                    Feedstock energy input (kWh/h)  \\\nUpflow, entrained, slagging gasifier + cleaning...                   747161.365438   \nE-GasTM gasifier (w.o. cleaning)                                     529002.857048   \nGEP Radiant IGCC (w.o. cleaning)                                     715005.053508   \nGEP Radiant IGCC - Quench (w.o. cleaning)                            715005.053508   \n\n                                                                                            Reference  \nUpflow, entrained, slagging gasifier + cleaning...  {'title': 'Cost and Performance Baseline for F...  \nE-GasTM gasifier (w.o. cleaning)                    {'title': 'Cost and Performance Baseline for F...  \nGEP Radiant IGCC (w.o. cleaning)                    {'title': 'Cost and Performance Baseline for F...  \nGEP Radiant IGCC - Quench (w.o. cleaning)           {'title': 'Cost and Performance Baseline for F...  ",
      "text/html": "<div>\n<style scoped>\n    .dataframe tbody tr th:only-of-type {\n        vertical-align: middle;\n    }\n\n    .dataframe tbody tr th {\n        vertical-align: top;\n    }\n\n    .dataframe thead th {\n        text-align: right;\n    }\n</style>\n<table border=\"1\" class=\"dataframe\">\n  <thead>\n    <tr style=\"text-align: right;\">\n      <th></th>\n      <th>Size electricity generation (MWe)</th>\n      <th>Size gasifier (MWth)</th>\n      <th>Feedstock mass input (tonnes/h)</th>\n      <th>Feedstock energy input (kWh/h)</th>\n      <th>Reference</th>\n    </tr>\n  </thead>\n  <tbody>\n    <tr>\n      <th>Upflow, entrained, slagging gasifier + cleaning etc  (Shell IGCC) (w.o. cleaning)</th>\n      <td>640</td>\n      <td>None</td>\n      <td>102.859691</td>\n      <td>747161.365438</td>\n      <td>{'title': 'Cost and Performance Baseline for F...</td>\n    </tr>\n    <tr>\n      <th>E-GasTM gasifier (w.o. cleaning)</th>\n      <td>641</td>\n      <td>None</td>\n      <td>72.826397</td>\n      <td>529002.857048</td>\n      <td>{'title': 'Cost and Performance Baseline for F...</td>\n    </tr>\n    <tr>\n      <th>GEP Radiant IGCC (w.o. cleaning)</th>\n      <td>634</td>\n      <td>None</td>\n      <td>98.432818</td>\n      <td>715005.053508</td>\n      <td>{'title': 'Cost and Performance Baseline for F...</td>\n    </tr>\n    <tr>\n      <th>GEP Radiant IGCC - Quench (w.o. cleaning)</th>\n      <td>499</td>\n      <td>None</td>\n      <td>98.432818</td>\n      <td>715005.053508</td>\n      <td>{'title': 'Cost and Performance Baseline for F...</td>\n    </tr>\n  </tbody>\n</table>\n</div>"
     },
     "execution_count": 11,
     "metadata": {},
     "output_type": "execute_result"
    }
   ],
   "source": [
    "# Add data to dataframe\n",
    "df_large.loc[\"Upflow, entrained, slagging gasifier + cleaning etc  (Shell IGCC) (w.o. cleaning)\"] = [size_electricity_MWel_5_a, None, hourly_feedstock_mass_5_a, hourly_feedstock_energy_5_a, gasifier_data_5[\"reference\"]]\n",
    "df_large.loc[\"E-GasTM gasifier (w.o. cleaning)\"] = [size_electricity_MWel_5_b, None, hourly_feedstock_mass_5_b, hourly_feedstock_energy_5_b, gasifier_data_5[\"reference\"]]\n",
    "df_large.loc[\"GEP Radiant IGCC (w.o. cleaning)\"] = [size_electricity_MWel_5_c, None, hourly_feedstock_mass_5_c, hourly_feedstock_energy_5_c, gasifier_data_5[\"reference\"]]\n",
    "df_large.loc[\"GEP Radiant IGCC - Quench (w.o. cleaning)\"] = [size_electricity_MWel_5_d, None, hourly_feedstock_mass_5_d, hourly_feedstock_energy_5_d, gasifier_data_5[\"reference\"]]\n",
    "df_large"
   ],
   "metadata": {
    "collapsed": false,
    "ExecuteTime": {
     "end_time": "2023-09-14T15:30:29.655422800Z",
     "start_time": "2023-09-14T15:30:29.488766600Z"
    }
   }
  },
  {
   "cell_type": "code",
   "execution_count": 12,
   "outputs": [
    {
     "name": "stdout",
     "output_type": "stream",
     "text": [
      "Hourly feedstock mass requirement [tonne/hour]: 0.1\n",
      "Hourly feedstock energy requirement [kWh/hour]: 702.7777777777778\n",
      "Size electricity generation [MWel]: 0.419\n"
     ]
    }
   ],
   "source": [
    "# Data\n",
    "gasifier_data_6 = {\"reference\": {\"title\":\"Biomass-based integrated gasification combined cycle with post-combustion CO2 recovery by potassium carbonate: Techno-economic and environmental analysis\",\n",
    "                                 \"doi\": \"https://doi.org/10.1016/j.compchemeng.2020.106758\",\n",
    "                                 \"authors\": \"Ghiat et al.\"\n",
    "                                 },\n",
    "                   \"size\":\n",
    "                       {\"electricity generation\": {\"value\":419, \"units\": \"kWe\"},\n",
    "                        \"net electricity efficiency\": {\"value\": 0.438, \"units\": None},\n",
    "                        \"hourly feedstock input\": {\"value\": 100, \"units\": \"kg/hour\"},\n",
    "                        },\n",
    "                   \"feedstock\": {\"LHV\": 25.3,\n",
    "                                 \"type\": \"Date pits\",\n",
    "                                 \"units\": \"MJ/kg\"\n",
    "                                 },\n",
    "                 }\n",
    "\n",
    "\n",
    "# Calculations\n",
    "hourly_feedstock_mass_6 = gasifier_data_6[\"size\"][\"hourly feedstock input\"][\"value\"] / 1000  # tonne/hour\n",
    "hourly_feedstock_energy_6 = hourly_feedstock_mass_6  * MJ_to_kWh(gasifier_data_6[\"feedstock\"][\"LHV\"]) * 1000 # kWh/hour\n",
    "size_electricity_MWel_6 = gasifier_data_6[\"size\"][\"electricity generation\"][\"value\"] / 1000\n",
    "\n",
    "print(\"Hourly feedstock mass requirement [tonne/hour]:\", hourly_feedstock_mass_6)\n",
    "print(\"Hourly feedstock energy requirement [kWh/hour]:\", hourly_feedstock_energy_6)\n",
    "print(\"Size electricity generation [MWel]:\", size_electricity_MWel_6)"
   ],
   "metadata": {
    "collapsed": false,
    "ExecuteTime": {
     "end_time": "2023-09-14T15:30:29.655422800Z",
     "start_time": "2023-09-14T15:30:29.526763700Z"
    }
   }
  },
  {
   "cell_type": "code",
   "execution_count": 13,
   "outputs": [
    {
     "data": {
      "text/plain": "                                                    Size electricity generation (MWe)  \\\nBiomass gasifier with rankine cycle + all acces...                             0.3222   \nBiomass gasifier with rankine cycle + all acces...                             1.1540   \nBubbling Fluidised Bed Gasifier                                                0.4000   \nBubbling fluidised bed air gasifier + power pro...                             0.5000   \nBiomass-based integrated gasification combined ...                             0.4190   \n\n                                                   Size gasifier (MWth)  \\\nBiomass gasifier with rankine cycle + all acces...                  NaN   \nBiomass gasifier with rankine cycle + all acces...                  NaN   \nBubbling Fluidised Bed Gasifier                                     0.4   \nBubbling fluidised bed air gasifier + power pro...                  0.5   \nBiomass-based integrated gasification combined ...                 None   \n\n                                                    Feedstock mass input (tonnes/h)  \\\nBiomass gasifier with rankine cycle + all acces...                         0.380282   \nBiomass gasifier with rankine cycle + all acces...                         1.267606   \nBubbling Fluidised Bed Gasifier                                            0.694444   \nBubbling fluidised bed air gasifier + power pro...                         0.500000   \nBiomass-based integrated gasification combined ...                         0.100000   \n\n                                                    Feedstock energy input (kWh/h)  \\\nBiomass gasifier with rankine cycle + all acces...                     1500.000000   \nBiomass gasifier with rankine cycle + all acces...                     5000.000000   \nBubbling Fluidised Bed Gasifier                                        3182.870370   \nBubbling fluidised bed air gasifier + power pro...                     3222.222222   \nBiomass-based integrated gasification combined ...                      702.777778   \n\n                                                                                            Reference  \nBiomass gasifier with rankine cycle + all acces...  {'title': 'The influence of the size of the CH...  \nBiomass gasifier with rankine cycle + all acces...  {'title': 'The influence of the size of the CH...  \nBubbling Fluidised Bed Gasifier                     {'title': 'A techno-economic evaluation of a s...  \nBubbling fluidised bed air gasifier + power pro...  {'title': 'Fluidized bed gasification of a pac...  \nBiomass-based integrated gasification combined ...  {'title': 'Biomass-based integrated gasificati...  ",
      "text/html": "<div>\n<style scoped>\n    .dataframe tbody tr th:only-of-type {\n        vertical-align: middle;\n    }\n\n    .dataframe tbody tr th {\n        vertical-align: top;\n    }\n\n    .dataframe thead th {\n        text-align: right;\n    }\n</style>\n<table border=\"1\" class=\"dataframe\">\n  <thead>\n    <tr style=\"text-align: right;\">\n      <th></th>\n      <th>Size electricity generation (MWe)</th>\n      <th>Size gasifier (MWth)</th>\n      <th>Feedstock mass input (tonnes/h)</th>\n      <th>Feedstock energy input (kWh/h)</th>\n      <th>Reference</th>\n    </tr>\n  </thead>\n  <tbody>\n    <tr>\n      <th>Biomass gasifier with rankine cycle + all accessories - 1.5 MW biomass chemical energy</th>\n      <td>0.3222</td>\n      <td>NaN</td>\n      <td>0.380282</td>\n      <td>1500.000000</td>\n      <td>{'title': 'The influence of the size of the CH...</td>\n    </tr>\n    <tr>\n      <th>Biomass gasifier with rankine cycle + all accessories - 5 MW biomass chemical energy</th>\n      <td>1.1540</td>\n      <td>NaN</td>\n      <td>1.267606</td>\n      <td>5000.000000</td>\n      <td>{'title': 'The influence of the size of the CH...</td>\n    </tr>\n    <tr>\n      <th>Bubbling Fluidised Bed Gasifier</th>\n      <td>0.4000</td>\n      <td>0.4</td>\n      <td>0.694444</td>\n      <td>3182.870370</td>\n      <td>{'title': 'A techno-economic evaluation of a s...</td>\n    </tr>\n    <tr>\n      <th>Bubbling fluidised bed air gasifier + power production system + accessories</th>\n      <td>0.5000</td>\n      <td>0.5</td>\n      <td>0.500000</td>\n      <td>3222.222222</td>\n      <td>{'title': 'Fluidized bed gasification of a pac...</td>\n    </tr>\n    <tr>\n      <th>Biomass-based integrated gasification combined cycle with post-combustion CO2 recovery by potassium carbonate</th>\n      <td>0.4190</td>\n      <td>None</td>\n      <td>0.100000</td>\n      <td>702.777778</td>\n      <td>{'title': 'Biomass-based integrated gasificati...</td>\n    </tr>\n  </tbody>\n</table>\n</div>"
     },
     "execution_count": 13,
     "metadata": {},
     "output_type": "execute_result"
    }
   ],
   "source": [
    "df_small.loc[\"Biomass-based integrated gasification combined cycle with post-combustion CO2 recovery by potassium carbonate\"] = [size_electricity_MWel_6, None, hourly_feedstock_mass_6, hourly_feedstock_energy_6, gasifier_data_6[\"reference\"]]\n",
    "df_small"
   ],
   "metadata": {
    "collapsed": false,
    "ExecuteTime": {
     "end_time": "2023-09-14T15:30:29.667387300Z",
     "start_time": "2023-09-14T15:30:29.536737500Z"
    }
   }
  },
  {
   "cell_type": "code",
   "execution_count": 14,
   "outputs": [
    {
     "name": "stdout",
     "output_type": "stream",
     "text": [
      "Hourly feedstock mass requirement [tonne/hour]: 4.7\n",
      "Hourly feedstock energy requirement [kWh/hour]: 21710.083333333332\n",
      "Size electricity generation (w/o carbon capture) [MWel]: 13.16\n",
      "Size electricity generation (with carbon capture) [MWel]: 11.83\n",
      "Size electricity generation (with carbon capture and steam recovery) [MWel]: 12.15\n"
     ]
    }
   ],
   "source": [
    "# Data\n",
    "gasifier_data_7 = {\"reference\": {\"title\":\"CO2 capture from syngas generated by a biomass gasification power plant with chemical absorption process\",\n",
    "                                 \"doi\": \"https://doi.org/10.1016/j.energy.2018.02.109\",\n",
    "                                 \"authors\": \"Dinca et al.\"\n",
    "                                 },\n",
    "                   \"size\":\n",
    "                       {\"net_power_1\": {\"value\":13.16, \"units\": \"MWe\"},\n",
    "                        \"net_power_2\": {\"value\": 11.83, \"units\": \"MWe\"},  # with carbon capture\n",
    "                        \"net_power_3\": {\"value\": 12.15, \"units\": \"MWe\"},  # with carbon capture and steam recovery system\n",
    "                        \"hourly feedstock input\": {\"value\": 4.7, \"units\": \"tonnes/hour\"},\n",
    "                        },\n",
    "                   \"feedstock\": {\"LHV\": 16.629,\n",
    "                                 \"type\": \"Sawdust\",\n",
    "                                 \"units\": \"MJ/kg\"\n",
    "                                 },\n",
    "                 }\n",
    "\n",
    "\n",
    "# Calculations\n",
    "hourly_feedstock_mass_7 = gasifier_data_7[\"size\"][\"hourly feedstock input\"][\"value\"]  # tonne/hour\n",
    "hourly_feedstock_energy_7 = hourly_feedstock_mass_7  * MJ_to_kWh(gasifier_data_7[\"feedstock\"][\"LHV\"]) * 1000 # kWh/hour\n",
    "size_electricity_MWel_7_a = gasifier_data_7[\"size\"][\"net_power_1\"][\"value\"]  # MWe\n",
    "size_electricity_MWel_7_b = gasifier_data_7[\"size\"][\"net_power_2\"][\"value\"]  # MWe\n",
    "size_electricity_MWel_7_c = gasifier_data_7[\"size\"][\"net_power_3\"][\"value\"]  # MWe\n",
    "\n",
    "\n",
    "print(\"Hourly feedstock mass requirement [tonne/hour]:\", hourly_feedstock_mass_7)\n",
    "print(\"Hourly feedstock energy requirement [kWh/hour]:\", hourly_feedstock_energy_7)\n",
    "print(\"Size electricity generation (w/o carbon capture) [MWel]:\", size_electricity_MWel_7_a)\n",
    "print(\"Size electricity generation (with carbon capture) [MWel]:\", size_electricity_MWel_7_b)\n",
    "print(\"Size electricity generation (with carbon capture and steam recovery) [MWel]:\", size_electricity_MWel_7_c)\n",
    "\n"
   ],
   "metadata": {
    "collapsed": false,
    "ExecuteTime": {
     "end_time": "2023-09-14T15:30:29.668385Z",
     "start_time": "2023-09-14T15:30:29.550699900Z"
    }
   }
  },
  {
   "cell_type": "code",
   "execution_count": 15,
   "outputs": [
    {
     "data": {
      "text/plain": "                                                    Size electricity generation (MWe)  \\\nBiomass gasifier with rankine cycle + all acces...                             0.3222   \nBiomass gasifier with rankine cycle + all acces...                             1.1540   \nBubbling Fluidised Bed Gasifier                                                0.4000   \nBubbling fluidised bed air gasifier + power pro...                             0.5000   \nBiomass-based integrated gasification combined ...                             0.4190   \nDinca - Biomass gasification power plant (w/o c...                            13.1600   \nDinca - Biomass gasification power plant (with ...                            11.8300   \nDinca - Biomass gasification power plant (with ...                            12.1500   \n\n                                                   Size gasifier (MWth)  \\\nBiomass gasifier with rankine cycle + all acces...                  NaN   \nBiomass gasifier with rankine cycle + all acces...                  NaN   \nBubbling Fluidised Bed Gasifier                                     0.4   \nBubbling fluidised bed air gasifier + power pro...                  0.5   \nBiomass-based integrated gasification combined ...                 None   \nDinca - Biomass gasification power plant (w/o c...                 None   \nDinca - Biomass gasification power plant (with ...                 None   \nDinca - Biomass gasification power plant (with ...                 None   \n\n                                                    Feedstock mass input (tonnes/h)  \\\nBiomass gasifier with rankine cycle + all acces...                         0.380282   \nBiomass gasifier with rankine cycle + all acces...                         1.267606   \nBubbling Fluidised Bed Gasifier                                            0.694444   \nBubbling fluidised bed air gasifier + power pro...                         0.500000   \nBiomass-based integrated gasification combined ...                         0.100000   \nDinca - Biomass gasification power plant (w/o c...                         4.700000   \nDinca - Biomass gasification power plant (with ...                         4.700000   \nDinca - Biomass gasification power plant (with ...                         4.700000   \n\n                                                    Feedstock energy input (kWh/h)  \\\nBiomass gasifier with rankine cycle + all acces...                     1500.000000   \nBiomass gasifier with rankine cycle + all acces...                     5000.000000   \nBubbling Fluidised Bed Gasifier                                        3182.870370   \nBubbling fluidised bed air gasifier + power pro...                     3222.222222   \nBiomass-based integrated gasification combined ...                      702.777778   \nDinca - Biomass gasification power plant (w/o c...                    21710.083333   \nDinca - Biomass gasification power plant (with ...                    21710.083333   \nDinca - Biomass gasification power plant (with ...                    21710.083333   \n\n                                                                                            Reference  \nBiomass gasifier with rankine cycle + all acces...  {'title': 'The influence of the size of the CH...  \nBiomass gasifier with rankine cycle + all acces...  {'title': 'The influence of the size of the CH...  \nBubbling Fluidised Bed Gasifier                     {'title': 'A techno-economic evaluation of a s...  \nBubbling fluidised bed air gasifier + power pro...  {'title': 'Fluidized bed gasification of a pac...  \nBiomass-based integrated gasification combined ...  {'title': 'Biomass-based integrated gasificati...  \nDinca - Biomass gasification power plant (w/o c...  {'title': 'CO2 capture from syngas generated b...  \nDinca - Biomass gasification power plant (with ...  {'title': 'CO2 capture from syngas generated b...  \nDinca - Biomass gasification power plant (with ...  {'title': 'CO2 capture from syngas generated b...  ",
      "text/html": "<div>\n<style scoped>\n    .dataframe tbody tr th:only-of-type {\n        vertical-align: middle;\n    }\n\n    .dataframe tbody tr th {\n        vertical-align: top;\n    }\n\n    .dataframe thead th {\n        text-align: right;\n    }\n</style>\n<table border=\"1\" class=\"dataframe\">\n  <thead>\n    <tr style=\"text-align: right;\">\n      <th></th>\n      <th>Size electricity generation (MWe)</th>\n      <th>Size gasifier (MWth)</th>\n      <th>Feedstock mass input (tonnes/h)</th>\n      <th>Feedstock energy input (kWh/h)</th>\n      <th>Reference</th>\n    </tr>\n  </thead>\n  <tbody>\n    <tr>\n      <th>Biomass gasifier with rankine cycle + all accessories - 1.5 MW biomass chemical energy</th>\n      <td>0.3222</td>\n      <td>NaN</td>\n      <td>0.380282</td>\n      <td>1500.000000</td>\n      <td>{'title': 'The influence of the size of the CH...</td>\n    </tr>\n    <tr>\n      <th>Biomass gasifier with rankine cycle + all accessories - 5 MW biomass chemical energy</th>\n      <td>1.1540</td>\n      <td>NaN</td>\n      <td>1.267606</td>\n      <td>5000.000000</td>\n      <td>{'title': 'The influence of the size of the CH...</td>\n    </tr>\n    <tr>\n      <th>Bubbling Fluidised Bed Gasifier</th>\n      <td>0.4000</td>\n      <td>0.4</td>\n      <td>0.694444</td>\n      <td>3182.870370</td>\n      <td>{'title': 'A techno-economic evaluation of a s...</td>\n    </tr>\n    <tr>\n      <th>Bubbling fluidised bed air gasifier + power production system + accessories</th>\n      <td>0.5000</td>\n      <td>0.5</td>\n      <td>0.500000</td>\n      <td>3222.222222</td>\n      <td>{'title': 'Fluidized bed gasification of a pac...</td>\n    </tr>\n    <tr>\n      <th>Biomass-based integrated gasification combined cycle with post-combustion CO2 recovery by potassium carbonate</th>\n      <td>0.4190</td>\n      <td>None</td>\n      <td>0.100000</td>\n      <td>702.777778</td>\n      <td>{'title': 'Biomass-based integrated gasificati...</td>\n    </tr>\n    <tr>\n      <th>Dinca - Biomass gasification power plant (w/o carbon capture)</th>\n      <td>13.1600</td>\n      <td>None</td>\n      <td>4.700000</td>\n      <td>21710.083333</td>\n      <td>{'title': 'CO2 capture from syngas generated b...</td>\n    </tr>\n    <tr>\n      <th>Dinca - Biomass gasification power plant (with carbon capture)</th>\n      <td>11.8300</td>\n      <td>None</td>\n      <td>4.700000</td>\n      <td>21710.083333</td>\n      <td>{'title': 'CO2 capture from syngas generated b...</td>\n    </tr>\n    <tr>\n      <th>Dinca - Biomass gasification power plant (with carbon capture and steam recovery)</th>\n      <td>12.1500</td>\n      <td>None</td>\n      <td>4.700000</td>\n      <td>21710.083333</td>\n      <td>{'title': 'CO2 capture from syngas generated b...</td>\n    </tr>\n  </tbody>\n</table>\n</div>"
     },
     "execution_count": 15,
     "metadata": {},
     "output_type": "execute_result"
    }
   ],
   "source": [
    "# Add data to small dataframe\n",
    "df_small.loc[\"Dinca - Biomass gasification power plant (w/o carbon capture)\"] = [size_electricity_MWel_7_a, None, hourly_feedstock_mass_7, hourly_feedstock_energy_7, gasifier_data_7[\"reference\"]]\n",
    "df_small.loc[\"Dinca - Biomass gasification power plant (with carbon capture)\"] = [size_electricity_MWel_7_b, None, hourly_feedstock_mass_7, hourly_feedstock_energy_7, gasifier_data_7[\"reference\"]]\n",
    "df_small.loc[\"Dinca - Biomass gasification power plant (with carbon capture and steam recovery)\"] = [size_electricity_MWel_7_c, None, hourly_feedstock_mass_7, hourly_feedstock_energy_7, gasifier_data_7[\"reference\"]]\n",
    "df_small"
   ],
   "metadata": {
    "collapsed": false,
    "ExecuteTime": {
     "end_time": "2023-09-14T15:30:29.769115400Z",
     "start_time": "2023-09-14T15:30:29.569649600Z"
    }
   }
  },
  {
   "cell_type": "code",
   "execution_count": 16,
   "outputs": [
    {
     "data": {
      "text/plain": "                                                    Size electricity generation (MWe)  \\\nBiomass gasifier with rankine cycle + all acces...                             0.3222   \nBiomass gasifier with rankine cycle + all acces...                             1.1540   \nBubbling Fluidised Bed Gasifier                                                0.4000   \nBubbling fluidised bed air gasifier + power pro...                             0.5000   \nBiomass-based integrated gasification combined ...                             0.4190   \nDinca - Biomass gasification power plant (w/o c...                            13.1600   \nDinca - Biomass gasification power plant (with ...                            11.8300   \nDinca - Biomass gasification power plant (with ...                            12.1500   \nUpflow, entrained, slagging gasifier + cleaning...                           640.0000   \nE-GasTM gasifier (w.o. cleaning)                                             641.0000   \nGEP Radiant IGCC (w.o. cleaning)                                             634.0000   \nGEP Radiant IGCC - Quench (w.o. cleaning)                                    499.0000   \n\n                                                   Size gasifier (MWth)  \\\nBiomass gasifier with rankine cycle + all acces...                  NaN   \nBiomass gasifier with rankine cycle + all acces...                  NaN   \nBubbling Fluidised Bed Gasifier                                     0.4   \nBubbling fluidised bed air gasifier + power pro...                  0.5   \nBiomass-based integrated gasification combined ...                 None   \nDinca - Biomass gasification power plant (w/o c...                 None   \nDinca - Biomass gasification power plant (with ...                 None   \nDinca - Biomass gasification power plant (with ...                 None   \nUpflow, entrained, slagging gasifier + cleaning...                 None   \nE-GasTM gasifier (w.o. cleaning)                                   None   \nGEP Radiant IGCC (w.o. cleaning)                                   None   \nGEP Radiant IGCC - Quench (w.o. cleaning)                          None   \n\n                                                    Feedstock mass input (tonnes/h)  \\\nBiomass gasifier with rankine cycle + all acces...                         0.380282   \nBiomass gasifier with rankine cycle + all acces...                         1.267606   \nBubbling Fluidised Bed Gasifier                                            0.694444   \nBubbling fluidised bed air gasifier + power pro...                         0.500000   \nBiomass-based integrated gasification combined ...                         0.100000   \nDinca - Biomass gasification power plant (w/o c...                         4.700000   \nDinca - Biomass gasification power plant (with ...                         4.700000   \nDinca - Biomass gasification power plant (with ...                         4.700000   \nUpflow, entrained, slagging gasifier + cleaning...                       102.859691   \nE-GasTM gasifier (w.o. cleaning)                                          72.826397   \nGEP Radiant IGCC (w.o. cleaning)                                          98.432818   \nGEP Radiant IGCC - Quench (w.o. cleaning)                                 98.432818   \n\n                                                    Feedstock energy input (kWh/h)  \\\nBiomass gasifier with rankine cycle + all acces...                     1500.000000   \nBiomass gasifier with rankine cycle + all acces...                     5000.000000   \nBubbling Fluidised Bed Gasifier                                        3182.870370   \nBubbling fluidised bed air gasifier + power pro...                     3222.222222   \nBiomass-based integrated gasification combined ...                      702.777778   \nDinca - Biomass gasification power plant (w/o c...                    21710.083333   \nDinca - Biomass gasification power plant (with ...                    21710.083333   \nDinca - Biomass gasification power plant (with ...                    21710.083333   \nUpflow, entrained, slagging gasifier + cleaning...                   747161.365438   \nE-GasTM gasifier (w.o. cleaning)                                     529002.857048   \nGEP Radiant IGCC (w.o. cleaning)                                     715005.053508   \nGEP Radiant IGCC - Quench (w.o. cleaning)                            715005.053508   \n\n                                                                                            Reference  \nBiomass gasifier with rankine cycle + all acces...  {'title': 'The influence of the size of the CH...  \nBiomass gasifier with rankine cycle + all acces...  {'title': 'The influence of the size of the CH...  \nBubbling Fluidised Bed Gasifier                     {'title': 'A techno-economic evaluation of a s...  \nBubbling fluidised bed air gasifier + power pro...  {'title': 'Fluidized bed gasification of a pac...  \nBiomass-based integrated gasification combined ...  {'title': 'Biomass-based integrated gasificati...  \nDinca - Biomass gasification power plant (w/o c...  {'title': 'CO2 capture from syngas generated b...  \nDinca - Biomass gasification power plant (with ...  {'title': 'CO2 capture from syngas generated b...  \nDinca - Biomass gasification power plant (with ...  {'title': 'CO2 capture from syngas generated b...  \nUpflow, entrained, slagging gasifier + cleaning...  {'title': 'Cost and Performance Baseline for F...  \nE-GasTM gasifier (w.o. cleaning)                    {'title': 'Cost and Performance Baseline for F...  \nGEP Radiant IGCC (w.o. cleaning)                    {'title': 'Cost and Performance Baseline for F...  \nGEP Radiant IGCC - Quench (w.o. cleaning)           {'title': 'Cost and Performance Baseline for F...  ",
      "text/html": "<div>\n<style scoped>\n    .dataframe tbody tr th:only-of-type {\n        vertical-align: middle;\n    }\n\n    .dataframe tbody tr th {\n        vertical-align: top;\n    }\n\n    .dataframe thead th {\n        text-align: right;\n    }\n</style>\n<table border=\"1\" class=\"dataframe\">\n  <thead>\n    <tr style=\"text-align: right;\">\n      <th></th>\n      <th>Size electricity generation (MWe)</th>\n      <th>Size gasifier (MWth)</th>\n      <th>Feedstock mass input (tonnes/h)</th>\n      <th>Feedstock energy input (kWh/h)</th>\n      <th>Reference</th>\n    </tr>\n  </thead>\n  <tbody>\n    <tr>\n      <th>Biomass gasifier with rankine cycle + all accessories - 1.5 MW biomass chemical energy</th>\n      <td>0.3222</td>\n      <td>NaN</td>\n      <td>0.380282</td>\n      <td>1500.000000</td>\n      <td>{'title': 'The influence of the size of the CH...</td>\n    </tr>\n    <tr>\n      <th>Biomass gasifier with rankine cycle + all accessories - 5 MW biomass chemical energy</th>\n      <td>1.1540</td>\n      <td>NaN</td>\n      <td>1.267606</td>\n      <td>5000.000000</td>\n      <td>{'title': 'The influence of the size of the CH...</td>\n    </tr>\n    <tr>\n      <th>Bubbling Fluidised Bed Gasifier</th>\n      <td>0.4000</td>\n      <td>0.4</td>\n      <td>0.694444</td>\n      <td>3182.870370</td>\n      <td>{'title': 'A techno-economic evaluation of a s...</td>\n    </tr>\n    <tr>\n      <th>Bubbling fluidised bed air gasifier + power production system + accessories</th>\n      <td>0.5000</td>\n      <td>0.5</td>\n      <td>0.500000</td>\n      <td>3222.222222</td>\n      <td>{'title': 'Fluidized bed gasification of a pac...</td>\n    </tr>\n    <tr>\n      <th>Biomass-based integrated gasification combined cycle with post-combustion CO2 recovery by potassium carbonate</th>\n      <td>0.4190</td>\n      <td>None</td>\n      <td>0.100000</td>\n      <td>702.777778</td>\n      <td>{'title': 'Biomass-based integrated gasificati...</td>\n    </tr>\n    <tr>\n      <th>Dinca - Biomass gasification power plant (w/o carbon capture)</th>\n      <td>13.1600</td>\n      <td>None</td>\n      <td>4.700000</td>\n      <td>21710.083333</td>\n      <td>{'title': 'CO2 capture from syngas generated b...</td>\n    </tr>\n    <tr>\n      <th>Dinca - Biomass gasification power plant (with carbon capture)</th>\n      <td>11.8300</td>\n      <td>None</td>\n      <td>4.700000</td>\n      <td>21710.083333</td>\n      <td>{'title': 'CO2 capture from syngas generated b...</td>\n    </tr>\n    <tr>\n      <th>Dinca - Biomass gasification power plant (with carbon capture and steam recovery)</th>\n      <td>12.1500</td>\n      <td>None</td>\n      <td>4.700000</td>\n      <td>21710.083333</td>\n      <td>{'title': 'CO2 capture from syngas generated b...</td>\n    </tr>\n    <tr>\n      <th>Upflow, entrained, slagging gasifier + cleaning etc  (Shell IGCC) (w.o. cleaning)</th>\n      <td>640.0000</td>\n      <td>None</td>\n      <td>102.859691</td>\n      <td>747161.365438</td>\n      <td>{'title': 'Cost and Performance Baseline for F...</td>\n    </tr>\n    <tr>\n      <th>E-GasTM gasifier (w.o. cleaning)</th>\n      <td>641.0000</td>\n      <td>None</td>\n      <td>72.826397</td>\n      <td>529002.857048</td>\n      <td>{'title': 'Cost and Performance Baseline for F...</td>\n    </tr>\n    <tr>\n      <th>GEP Radiant IGCC (w.o. cleaning)</th>\n      <td>634.0000</td>\n      <td>None</td>\n      <td>98.432818</td>\n      <td>715005.053508</td>\n      <td>{'title': 'Cost and Performance Baseline for F...</td>\n    </tr>\n    <tr>\n      <th>GEP Radiant IGCC - Quench (w.o. cleaning)</th>\n      <td>499.0000</td>\n      <td>None</td>\n      <td>98.432818</td>\n      <td>715005.053508</td>\n      <td>{'title': 'Cost and Performance Baseline for F...</td>\n    </tr>\n  </tbody>\n</table>\n</div>"
     },
     "execution_count": 16,
     "metadata": {},
     "output_type": "execute_result"
    }
   ],
   "source": [
    "# Create complete dataframe\n",
    "df_complete = pd.concat([df_small, df_large], axis=0)\n",
    "df_complete"
   ],
   "metadata": {
    "collapsed": false,
    "ExecuteTime": {
     "end_time": "2023-09-14T15:30:29.796043900Z",
     "start_time": "2023-09-14T15:30:29.608561100Z"
    }
   }
  },
  {
   "cell_type": "markdown",
   "source": [
    "# Plot data for small systems (i.e. MWel size of <1.5 MWe or so)"
   ],
   "metadata": {
    "collapsed": false
   }
  },
  {
   "cell_type": "code",
   "execution_count": 17,
   "outputs": [
    {
     "name": "stdout",
     "output_type": "stream",
     "text": [
      "Electricity generation based on feedstock energy input\n"
     ]
    },
    {
     "data": {
      "text/plain": "<Figure size 432x288 with 1 Axes>",
      "image/png": "[encoded data removed]"
     },
     "metadata": {},
     "output_type": "display_data"
    },
    {
     "name": "stdout",
     "output_type": "stream",
     "text": [
      "Electricity generation based on feedstock mass input\n"
     ]
    },
    {
     "data": {
      "text/plain": "<Figure size 432x288 with 1 Axes>",
      "image/png": "[encoded data removed]"
     },
     "metadata": {},
     "output_type": "display_data"
    }
   ],
   "source": [
    "# Plot\n",
    "print(\"Electricity generation based on feedstock energy input\")\n",
    "g_energy = sns.scatterplot(data=df_small, x=\"Feedstock energy input (kWh/h)\", y=\"Size electricity generation (MWe)\")\n",
    "plt.show()\n",
    "# Plot\n",
    "print(\"Electricity generation based on feedstock mass input\")\n",
    "g_mass = sns.scatterplot(data=df_small, x=\"Feedstock mass input (tonnes/h)\", y=\"Size electricity generation (MWe)\")\n",
    "plt.show()"
   ],
   "metadata": {
    "collapsed": false,
    "ExecuteTime": {
     "end_time": "2023-09-14T15:30:30.190034500Z",
     "start_time": "2023-09-14T15:30:29.616524Z"
    }
   }
  },
  {
   "cell_type": "markdown",
   "source": [
    "# Regression model for small df"
   ],
   "metadata": {
    "collapsed": false
   }
  },
  {
   "cell_type": "code",
   "execution_count": 18,
   "outputs": [
    {
     "name": "stdout",
     "output_type": "stream",
     "text": [
      "Inputs:\n",
      "x input: [0.38028169 1.26760563 0.69444444 0.5        0.1        4.7\n",
      " 4.7        4.7       ]\n",
      "y input: [ 0.3222  1.154   0.4     0.5     0.419  13.16   11.83   12.15  ]\n",
      "\n",
      "R2 score for model trained on small dataset: 0.9821490333214241\n"
     ]
    }
   ],
   "source": [
    "# Display inputs\n",
    "x_small = np.array(df_small[\"Feedstock mass input (tonnes/h)\"].values)\n",
    "y_small = np.array(df_small[\"Size electricity generation (MWe)\"].values)\n",
    "\n",
    "print(\"Inputs:\")\n",
    "print(\"x input:\", x_small)\n",
    "print(\"y input:\", y_small)\n",
    "print()\n",
    "\n",
    "# fit regression model\n",
    "linear_regressor_small_df = LinearRegression().fit(X=x_small.reshape(-1,1), y=y_small)\n",
    "R2_small = linear_regressor_small_df.score(X=x_small.reshape(-1,1), y=y_small)\n",
    "print(\"R2 score for model trained on small dataset:\", R2_small)"
   ],
   "metadata": {
    "collapsed": false,
    "ExecuteTime": {
     "end_time": "2023-09-14T15:30:30.218964100Z",
     "start_time": "2023-09-14T15:30:30.013506800Z"
    }
   }
  },
  {
   "cell_type": "code",
   "execution_count": 19,
   "outputs": [
    {
     "data": {
      "text/plain": "<Figure size 432x288 with 1 Axes>",
      "image/png": "[encoded data removed]"
     },
     "metadata": {},
     "output_type": "display_data"
    }
   ],
   "source": [
    "# Get predictions to plot\n",
    "df_small_predictors = np.arange(start=0, stop=5, step=0.1)\n",
    "df_small_predictions = linear_regressor_small_df.predict(df_small_predictors.reshape(-1,1))\n",
    "\n",
    "# Plot regression model + data\n",
    "fig, ax = plt.subplots()\n",
    "ax.scatter(x_small, y_small)\n",
    "ax.plot(df_small_predictors, df_small_predictions, color=\"red\")\n",
    "ax.set_xlabel(\"Feedstock mass input (tonnes/h)\")\n",
    "ax.set_ylabel(\"Size electricity generation (MWe)\")\n",
    "\n",
    "plt.show()"
   ],
   "metadata": {
    "collapsed": false,
    "ExecuteTime": {
     "end_time": "2023-09-14T15:30:30.426867900Z",
     "start_time": "2023-09-14T15:30:30.033452900Z"
    }
   }
  },
  {
   "cell_type": "markdown",
   "source": [
    "# Regression model for very small df (i.e. <2 tonnes/h)\n"
   ],
   "metadata": {
    "collapsed": false
   }
  },
  {
   "cell_type": "code",
   "execution_count": 31,
   "outputs": [
    {
     "name": "stdout",
     "output_type": "stream",
     "text": [
      "Inputs:\n",
      "x input: [0.38028169 1.26760563 0.69444444 0.5        0.1       ]\n",
      "y input: [0.3222 1.154  0.4    0.5    0.419 ]\n",
      "\n",
      "R2 score for model trained on small dataset: 0.744717748467087\n"
     ]
    }
   ],
   "source": [
    "# Display inputs\n",
    "x_small_sub2 = np.array(df_small[\"Feedstock mass input (tonnes/h)\"].values[df_small[\"Feedstock mass input (tonnes/h)\"].values<2])\n",
    "y_small_sub2 = np.array(df_small[\"Size electricity generation (MWe)\"].values[df_small[\"Feedstock mass input (tonnes/h)\"].values<2])\n",
    "\n",
    "print(\"Inputs:\")\n",
    "print(\"x input:\", x_small_sub2)\n",
    "print(\"y input:\", y_small_sub2)\n",
    "print()\n",
    "\n",
    "# fit regression model\n",
    "linear_regressor_small_df_sub2 = LinearRegression().fit(X=x_small_sub2.reshape(-1,1), y=y_small_sub2)\n",
    "R2_small_sub2 = linear_regressor_small_df.score(X=x_small_sub2.reshape(-1,1), y=y_small_sub2)\n",
    "print(\"R2 score for model trained on small dataset:\", R2_small_sub2)"
   ],
   "metadata": {
    "collapsed": false,
    "ExecuteTime": {
     "end_time": "2023-09-14T15:32:27.186578600Z",
     "start_time": "2023-09-14T15:32:27.150212500Z"
    }
   }
  },
  {
   "cell_type": "code",
   "execution_count": 32,
   "outputs": [
    {
     "data": {
      "text/plain": "<Figure size 432x288 with 1 Axes>",
      "image/png": "[encoded data removed]"
     },
     "metadata": {},
     "output_type": "display_data"
    }
   ],
   "source": [
    "# Get predictions to plot\n",
    "df_small_predictors_sub2 = np.arange(start=0, stop=3, step=0.1)\n",
    "df_small_predictions_sub2 = linear_regressor_small_df_sub2.predict(df_small_predictors_sub2.reshape(-1,1))\n",
    "\n",
    "# Plot regression model + data\n",
    "fig, ax = plt.subplots()\n",
    "ax.scatter(x_small, y_small)\n",
    "ax.plot(df_small_predictors_sub2, df_small_predictions_sub2, color=\"red\")\n",
    "ax.set_xlabel(\"Feedstock mass input (tonnes/h)\")\n",
    "ax.set_ylabel(\"Size electricity generation (MWe)\")\n",
    "\n",
    "plt.show()"
   ],
   "metadata": {
    "collapsed": false,
    "ExecuteTime": {
     "end_time": "2023-09-14T15:34:13.997098900Z",
     "start_time": "2023-09-14T15:34:13.851736700Z"
    }
   }
  },
  {
   "cell_type": "markdown",
   "source": [
    "# Example regression model for complete df"
   ],
   "metadata": {
    "collapsed": false
   }
  },
  {
   "cell_type": "code",
   "execution_count": 21,
   "outputs": [
    {
     "name": "stdout",
     "output_type": "stream",
     "text": [
      "Inputs:\n",
      "x input: [3.80281690e-01 1.26760563e+00 6.94444444e-01 5.00000000e-01\n",
      " 1.00000000e-01 4.70000000e+00 4.70000000e+00 4.70000000e+00\n",
      " 1.02859691e+02 7.28263971e+01 9.84328181e+01 9.84328181e+01]\n",
      "y input: [3.222e-01 1.154e+00 4.000e-01 5.000e-01 4.190e-01 1.316e+01 1.183e+01\n",
      " 1.215e+01 6.400e+02 6.410e+02 6.340e+02 4.990e+02]\n",
      "\n",
      "R2 score for model trained on complete dataset: 0.9495210731996869\n"
     ]
    }
   ],
   "source": [
    "# Display data\n",
    "x_complete = np.array(df_complete[\"Feedstock mass input (tonnes/h)\"].values)\n",
    "y_complete = np.array(df_complete[\"Size electricity generation (MWe)\"].values)\n",
    "\n",
    "print(\"Inputs:\")\n",
    "print(\"x input:\", x_complete)\n",
    "print(\"y input:\", y_complete)\n",
    "print()\n",
    "\n",
    "# fit regression model\n",
    "linear_regressor_complete_df = LinearRegression().fit(X=x_complete.reshape(-1, 1), y=y_complete)\n",
    "R2_complete = linear_regressor_complete_df.score(X=x_complete.reshape(-1, 1), y=y_complete)\n",
    "print(\"R2 score for model trained on complete dataset:\", R2_complete)"
   ],
   "metadata": {
    "collapsed": false,
    "ExecuteTime": {
     "end_time": "2023-09-14T15:30:30.459779800Z",
     "start_time": "2023-09-14T15:30:30.245907200Z"
    }
   }
  },
  {
   "cell_type": "code",
   "execution_count": 22,
   "outputs": [
    {
     "data": {
      "text/plain": "<Figure size 432x288 with 1 Axes>",
      "image/png": "[encoded data removed]"
     },
     "metadata": {},
     "output_type": "display_data"
    }
   ],
   "source": [
    "# Get predictions to plot\n",
    "df_complete_predictors = np.arange(start=0, stop=120, step=1)\n",
    "df_complete_predictions = linear_regressor_complete_df.predict(df_complete_predictors.reshape(-1, 1))\n",
    "\n",
    "# Plot regression model + data\n",
    "fig, ax = plt.subplots()\n",
    "ax.scatter(x_complete, y_complete)\n",
    "ax.plot(df_complete_predictors, df_complete_predictions, color=\"red\")\n",
    "ax.set_xlabel(\"Feedstock mass input (tonnes/h)\")\n",
    "ax.set_ylabel(\"Size electricity generation (MWe)\")\n",
    "plt.show()\n"
   ],
   "metadata": {
    "collapsed": false,
    "ExecuteTime": {
     "end_time": "2023-09-14T15:30:30.479758700Z",
     "start_time": "2023-09-14T15:30:30.261848900Z"
    }
   }
  },
  {
   "cell_type": "markdown",
   "source": [
    "Complete data set likely not suitable - data points are too spaced out - data points >400 MWe size all come from one data source and large coal gasification plants - so likely would not apply to my data"
   ],
   "metadata": {
    "collapsed": false
   }
  },
  {
   "cell_type": "markdown",
   "source": [
    "# Compare two models"
   ],
   "metadata": {
    "collapsed": false
   }
  },
  {
   "cell_type": "code",
   "execution_count": 23,
   "outputs": [
    {
     "data": {
      "text/plain": "<Figure size 432x288 with 1 Axes>",
      "image/png": "[encoded data removed]"
     },
     "metadata": {},
     "output_type": "display_data"
    }
   ],
   "source": [
    "# Get predictions for whole set\n",
    "df_complete_predictions = linear_regressor_complete_df.predict(df_complete_predictors.reshape(-1, 1))\n",
    "df_small_predictions_on_whole_set = linear_regressor_small_df.predict(df_complete_predictors.reshape(-1, 1))\n",
    "\n",
    "# Plot results\n",
    "fig, ax = plt.subplots()\n",
    "ax.scatter(x_complete, y_complete)\n",
    "ax.plot(df_complete_predictors, df_complete_predictions, color=\"red\")\n",
    "ax.plot(df_complete_predictors, df_small_predictions_on_whole_set, color=\"green\")\n",
    "ax.set_xlabel(\"Feedstock mass input (tonnes/h)\")\n",
    "ax.set_ylabel(\"Size electricity generation (MWe)\")\n",
    "plt.show()\n"
   ],
   "metadata": {
    "collapsed": false,
    "ExecuteTime": {
     "end_time": "2023-09-14T15:30:30.622854200Z",
     "start_time": "2023-09-14T15:30:30.438835900Z"
    }
   }
  },
  {
   "cell_type": "markdown",
   "source": [
    "The two models are very different and clearly don't agree well with each other - just too much of a gap between data points"
   ],
   "metadata": {
    "collapsed": false
   }
  },
  {
   "cell_type": "code",
   "execution_count": 24,
   "outputs": [
    {
     "name": "stdout",
     "output_type": "stream",
     "text": [
      "R2 score across all data points for model trained on small dataset: 0.4946124617304445\n"
     ]
    }
   ],
   "source": [
    "# R2 of small model across whole data set\n",
    "R2 = linear_regressor_small_df.score(X=x_complete.reshape(-1,1), y=y_complete)\n",
    "print(\"R2 score across all data points for model trained on small dataset:\", R2)"
   ],
   "metadata": {
    "collapsed": false,
    "ExecuteTime": {
     "end_time": "2023-09-14T15:30:30.625844500Z",
     "start_time": "2023-09-14T15:30:30.608889300Z"
    }
   }
  },
  {
   "cell_type": "markdown",
   "source": [
    "Very poor performance - data points of very large systems (all coming from one source on coal gasification) are too different to rest of data"
   ],
   "metadata": {
    "collapsed": false
   }
  },
  {
   "cell_type": "code",
   "execution_count": 25,
   "outputs": [
    {
     "name": "stdout",
     "output_type": "stream",
     "text": [
      "Small model prediction for a feedstock mass input of 1 tonne/hour: 1.800777315839576\n",
      "Complete model prediction for a feedstock mass input of 1 tonne/hour: 3.973305693021305\n"
     ]
    }
   ],
   "source": [
    "# Compare predictions for same data point\n",
    "print(\"Small model prediction for a feedstock mass input of 1 tonne/hour:\", float(linear_regressor_small_df.predict(np.array(1).reshape(-1, 1))))\n",
    "print(\"Complete model prediction for a feedstock mass input of 1 tonne/hour:\", float(linear_regressor_complete_df.predict(np.array(1).reshape(-1, 1))))"
   ],
   "metadata": {
    "collapsed": false,
    "ExecuteTime": {
     "end_time": "2023-09-14T15:30:30.666734900Z",
     "start_time": "2023-09-14T15:30:30.625844500Z"
    }
   }
  },
  {
   "cell_type": "markdown",
   "source": [
    "Huge variation and complete model clearly predicts things very wrong."
   ],
   "metadata": {
    "collapsed": false
   }
  },
  {
   "cell_type": "markdown",
   "source": [
    "# Export data to csv file"
   ],
   "metadata": {
    "collapsed": false
   }
  },
  {
   "cell_type": "code",
   "execution_count": 26,
   "outputs": [],
   "source": [
    "# Export small dataframe to csv file\n",
    "\n",
    "project_root = get_project_root()\n",
    "file_name = str(project_root) + r\"\\data\\system_size_data.csv\"\n",
    "df_small.to_csv(file_name)  # save to data folder\n",
    "df_small.to_csv(\"system_size_data.csv\")  # save to local folder\n",
    "\n"
   ],
   "metadata": {
    "collapsed": false,
    "ExecuteTime": {
     "end_time": "2023-09-14T15:30:30.747199800Z",
     "start_time": "2023-09-14T15:30:30.639809Z"
    }
   }
  },
  {
   "cell_type": "code",
   "execution_count": 27,
   "outputs": [
    {
     "data": {
      "text/plain": "                                                    Size electricity generation (MWe)  \\\nBiomass gasifier with rankine cycle + all acces...                             0.3222   \nBiomass gasifier with rankine cycle + all acces...                             1.1540   \nBubbling Fluidised Bed Gasifier                                                0.4000   \nBubbling fluidised bed air gasifier + power pro...                             0.5000   \nBiomass-based integrated gasification combined ...                             0.4190   \nDinca - Biomass gasification power plant (w/o c...                            13.1600   \nDinca - Biomass gasification power plant (with ...                            11.8300   \nDinca - Biomass gasification power plant (with ...                            12.1500   \n\n                                                    Size gasifier (MWth)  \\\nBiomass gasifier with rankine cycle + all acces...                   NaN   \nBiomass gasifier with rankine cycle + all acces...                   NaN   \nBubbling Fluidised Bed Gasifier                                      0.4   \nBubbling fluidised bed air gasifier + power pro...                   0.5   \nBiomass-based integrated gasification combined ...                   NaN   \nDinca - Biomass gasification power plant (w/o c...                   NaN   \nDinca - Biomass gasification power plant (with ...                   NaN   \nDinca - Biomass gasification power plant (with ...                   NaN   \n\n                                                    Feedstock mass input (tonnes/h)  \\\nBiomass gasifier with rankine cycle + all acces...                         0.380282   \nBiomass gasifier with rankine cycle + all acces...                         1.267606   \nBubbling Fluidised Bed Gasifier                                            0.694444   \nBubbling fluidised bed air gasifier + power pro...                         0.500000   \nBiomass-based integrated gasification combined ...                         0.100000   \nDinca - Biomass gasification power plant (w/o c...                         4.700000   \nDinca - Biomass gasification power plant (with ...                         4.700000   \nDinca - Biomass gasification power plant (with ...                         4.700000   \n\n                                                    Feedstock energy input (kWh/h)  \\\nBiomass gasifier with rankine cycle + all acces...                     1500.000000   \nBiomass gasifier with rankine cycle + all acces...                     5000.000000   \nBubbling Fluidised Bed Gasifier                                        3182.870370   \nBubbling fluidised bed air gasifier + power pro...                     3222.222222   \nBiomass-based integrated gasification combined ...                      702.777778   \nDinca - Biomass gasification power plant (w/o c...                    21710.083333   \nDinca - Biomass gasification power plant (with ...                    21710.083333   \nDinca - Biomass gasification power plant (with ...                    21710.083333   \n\n                                                                                            Reference  \nBiomass gasifier with rankine cycle + all acces...  {'title': 'The influence of the size of the CH...  \nBiomass gasifier with rankine cycle + all acces...  {'title': 'The influence of the size of the CH...  \nBubbling Fluidised Bed Gasifier                     {'title': 'A techno-economic evaluation of a s...  \nBubbling fluidised bed air gasifier + power pro...  {'title': 'Fluidized bed gasification of a pac...  \nBiomass-based integrated gasification combined ...  {'title': 'Biomass-based integrated gasificati...  \nDinca - Biomass gasification power plant (w/o c...  {'title': 'CO2 capture from syngas generated b...  \nDinca - Biomass gasification power plant (with ...  {'title': 'CO2 capture from syngas generated b...  \nDinca - Biomass gasification power plant (with ...  {'title': 'CO2 capture from syngas generated b...  ",
      "text/html": "<div>\n<style scoped>\n    .dataframe tbody tr th:only-of-type {\n        vertical-align: middle;\n    }\n\n    .dataframe tbody tr th {\n        vertical-align: top;\n    }\n\n    .dataframe thead th {\n        text-align: right;\n    }\n</style>\n<table border=\"1\" class=\"dataframe\">\n  <thead>\n    <tr style=\"text-align: right;\">\n      <th></th>\n      <th>Size electricity generation (MWe)</th>\n      <th>Size gasifier (MWth)</th>\n      <th>Feedstock mass input (tonnes/h)</th>\n      <th>Feedstock energy input (kWh/h)</th>\n      <th>Reference</th>\n    </tr>\n  </thead>\n  <tbody>\n    <tr>\n      <th>Biomass gasifier with rankine cycle + all accessories - 1.5 MW biomass chemical energy</th>\n      <td>0.3222</td>\n      <td>NaN</td>\n      <td>0.380282</td>\n      <td>1500.000000</td>\n      <td>{'title': 'The influence of the size of the CH...</td>\n    </tr>\n    <tr>\n      <th>Biomass gasifier with rankine cycle + all accessories - 5 MW biomass chemical energy</th>\n      <td>1.1540</td>\n      <td>NaN</td>\n      <td>1.267606</td>\n      <td>5000.000000</td>\n      <td>{'title': 'The influence of the size of the CH...</td>\n    </tr>\n    <tr>\n      <th>Bubbling Fluidised Bed Gasifier</th>\n      <td>0.4000</td>\n      <td>0.4</td>\n      <td>0.694444</td>\n      <td>3182.870370</td>\n      <td>{'title': 'A techno-economic evaluation of a s...</td>\n    </tr>\n    <tr>\n      <th>Bubbling fluidised bed air gasifier + power production system + accessories</th>\n      <td>0.5000</td>\n      <td>0.5</td>\n      <td>0.500000</td>\n      <td>3222.222222</td>\n      <td>{'title': 'Fluidized bed gasification of a pac...</td>\n    </tr>\n    <tr>\n      <th>Biomass-based integrated gasification combined cycle with post-combustion CO2 recovery by potassium carbonate</th>\n      <td>0.4190</td>\n      <td>NaN</td>\n      <td>0.100000</td>\n      <td>702.777778</td>\n      <td>{'title': 'Biomass-based integrated gasificati...</td>\n    </tr>\n    <tr>\n      <th>Dinca - Biomass gasification power plant (w/o carbon capture)</th>\n      <td>13.1600</td>\n      <td>NaN</td>\n      <td>4.700000</td>\n      <td>21710.083333</td>\n      <td>{'title': 'CO2 capture from syngas generated b...</td>\n    </tr>\n    <tr>\n      <th>Dinca - Biomass gasification power plant (with carbon capture)</th>\n      <td>11.8300</td>\n      <td>NaN</td>\n      <td>4.700000</td>\n      <td>21710.083333</td>\n      <td>{'title': 'CO2 capture from syngas generated b...</td>\n    </tr>\n    <tr>\n      <th>Dinca - Biomass gasification power plant (with carbon capture and steam recovery)</th>\n      <td>12.1500</td>\n      <td>NaN</td>\n      <td>4.700000</td>\n      <td>21710.083333</td>\n      <td>{'title': 'CO2 capture from syngas generated b...</td>\n    </tr>\n  </tbody>\n</table>\n</div>"
     },
     "execution_count": 27,
     "metadata": {},
     "output_type": "execute_result"
    }
   ],
   "source": [
    "# Example of how data should be loaded\n",
    "pd.read_csv(file_name, index_col=0)"
   ],
   "metadata": {
    "collapsed": false,
    "ExecuteTime": {
     "end_time": "2023-09-14T15:30:30.765785600Z",
     "start_time": "2023-09-14T15:30:30.656761600Z"
    }
   }
  }
 ],
 "metadata": {
  "kernelspec": {
   "display_name": "Python 3",
   "language": "python",
   "name": "python3"
  },
  "language_info": {
   "codemirror_mode": {
    "name": "ipython",
    "version": 2
   },
   "file_extension": ".py",
   "mimetype": "text/x-python",
   "name": "python",
   "nbconvert_exporter": "python",
   "pygments_lexer": "ipython2",
   "version": "2.7.6"
  }
 },
 "nbformat": 4,
 "nbformat_minor": 0
}

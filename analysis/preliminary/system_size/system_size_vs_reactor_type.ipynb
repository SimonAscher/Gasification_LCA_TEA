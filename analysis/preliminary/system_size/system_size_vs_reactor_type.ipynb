{
 "cells": [
  {
   "cell_type": "markdown",
   "source": [
    "# System sizes vs gasification reactor\n",
    "Analysis on the relationship between system sizes and gasification reactor - based on data collected for ML model development\n",
    "\n",
    "Note: No detailed system sizes collected - only lab/pilot etc."
   ],
   "metadata": {
    "collapsed": false
   }
  },
  {
   "cell_type": "code",
   "execution_count": 1,
   "outputs": [],
   "source": [
    "import os\n",
    "\n",
    "import pandas as pd\n",
    "import seaborn as sns\n",
    "import matplotlib.pyplot as plt\n",
    "import numpy as np\n",
    "\n",
    "from functions.general.utility import get_project_root\n"
   ],
   "metadata": {
    "collapsed": false,
    "ExecuteTime": {
     "end_time": "2024-01-12T12:40:57.208418600Z",
     "start_time": "2024-01-12T12:40:56.088210300Z"
    }
   }
  },
  {
   "cell_type": "markdown",
   "source": [],
   "metadata": {
    "collapsed": false
   }
  },
  {
   "cell_type": "code",
   "execution_count": 2,
   "outputs": [],
   "source": [
    "# Get data\n",
    "\n",
    "current_directory = os.getcwd()\n",
    "root_dir = get_project_root()\n",
    "combined_data_file = root_dir + '\\data\\\\' + 'gasification_size_vs_reactor_type_data.csv'\n",
    "df_combined = pd.read_csv(combined_data_file)\n"
   ],
   "metadata": {
    "collapsed": false,
    "ExecuteTime": {
     "end_time": "2024-01-12T12:40:57.244322300Z",
     "start_time": "2024-01-12T12:40:57.209415700Z"
    }
   }
  },
  {
   "cell_type": "code",
   "execution_count": 3,
   "outputs": [
    {
     "data": {
      "text/plain": "     Reactor Type Scale [kW or descriptive]  Scale [kW] Scale [descriptive]  \\\n0   fluidised bed                     pilot         NaN               pilot   \n1   fluidised bed                       500       501.0               pilot   \n2   fluidised bed                     pilot         NaN               pilot   \n3   fluidised bed                       lab         NaN                 lab   \n4   fluidised bed                       lab         NaN                 lab   \n5   fluidised bed                       100       101.0               pilot   \n6       fixed bed                       lab         NaN                 lab   \n7   fluidised bed                     pilot         NaN               pilot   \n8   fluidised bed                       127       128.0               pilot   \n9   fluidised bed                       lab         NaN                 lab   \n10  fluidised bed                       lab         NaN                 lab   \n11      fixed bed                       lab         NaN                 lab   \n12  fluidised bed                     pilot         NaN               pilot   \n13      fixed bed                       lab         NaN                 lab   \n14  fluidised bed                        20        20.0                 lab   \n15  fluidised bed                       800       800.0               pilot   \n16          other                       lab         NaN                 lab   \n17      fixed bed                     pilot         NaN               pilot   \n18      fixed bed                       lab         NaN                 lab   \n19  fluidised bed                     pilot         NaN               pilot   \n20  fluidised bed                     pilot         NaN               pilot   \n21  fluidised bed                       lab         NaN                 lab   \n22      fixed bed                       350       351.0               pilot   \n23  fluidised bed                       lab         NaN                 lab   \n24  fluidised bed                       lab         NaN                 lab   \n25  fluidised bed                       100       101.0               pilot   \n26          other                     pilot         NaN               pilot   \n27  fluidised bed                      1672      1672.0          industrial   \n28  fluidised bed                       322       322.0               pilot   \n29  fluidised bed                      1154      1154.0          industrial   \n30  fluidised bed                       400       400.0               pilot   \n31  fluidised bed                       500       500.0               pilot   \n32  fluidised bed                       419       419.0               pilot   \n33  fluidised bed                     12380     12380.0          industrial   \n34      fixed bed                        80        80.0                 lab   \n\n                                            Reference  \\\n0                      Arena, Fuel 2014, 117, 528-536   \n1         Arena, Waste Management 2010, 30, 1212-1219   \n2   Lahijani, Bioresource Technology 2011, 102, 20...   \n3         Lv, Bioresource Technology 2004, 95, 95-101   \n4   de Andres, Fuel Processing Technology 2011, 92...   \n5   Kaewluan, Fuel Processing Technology 2011, 92,...   \n6   Sarker, Energy Conversion and Management, 2015...   \n7   Sarker, Energy Conversion and Management, 2015...   \n8   Mansaray, Biomass and Bioenergy 1999, 17, 315-332   \n9       Loha, J Renew and Sust Energy 2013, 5, 043111   \n10    Baratieri, Waste Biomass Valor 2010, 1, 283-291   \n11                      Luo, Energy 2012, 44, 391-395   \n12   Khan, Energy Convers. Manag. 2014, 87, 1224-1230   \n13           Wang, Int. J. Hydrog 2012, 37, 6503-6510   \n14                   Karatas, Fuel 2018, 214, 285-292   \n15                    Huynh, Fuel 2013, 103, 987-996    \n16          Erkiaga, Chem. Eng. J. 2014, 237, 259-267   \n17           Yin, Bioresour. Technol. 2012, 119,15-21   \n18            Gai, Int. J. Hydrog 2012, 37, 4935-4944   \n19       Ruoppolo, Waste Management 2012, 32, 724-732   \n20  Narváez, Ind. Eng. Chem. Res. 1996, 35, 2110-2120   \n21          Song, Biomass Bioenergy 2012, 36, 258-267   \n22  Biagini, Bioresource Technology 2016, 201, 156...   \n23  Herguido, Ind. Eng. Chem. Res. 1992, 31, 1274-...   \n24  Fremaux, Energy Convers. Manag. 2015, 91, 427-432   \n25                     Zhang, Fuel 2017, 188, 628-637   \n26         Iovane, BIOMASS BIOENERG 2013, 56, 423-431   \n27                Paranascu, Energy 2019, 189, 116095   \n28         Skorek-Osikowska, Energy 2014, 67, 328-340   \n29         Skorek-Osikowska, Energy 2014, 67, 328-340   \n30  Arena, Fuel Processing Technology 2015, 131, 6...   \n31              Di Gregorio, Energy 2012, 42, 331-341   \n32  Ghiat, Computers & Chemical Engineering, 135, ...   \n33                   Dinca, Energy 2018, 149, 925-936   \n34             Jayah, Biomass Bioenergy 2003, 459-469   \n\n                                                 Note  \n0                           from original ML data set  \n1                           from original ML data set  \n2                           from original ML data set  \n3                           from original ML data set  \n4                           from original ML data set  \n5                           from original ML data set  \n6                           from original ML data set  \n7                           from original ML data set  \n8                           from original ML data set  \n9                           from original ML data set  \n10                          from original ML data set  \n11                          from original ML data set  \n12                          from original ML data set  \n13                          from original ML data set  \n14                          from original ML data set  \n15                          from original ML data set  \n16                          from original ML data set  \n17                          from original ML data set  \n18                          from original ML data set  \n19                          from original ML data set  \n20                          from original ML data set  \n21                          from original ML data set  \n22                          from original ML data set  \n23                          from original ML data set  \n24                          from original ML data set  \n25                          from original ML data set  \n26                          from original ML data set  \n27  calculated from energy/hour data by using empi...  \n28                                                NaN  \n29                                                NaN  \n30                                                NaN  \n31                                                NaN  \n32                                                NaN  \n33                                                NaN  \n34                                                NaN  ",
      "text/html": "<div>\n<style scoped>\n    .dataframe tbody tr th:only-of-type {\n        vertical-align: middle;\n    }\n\n    .dataframe tbody tr th {\n        vertical-align: top;\n    }\n\n    .dataframe thead th {\n        text-align: right;\n    }\n</style>\n<table border=\"1\" class=\"dataframe\">\n  <thead>\n    <tr style=\"text-align: right;\">\n      <th></th>\n      <th>Reactor Type</th>\n      <th>Scale [kW or descriptive]</th>\n      <th>Scale [kW]</th>\n      <th>Scale [descriptive]</th>\n      <th>Reference</th>\n      <th>Note</th>\n    </tr>\n  </thead>\n  <tbody>\n    <tr>\n      <th>0</th>\n      <td>fluidised bed</td>\n      <td>pilot</td>\n      <td>NaN</td>\n      <td>pilot</td>\n      <td>Arena, Fuel 2014, 117, 528-536</td>\n      <td>from original ML data set</td>\n    </tr>\n    <tr>\n      <th>1</th>\n      <td>fluidised bed</td>\n      <td>500</td>\n      <td>501.0</td>\n      <td>pilot</td>\n      <td>Arena, Waste Management 2010, 30, 1212-1219</td>\n      <td>from original ML data set</td>\n    </tr>\n    <tr>\n      <th>2</th>\n      <td>fluidised bed</td>\n      <td>pilot</td>\n      <td>NaN</td>\n      <td>pilot</td>\n      <td>Lahijani, Bioresource Technology 2011, 102, 20...</td>\n      <td>from original ML data set</td>\n    </tr>\n    <tr>\n      <th>3</th>\n      <td>fluidised bed</td>\n      <td>lab</td>\n      <td>NaN</td>\n      <td>lab</td>\n      <td>Lv, Bioresource Technology 2004, 95, 95-101</td>\n      <td>from original ML data set</td>\n    </tr>\n    <tr>\n      <th>4</th>\n      <td>fluidised bed</td>\n      <td>lab</td>\n      <td>NaN</td>\n      <td>lab</td>\n      <td>de Andres, Fuel Processing Technology 2011, 92...</td>\n      <td>from original ML data set</td>\n    </tr>\n    <tr>\n      <th>5</th>\n      <td>fluidised bed</td>\n      <td>100</td>\n      <td>101.0</td>\n      <td>pilot</td>\n      <td>Kaewluan, Fuel Processing Technology 2011, 92,...</td>\n      <td>from original ML data set</td>\n    </tr>\n    <tr>\n      <th>6</th>\n      <td>fixed bed</td>\n      <td>lab</td>\n      <td>NaN</td>\n      <td>lab</td>\n      <td>Sarker, Energy Conversion and Management, 2015...</td>\n      <td>from original ML data set</td>\n    </tr>\n    <tr>\n      <th>7</th>\n      <td>fluidised bed</td>\n      <td>pilot</td>\n      <td>NaN</td>\n      <td>pilot</td>\n      <td>Sarker, Energy Conversion and Management, 2015...</td>\n      <td>from original ML data set</td>\n    </tr>\n    <tr>\n      <th>8</th>\n      <td>fluidised bed</td>\n      <td>127</td>\n      <td>128.0</td>\n      <td>pilot</td>\n      <td>Mansaray, Biomass and Bioenergy 1999, 17, 315-332</td>\n      <td>from original ML data set</td>\n    </tr>\n    <tr>\n      <th>9</th>\n      <td>fluidised bed</td>\n      <td>lab</td>\n      <td>NaN</td>\n      <td>lab</td>\n      <td>Loha, J Renew and Sust Energy 2013, 5, 043111</td>\n      <td>from original ML data set</td>\n    </tr>\n    <tr>\n      <th>10</th>\n      <td>fluidised bed</td>\n      <td>lab</td>\n      <td>NaN</td>\n      <td>lab</td>\n      <td>Baratieri, Waste Biomass Valor 2010, 1, 283-291</td>\n      <td>from original ML data set</td>\n    </tr>\n    <tr>\n      <th>11</th>\n      <td>fixed bed</td>\n      <td>lab</td>\n      <td>NaN</td>\n      <td>lab</td>\n      <td>Luo, Energy 2012, 44, 391-395</td>\n      <td>from original ML data set</td>\n    </tr>\n    <tr>\n      <th>12</th>\n      <td>fluidised bed</td>\n      <td>pilot</td>\n      <td>NaN</td>\n      <td>pilot</td>\n      <td>Khan, Energy Convers. Manag. 2014, 87, 1224-1230</td>\n      <td>from original ML data set</td>\n    </tr>\n    <tr>\n      <th>13</th>\n      <td>fixed bed</td>\n      <td>lab</td>\n      <td>NaN</td>\n      <td>lab</td>\n      <td>Wang, Int. J. Hydrog 2012, 37, 6503-6510</td>\n      <td>from original ML data set</td>\n    </tr>\n    <tr>\n      <th>14</th>\n      <td>fluidised bed</td>\n      <td>20</td>\n      <td>20.0</td>\n      <td>lab</td>\n      <td>Karatas, Fuel 2018, 214, 285-292</td>\n      <td>from original ML data set</td>\n    </tr>\n    <tr>\n      <th>15</th>\n      <td>fluidised bed</td>\n      <td>800</td>\n      <td>800.0</td>\n      <td>pilot</td>\n      <td>Huynh, Fuel 2013, 103, 987-996</td>\n      <td>from original ML data set</td>\n    </tr>\n    <tr>\n      <th>16</th>\n      <td>other</td>\n      <td>lab</td>\n      <td>NaN</td>\n      <td>lab</td>\n      <td>Erkiaga, Chem. Eng. J. 2014, 237, 259-267</td>\n      <td>from original ML data set</td>\n    </tr>\n    <tr>\n      <th>17</th>\n      <td>fixed bed</td>\n      <td>pilot</td>\n      <td>NaN</td>\n      <td>pilot</td>\n      <td>Yin, Bioresour. Technol. 2012, 119,15-21</td>\n      <td>from original ML data set</td>\n    </tr>\n    <tr>\n      <th>18</th>\n      <td>fixed bed</td>\n      <td>lab</td>\n      <td>NaN</td>\n      <td>lab</td>\n      <td>Gai, Int. J. Hydrog 2012, 37, 4935-4944</td>\n      <td>from original ML data set</td>\n    </tr>\n    <tr>\n      <th>19</th>\n      <td>fluidised bed</td>\n      <td>pilot</td>\n      <td>NaN</td>\n      <td>pilot</td>\n      <td>Ruoppolo, Waste Management 2012, 32, 724-732</td>\n      <td>from original ML data set</td>\n    </tr>\n    <tr>\n      <th>20</th>\n      <td>fluidised bed</td>\n      <td>pilot</td>\n      <td>NaN</td>\n      <td>pilot</td>\n      <td>Narváez, Ind. Eng. Chem. Res. 1996, 35, 2110-2120</td>\n      <td>from original ML data set</td>\n    </tr>\n    <tr>\n      <th>21</th>\n      <td>fluidised bed</td>\n      <td>lab</td>\n      <td>NaN</td>\n      <td>lab</td>\n      <td>Song, Biomass Bioenergy 2012, 36, 258-267</td>\n      <td>from original ML data set</td>\n    </tr>\n    <tr>\n      <th>22</th>\n      <td>fixed bed</td>\n      <td>350</td>\n      <td>351.0</td>\n      <td>pilot</td>\n      <td>Biagini, Bioresource Technology 2016, 201, 156...</td>\n      <td>from original ML data set</td>\n    </tr>\n    <tr>\n      <th>23</th>\n      <td>fluidised bed</td>\n      <td>lab</td>\n      <td>NaN</td>\n      <td>lab</td>\n      <td>Herguido, Ind. Eng. Chem. Res. 1992, 31, 1274-...</td>\n      <td>from original ML data set</td>\n    </tr>\n    <tr>\n      <th>24</th>\n      <td>fluidised bed</td>\n      <td>lab</td>\n      <td>NaN</td>\n      <td>lab</td>\n      <td>Fremaux, Energy Convers. Manag. 2015, 91, 427-432</td>\n      <td>from original ML data set</td>\n    </tr>\n    <tr>\n      <th>25</th>\n      <td>fluidised bed</td>\n      <td>100</td>\n      <td>101.0</td>\n      <td>pilot</td>\n      <td>Zhang, Fuel 2017, 188, 628-637</td>\n      <td>from original ML data set</td>\n    </tr>\n    <tr>\n      <th>26</th>\n      <td>other</td>\n      <td>pilot</td>\n      <td>NaN</td>\n      <td>pilot</td>\n      <td>Iovane, BIOMASS BIOENERG 2013, 56, 423-431</td>\n      <td>from original ML data set</td>\n    </tr>\n    <tr>\n      <th>27</th>\n      <td>fluidised bed</td>\n      <td>1672</td>\n      <td>1672.0</td>\n      <td>industrial</td>\n      <td>Paranascu, Energy 2019, 189, 116095</td>\n      <td>calculated from energy/hour data by using empi...</td>\n    </tr>\n    <tr>\n      <th>28</th>\n      <td>fluidised bed</td>\n      <td>322</td>\n      <td>322.0</td>\n      <td>pilot</td>\n      <td>Skorek-Osikowska, Energy 2014, 67, 328-340</td>\n      <td>NaN</td>\n    </tr>\n    <tr>\n      <th>29</th>\n      <td>fluidised bed</td>\n      <td>1154</td>\n      <td>1154.0</td>\n      <td>industrial</td>\n      <td>Skorek-Osikowska, Energy 2014, 67, 328-340</td>\n      <td>NaN</td>\n    </tr>\n    <tr>\n      <th>30</th>\n      <td>fluidised bed</td>\n      <td>400</td>\n      <td>400.0</td>\n      <td>pilot</td>\n      <td>Arena, Fuel Processing Technology 2015, 131, 6...</td>\n      <td>NaN</td>\n    </tr>\n    <tr>\n      <th>31</th>\n      <td>fluidised bed</td>\n      <td>500</td>\n      <td>500.0</td>\n      <td>pilot</td>\n      <td>Di Gregorio, Energy 2012, 42, 331-341</td>\n      <td>NaN</td>\n    </tr>\n    <tr>\n      <th>32</th>\n      <td>fluidised bed</td>\n      <td>419</td>\n      <td>419.0</td>\n      <td>pilot</td>\n      <td>Ghiat, Computers &amp; Chemical Engineering, 135, ...</td>\n      <td>NaN</td>\n    </tr>\n    <tr>\n      <th>33</th>\n      <td>fluidised bed</td>\n      <td>12380</td>\n      <td>12380.0</td>\n      <td>industrial</td>\n      <td>Dinca, Energy 2018, 149, 925-936</td>\n      <td>NaN</td>\n    </tr>\n    <tr>\n      <th>34</th>\n      <td>fixed bed</td>\n      <td>80</td>\n      <td>80.0</td>\n      <td>lab</td>\n      <td>Jayah, Biomass Bioenergy 2003, 459-469</td>\n      <td>NaN</td>\n    </tr>\n  </tbody>\n</table>\n</div>"
     },
     "execution_count": 3,
     "metadata": {},
     "output_type": "execute_result"
    }
   ],
   "source": [
    "df_combined\n"
   ],
   "metadata": {
    "collapsed": false,
    "ExecuteTime": {
     "end_time": "2024-01-12T12:40:57.272726700Z",
     "start_time": "2024-01-12T12:40:57.240333300Z"
    }
   }
  },
  {
   "cell_type": "code",
   "execution_count": 34,
   "outputs": [
    {
     "data": {
      "text/plain": "<Figure size 432x288 with 1 Axes>",
      "image/png": "[encoded data removed]"
     },
     "metadata": {},
     "output_type": "display_data"
    }
   ],
   "source": [
    "sns.set(font_scale=1.3)\n",
    "sns.set_style(\"whitegrid\")  # You can change \"whitegrid\" to other styles if needed\n",
    "sns.set(rc={'axes.grid': False})\n",
    "sns.histplot(binwidth=0.5, x=\"Scale [descriptive]\", hue=\"Reactor Type\", data=df_combined, stat=\"count\", multiple=\"stack\")\n",
    "plt.yticks(np.arange(0, 20, 5))  # Adjust the range as needed\n",
    "plt.xlabel(\"Scale\")\n",
    "plt.tight_layout()\n",
    "plt.savefig(current_directory + r\"\\\\\" + r\"\\figures\" + r\"\\reactor_type_by_size\" + \".png\", dpi=500, bbox_inches=\"tight\")\n",
    "plt.show()\n"
   ],
   "metadata": {
    "collapsed": false,
    "ExecuteTime": {
     "end_time": "2024-01-12T13:00:27.753631500Z",
     "start_time": "2024-01-12T13:00:27.228744700Z"
    }
   }
  },
  {
   "cell_type": "code",
   "execution_count": 5,
   "outputs": [
    {
     "data": {
      "text/plain": "     Reactor Type Scale [kW or descriptive]  Scale [kW] Scale [descriptive]  \\\n1   fluidised bed                       500       501.0               pilot   \n5   fluidised bed                       100       101.0               pilot   \n8   fluidised bed                       127       128.0               pilot   \n14  fluidised bed                        20        20.0                 lab   \n15  fluidised bed                       800       800.0               pilot   \n22      fixed bed                       350       351.0               pilot   \n25  fluidised bed                       100       101.0               pilot   \n27  fluidised bed                      1672      1672.0          industrial   \n28  fluidised bed                       322       322.0               pilot   \n29  fluidised bed                      1154      1154.0          industrial   \n30  fluidised bed                       400       400.0               pilot   \n31  fluidised bed                       500       500.0               pilot   \n32  fluidised bed                       419       419.0               pilot   \n33  fluidised bed                     12380     12380.0          industrial   \n34      fixed bed                        80        80.0                 lab   \n\n                                            Reference  \\\n1         Arena, Waste Management 2010, 30, 1212-1219   \n5   Kaewluan, Fuel Processing Technology 2011, 92,...   \n8   Mansaray, Biomass and Bioenergy 1999, 17, 315-332   \n14                   Karatas, Fuel 2018, 214, 285-292   \n15                    Huynh, Fuel 2013, 103, 987-996    \n22  Biagini, Bioresource Technology 2016, 201, 156...   \n25                     Zhang, Fuel 2017, 188, 628-637   \n27                Paranascu, Energy 2019, 189, 116095   \n28         Skorek-Osikowska, Energy 2014, 67, 328-340   \n29         Skorek-Osikowska, Energy 2014, 67, 328-340   \n30  Arena, Fuel Processing Technology 2015, 131, 6...   \n31              Di Gregorio, Energy 2012, 42, 331-341   \n32  Ghiat, Computers & Chemical Engineering, 135, ...   \n33                   Dinca, Energy 2018, 149, 925-936   \n34             Jayah, Biomass Bioenergy 2003, 459-469   \n\n                                                 Note  \n1                           from original ML data set  \n5                           from original ML data set  \n8                           from original ML data set  \n14                          from original ML data set  \n15                          from original ML data set  \n22                          from original ML data set  \n25                          from original ML data set  \n27  calculated from energy/hour data by using empi...  \n28                                                NaN  \n29                                                NaN  \n30                                                NaN  \n31                                                NaN  \n32                                                NaN  \n33                                                NaN  \n34                                                NaN  ",
      "text/html": "<div>\n<style scoped>\n    .dataframe tbody tr th:only-of-type {\n        vertical-align: middle;\n    }\n\n    .dataframe tbody tr th {\n        vertical-align: top;\n    }\n\n    .dataframe thead th {\n        text-align: right;\n    }\n</style>\n<table border=\"1\" class=\"dataframe\">\n  <thead>\n    <tr style=\"text-align: right;\">\n      <th></th>\n      <th>Reactor Type</th>\n      <th>Scale [kW or descriptive]</th>\n      <th>Scale [kW]</th>\n      <th>Scale [descriptive]</th>\n      <th>Reference</th>\n      <th>Note</th>\n    </tr>\n  </thead>\n  <tbody>\n    <tr>\n      <th>1</th>\n      <td>fluidised bed</td>\n      <td>500</td>\n      <td>501.0</td>\n      <td>pilot</td>\n      <td>Arena, Waste Management 2010, 30, 1212-1219</td>\n      <td>from original ML data set</td>\n    </tr>\n    <tr>\n      <th>5</th>\n      <td>fluidised bed</td>\n      <td>100</td>\n      <td>101.0</td>\n      <td>pilot</td>\n      <td>Kaewluan, Fuel Processing Technology 2011, 92,...</td>\n      <td>from original ML data set</td>\n    </tr>\n    <tr>\n      <th>8</th>\n      <td>fluidised bed</td>\n      <td>127</td>\n      <td>128.0</td>\n      <td>pilot</td>\n      <td>Mansaray, Biomass and Bioenergy 1999, 17, 315-332</td>\n      <td>from original ML data set</td>\n    </tr>\n    <tr>\n      <th>14</th>\n      <td>fluidised bed</td>\n      <td>20</td>\n      <td>20.0</td>\n      <td>lab</td>\n      <td>Karatas, Fuel 2018, 214, 285-292</td>\n      <td>from original ML data set</td>\n    </tr>\n    <tr>\n      <th>15</th>\n      <td>fluidised bed</td>\n      <td>800</td>\n      <td>800.0</td>\n      <td>pilot</td>\n      <td>Huynh, Fuel 2013, 103, 987-996</td>\n      <td>from original ML data set</td>\n    </tr>\n    <tr>\n      <th>22</th>\n      <td>fixed bed</td>\n      <td>350</td>\n      <td>351.0</td>\n      <td>pilot</td>\n      <td>Biagini, Bioresource Technology 2016, 201, 156...</td>\n      <td>from original ML data set</td>\n    </tr>\n    <tr>\n      <th>25</th>\n      <td>fluidised bed</td>\n      <td>100</td>\n      <td>101.0</td>\n      <td>pilot</td>\n      <td>Zhang, Fuel 2017, 188, 628-637</td>\n      <td>from original ML data set</td>\n    </tr>\n    <tr>\n      <th>27</th>\n      <td>fluidised bed</td>\n      <td>1672</td>\n      <td>1672.0</td>\n      <td>industrial</td>\n      <td>Paranascu, Energy 2019, 189, 116095</td>\n      <td>calculated from energy/hour data by using empi...</td>\n    </tr>\n    <tr>\n      <th>28</th>\n      <td>fluidised bed</td>\n      <td>322</td>\n      <td>322.0</td>\n      <td>pilot</td>\n      <td>Skorek-Osikowska, Energy 2014, 67, 328-340</td>\n      <td>NaN</td>\n    </tr>\n    <tr>\n      <th>29</th>\n      <td>fluidised bed</td>\n      <td>1154</td>\n      <td>1154.0</td>\n      <td>industrial</td>\n      <td>Skorek-Osikowska, Energy 2014, 67, 328-340</td>\n      <td>NaN</td>\n    </tr>\n    <tr>\n      <th>30</th>\n      <td>fluidised bed</td>\n      <td>400</td>\n      <td>400.0</td>\n      <td>pilot</td>\n      <td>Arena, Fuel Processing Technology 2015, 131, 6...</td>\n      <td>NaN</td>\n    </tr>\n    <tr>\n      <th>31</th>\n      <td>fluidised bed</td>\n      <td>500</td>\n      <td>500.0</td>\n      <td>pilot</td>\n      <td>Di Gregorio, Energy 2012, 42, 331-341</td>\n      <td>NaN</td>\n    </tr>\n    <tr>\n      <th>32</th>\n      <td>fluidised bed</td>\n      <td>419</td>\n      <td>419.0</td>\n      <td>pilot</td>\n      <td>Ghiat, Computers &amp; Chemical Engineering, 135, ...</td>\n      <td>NaN</td>\n    </tr>\n    <tr>\n      <th>33</th>\n      <td>fluidised bed</td>\n      <td>12380</td>\n      <td>12380.0</td>\n      <td>industrial</td>\n      <td>Dinca, Energy 2018, 149, 925-936</td>\n      <td>NaN</td>\n    </tr>\n    <tr>\n      <th>34</th>\n      <td>fixed bed</td>\n      <td>80</td>\n      <td>80.0</td>\n      <td>lab</td>\n      <td>Jayah, Biomass Bioenergy 2003, 459-469</td>\n      <td>NaN</td>\n    </tr>\n  </tbody>\n</table>\n</div>"
     },
     "execution_count": 5,
     "metadata": {},
     "output_type": "execute_result"
    }
   ],
   "source": [
    "numeric_combined = df_combined[pd.to_numeric(df_combined[\"Scale [kW or descriptive]\"], errors='coerce').notnull()].copy()\n",
    "numeric_combined\n"
   ],
   "metadata": {
    "collapsed": false,
    "ExecuteTime": {
     "end_time": "2024-01-12T12:40:57.925333900Z",
     "start_time": "2024-01-12T12:40:57.862885900Z"
    }
   }
  },
  {
   "cell_type": "code",
   "execution_count": 6,
   "outputs": [
    {
     "data": {
      "text/plain": "array([  501.,   101.,   128.,    20.,   800.,   101.,  1672.,   322.,\n        1154.,   400.,   500.,   419., 12380.])"
     },
     "execution_count": 6,
     "metadata": {},
     "output_type": "execute_result"
    }
   ],
   "source": [
    "fluidised_data = np.array(numeric_combined[numeric_combined[\"Reactor Type\"] == \"fluidised bed\"].copy()[\"Scale [kW]\"])\n",
    "fluidised_data\n"
   ],
   "metadata": {
    "collapsed": false,
    "ExecuteTime": {
     "end_time": "2024-01-12T12:40:57.946929100Z",
     "start_time": "2024-01-12T12:40:57.877612800Z"
    }
   }
  },
  {
   "cell_type": "code",
   "execution_count": 7,
   "outputs": [
    {
     "data": {
      "text/plain": "array([351.,  80.])"
     },
     "execution_count": 7,
     "metadata": {},
     "output_type": "execute_result"
    }
   ],
   "source": [
    "fixed_data = np.array(numeric_combined[numeric_combined[\"Reactor Type\"] == \"fixed bed\"].copy()[\"Scale [kW]\"])\n",
    "fixed_data\n"
   ],
   "metadata": {
    "collapsed": false,
    "ExecuteTime": {
     "end_time": "2024-01-12T12:40:57.966370Z",
     "start_time": "2024-01-12T12:40:57.898133400Z"
    }
   }
  },
  {
   "cell_type": "markdown",
   "source": [
    "Too little data to make it worth plotting numeric data for fixed vs fluidised."
   ],
   "metadata": {
    "collapsed": false
   }
  }
 ],
 "metadata": {
  "kernelspec": {
   "display_name": "Python 3",
   "language": "python",
   "name": "python3"
  },
  "language_info": {
   "codemirror_mode": {
    "name": "ipython",
    "version": 2
   },
   "file_extension": ".py",
   "mimetype": "text/x-python",
   "name": "python",
   "nbconvert_exporter": "python",
   "pygments_lexer": "ipython2",
   "version": "2.7.6"
  }
 },
 "nbformat": 4,
 "nbformat_minor": 0
}

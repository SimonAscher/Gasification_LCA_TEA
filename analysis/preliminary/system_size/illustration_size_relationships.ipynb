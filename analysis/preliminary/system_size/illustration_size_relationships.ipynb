{
 "cells": [
  {
   "cell_type": "code",
   "execution_count": 1,
   "id": "initial_id",
   "metadata": {
    "collapsed": true,
    "ExecuteTime": {
     "end_time": "2023-09-19T16:54:40.271275600Z",
     "start_time": "2023-09-19T16:54:37.601848900Z"
    }
   },
   "outputs": [],
   "source": [
    "import matplotlib.pyplot as plt\n",
    "import numpy as np\n",
    "from functions.general import convert_system_size "
   ]
  },
  {
   "cell_type": "markdown",
   "source": [
    "# Predicting size in terms of \"MWel\" when size in terms of \"tonnes/hour\" is known "
   ],
   "metadata": {
    "collapsed": false
   },
   "id": "b2f245ec9cfcf13a"
  },
  {
   "cell_type": "code",
   "execution_count": 4,
   "outputs": [
    {
     "name": "stdout",
     "output_type": "stream",
     "text": [
      "0.8412295968615282 1.8292952364750077\n",
      "0.9088331471122935 2.114474442829325\n",
      "0.9764366973630585 2.3996536491836427\n",
      "1.0440402476138235 2.68483285553796\n",
      "1.1116437978645886 2.9700120618922776\n",
      "1.1792473481153538 3.2551912682465947\n",
      "1.2468508983661188 3.5403704746009126\n",
      "1.314454448616884 3.8255496809552296\n",
      "1.3820579988676491 4.1107288873095476\n",
      "1.4496615491184142 4.395908093663865\n",
      "1.5172650993691794 4.6810873000181825\n",
      "1.5848686496199444 4.9662665063725\n",
      "1.6524721998707097 5.2514457127268175\n",
      "1.7200757501214745 5.5366249190811345\n",
      "1.7876793003722398 5.8218041254354524\n",
      "1.8552828506230048 6.1069833317897695\n",
      "1.92288640087377 6.392162538144087\n",
      "1.9904899511245349 6.6773417444984045\n",
      "2.0580935013753 6.962520950852722\n",
      "2.125697051626065 7.2477001572070385\n"
     ]
    },
    {
     "data": {
      "text/plain": "<Figure size 432x288 with 1 Axes>",
      "image/png": "[encoded data removed]"
     },
     "metadata": {
      "needs_background": "light"
     },
     "output_type": "display_data"
    }
   ],
   "source": [
    "system_size_tonnes_hour = np.linspace(0,10,num=100)\n",
    "system_size_MWel = []\n",
    "\n",
    "for system_size in system_size_tonnes_hour:\n",
    "    system_size_MWel.append(convert_system_size(value=system_size,input_units=\"tonnes/hour\")[\"size_power\"])\n",
    "\n",
    "system_size_MWel = np.array(system_size_MWel)\n",
    "\n",
    "# Plot figure\n",
    "fig, ax = plt.subplots()\n",
    "\n",
    "ax.scatter(system_size_tonnes_hour,system_size_MWel)\n",
    "ax.set_xlabel(\"Input: Size [tonnes/hour]\")\n",
    "ax.set_ylabel(\"Output: Size [MWel]\")\n",
    "plt.show()"
   ],
   "metadata": {
    "collapsed": false,
    "ExecuteTime": {
     "end_time": "2023-09-19T16:55:16.591617500Z",
     "start_time": "2023-09-19T16:55:16.215135500Z"
    }
   },
   "id": "4d3a86236439e175"
  },
  {
   "cell_type": "markdown",
   "source": [
    "# Predicting size in terms of \"tonnes/hour\" when size in terms of \"MWel\" is known "
   ],
   "metadata": {
    "collapsed": false
   },
   "id": "9ee6655b2f60b77d"
  },
  {
   "cell_type": "code",
   "execution_count": 6,
   "outputs": [
    {
     "data": {
      "text/plain": "<Figure size 432x288 with 1 Axes>",
      "image/png": "[encoded data removed]"
     },
     "metadata": {
      "needs_background": "light"
     },
     "output_type": "display_data"
    }
   ],
   "source": [
    "system_size_MWel = np.linspace(0, 10, num=50)\n",
    "system_size_tonnes_hour = []\n",
    "\n",
    "for system_size in system_size_MWel:\n",
    "    system_size_tonnes_hour.append(convert_system_size(value=system_size, input_units=\"MWel\")[\"size_feedstock_mass\"])\n",
    "\n",
    "system_size_tonnes_hour = np.array(system_size_tonnes_hour)\n",
    "\n",
    "fig, ax = plt.subplots()\n",
    "\n",
    "ax.scatter(system_size_MWel, system_size_tonnes_hour)\n",
    "ax.set_xlabel(\"Input: Size [MWel]\")\n",
    "ax.set_ylabel(\"Output: Size [tonnes/hour]\")\n",
    "plt.show()\n"
   ],
   "metadata": {
    "collapsed": false,
    "ExecuteTime": {
     "end_time": "2023-09-19T16:55:42.555780700Z",
     "start_time": "2023-09-19T16:55:42.342226700Z"
    }
   },
   "id": "92c12e38d0c3cda"
  },
  {
   "cell_type": "markdown",
   "source": [
    "- Some issues in boundary region around 2 MWel or 2 tonnes/hour respectively. Fix in future commit."
   ],
   "metadata": {
    "collapsed": false
   },
   "id": "e9883d81e3b99ecc"
  }
 ],
 "metadata": {
  "kernelspec": {
   "display_name": "Python 3",
   "language": "python",
   "name": "python3"
  },
  "language_info": {
   "codemirror_mode": {
    "name": "ipython",
    "version": 2
   },
   "file_extension": ".py",
   "mimetype": "text/x-python",
   "name": "python",
   "nbconvert_exporter": "python",
   "pygments_lexer": "ipython2",
   "version": "2.7.6"
  }
 },
 "nbformat": 4,
 "nbformat_minor": 5
}

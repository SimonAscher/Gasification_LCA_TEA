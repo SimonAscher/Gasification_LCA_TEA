{
 "cells": [
  {
   "cell_type": "markdown",
   "source": [
    "# Analysis on heating and natural gas prices - UK market"
   ],
   "metadata": {
    "collapsed": false
   }
  },
  {
   "cell_type": "code",
   "execution_count": 1,
   "metadata": {
    "collapsed": true
   },
   "outputs": [],
   "source": [
    "from config import settings\n",
    "from functions.general.utility import therm_to_kWh"
   ]
  },
  {
   "cell_type": "code",
   "execution_count": 2,
   "outputs": [
    {
     "name": "stdout",
     "output_type": "stream",
     "text": [
      "Heating from natural gas - ofgem consumer price cap in GBP/kWh: 0.08\n"
     ]
    }
   ],
   "source": [
    "price_a = {\"type\": \"domestic heat from natural gas\",\n",
    "           \"value\":0.08,\n",
    "           \"units\": \"GBP/kWh\",\n",
    "           \"source\": \"https://www.ofgem.gov.uk/information-consumers/energy-advice-households/check-if-energy-price-cap-affects-you\",\n",
    "           \"date\": \"01/07/2023\"}\n",
    "\n",
    "print(\"Heating from natural gas - ofgem consumer price cap in GBP/kWh:\", price_a[\"value\"])\n"
   ],
   "metadata": {
    "collapsed": false
   }
  },
  {
   "cell_type": "code",
   "execution_count": 5,
   "outputs": [
    {
     "name": "stdout",
     "output_type": "stream",
     "text": [
      "Natural gas price in GBP/kWh: 0.023509581263307308\n",
      "Estimated natural gas price range in GBP/kWh - lower: 0.0239, mode: 0.0341, upper: 0.0597\n"
     ]
    }
   ],
   "source": [
    "price_b = {\"type\": \"UK natural gas\",\n",
    "           \"value\": 0.689,\n",
    "           \"units\": \"GBP/thm\",\n",
    "           \"source\": \"https://tradingeconomics.com/commodity/uk-natural-gas\",\n",
    "           \"date\": \"01/07/2023\"}\n",
    "\n",
    "print(\"Natural gas price in GBP/kWh:\", therm_to_kWh(price_b[\"value\"], reverse=True))\n",
    "lower_estimate = therm_to_kWh(.70, reverse=True)\n",
    "mode_estimate = therm_to_kWh(1.00, reverse=True)\n",
    "upper_estimate =therm_to_kWh(1.75, reverse=True)\n",
    "print(f\"Estimated natural gas price range in GBP/kWh - lower: {lower_estimate:.4f}, mode: {mode_estimate:.4f}, upper: {upper_estimate:.4f}\")\n",
    "\n"
   ],
   "metadata": {
    "collapsed": false,
    "ExecuteTime": {
     "end_time": "2023-07-12T14:12:19.571127Z",
     "start_time": "2023-07-12T14:12:19.553313300Z"
    }
   }
  }
 ],
 "metadata": {
  "kernelspec": {
   "display_name": "Python 3",
   "language": "python",
   "name": "python3"
  },
  "language_info": {
   "codemirror_mode": {
    "name": "ipython",
    "version": 2
   },
   "file_extension": ".py",
   "mimetype": "text/x-python",
   "name": "python",
   "nbconvert_exporter": "python",
   "pygments_lexer": "ipython2",
   "version": "2.7.6"
  }
 },
 "nbformat": 4,
 "nbformat_minor": 0
}

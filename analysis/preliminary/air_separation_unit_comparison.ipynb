{
 "cells": [
  {
   "cell_type": "markdown",
   "source": [
    "# Compare energy requirements and resulting GWPs for different types of air separation units"
   ],
   "metadata": {
    "collapsed": false
   }
  },
  {
   "cell_type": "code",
   "execution_count": 19,
   "metadata": {
    "collapsed": true
   },
   "outputs": [],
   "source": [
    "from config import settings\n",
    "import numpy as np\n",
    "import matplotlib.pyplot as plt\n",
    "from configs import gaussian\n",
    "from functions.MC import make_dist\n"
   ]
  },
  {
   "cell_type": "code",
   "execution_count": 9,
   "outputs": [
    {
     "name": "stdout",
     "output_type": "stream",
     "text": [
      "Emissions from Method 1: 0.0913 kg CO2eq./kg O2\n",
      "Corresponding electricity consumption: 0.5688781613526116 [kWh/ Nm3 O2]\n"
     ]
    }
   ],
   "source": [
    "# Method 1: Gabi Data\n",
    "\n",
    "emissions_1 = settings.data.CO2_equivalents.resource_requirements.oxygen\n",
    "equivalent_electricity_req_1 = emissions_1 / (1 / settings.data.densities[\"O2\"]) / settings.data.CO2_equivalents.electricity.UK\n",
    "print(\"Emissions from Method 1:\", emissions_1, \"kg CO2eq./kg O2\")\n",
    "print(\"Corresponding electricity consumption:\", equivalent_electricity_req_1, \"[kWh/ Nm3 O2]\")\n"
   ],
   "metadata": {
    "collapsed": false
   }
  },
  {
   "cell_type": "code",
   "execution_count": 4,
   "outputs": [
    {
     "name": "stdout",
     "output_type": "stream",
     "text": [
      "Lower emissions from Method 2: 0.05777687074829932 kg CO2eq./kg O2\n",
      "Higher emissions from Method 2: 0.08024565381708239 kg CO2eq./kg O2\n"
     ]
    }
   ],
   "source": [
    "# Method 2: Data from Masaaki et al.\n",
    "\n",
    "emissions_2_low = settings.data.energy_requirements.air_separation_unit.A[\"energy consumption low\"] * (1 / settings.data.densities[\"O2\"]) * settings.data.CO2_equivalents.electricity.UK\n",
    "\n",
    "emissions_2_high = settings.data.energy_requirements.air_separation_unit.A[\"energy consumption high\"] * (1 / settings.data.densities.O2) * settings.data.CO2_equivalents.electricity.UK\n",
    "\n",
    "print(\"Lower emissions from Method 2:\", emissions_2_low, \"kg CO2eq./kg O2\")\n",
    "print(\"Higher emissions from Method 2:\", emissions_2_high, \"kg CO2eq./kg O2\")\n"
   ],
   "metadata": {
    "collapsed": false
   }
  },
  {
   "cell_type": "code",
   "execution_count": 10,
   "outputs": [
    {
     "name": "stdout",
     "output_type": "stream",
     "text": [
      "Emissions from Method 3: 0.04777425 kg CO2eq./kg O2\n",
      "Corresponding electricity consumption: 0.29767499999999997 [kWh/ Nm3 O2]\n"
     ]
    }
   ],
   "source": [
    "# Method 3: Data from \"https://doi.org/10.1002/apj.354\"\n",
    "\n",
    "assumed_time_req = 1  # assume that ASU would need to run for 1 hr - nothing given in paper - bit weird that they quote it as power per tonne of O2 instead of energy per tonne of O2.\n",
    "emissions_3 = (settings.data.power_requirements.air_separation_unit[\"power consumption\"] / 1000) * assumed_time_req * settings.data.CO2_equivalents.electricity.UK\n",
    "\n",
    "equivalent_electricity_req_3 = emissions_3 / (1 / settings.data.densities[\"O2\"]) / settings.data.CO2_equivalents.electricity.UK\n",
    "\n",
    "print(\"Emissions from Method 3:\", emissions_3, \"kg CO2eq./kg O2\")\n",
    "print(\"Corresponding electricity consumption:\", equivalent_electricity_req_3, \"[kWh/ Nm3 O2]\")\n"
   ],
   "metadata": {
    "collapsed": false
   }
  },
  {
   "cell_type": "code",
   "execution_count": 6,
   "outputs": [
    {
     "name": "stdout",
     "output_type": "stream",
     "text": [
      "Emissions from Method 4: 0.049046143613000755 kg CO2eq./kg O2\n"
     ]
    }
   ],
   "source": [
    "# Method 4: Data from Ozcan et al.\n",
    "\n",
    "emissions_4 = settings.data.energy_requirements.air_separation_unit.B[\"energy consumption\"] * (1 / settings.data.densities[\"O2\"]) * settings.data.CO2_equivalents.electricity.UK\n",
    "\n",
    "print(\"Emissions from Method 4:\", emissions_4, \"kg CO2eq./kg O2\")\n"
   ],
   "metadata": {
    "collapsed": false
   }
  },
  {
   "cell_type": "code",
   "execution_count": 13,
   "outputs": [
    {
     "name": "stdout",
     "output_type": "stream",
     "text": [
      "Corresponding electricity requirements for oxygen generation [kWh el./Nm3 O2]\n",
      "Req 1: 0.5688781613526116\n",
      "Req 2 low: 0.36\n",
      "Req 2 high: 0.5\n",
      "Req 3: 0.29767499999999997\n",
      "Req 4: 0.3056\n"
     ]
    }
   ],
   "source": [
    "# Corresponding electricity requirements for oxygen generation\n",
    "\n",
    "print(\"Corresponding electricity requirements for oxygen generation [kWh el./Nm3 O2]\")\n",
    "print(\"Req 1:\", equivalent_electricity_req_1)\n",
    "print(\"Req 2 low:\", settings.data.energy_requirements.air_separation_unit.A[\"energy consumption low\"])\n",
    "print(\"Req 2 high:\", settings.data.energy_requirements.air_separation_unit.A[\"energy consumption high\"])\n",
    "print(\"Req 3:\", equivalent_electricity_req_3)\n",
    "print(\"Req 4:\", settings.data.energy_requirements.air_separation_unit.B[\"energy consumption\"])\n"
   ],
   "metadata": {
    "collapsed": false
   }
  },
  {
   "cell_type": "code",
   "execution_count": 28,
   "outputs": [
    {
     "name": "stdout",
     "output_type": "stream",
     "text": [
      "Data: [0.5688781613526116, 0.36, 0.5, 0.29767499999999997, 0.3056]\n",
      "Mean: 0.4064306322705223\n",
      "Std: 0.10889888323563775\n"
     ]
    }
   ],
   "source": [
    "# Statistical analysis\n",
    "\n",
    "# store data displayed above as array\n",
    "data = [equivalent_electricity_req_1, settings.data.energy_requirements.air_separation_unit.A[\"energy consumption low\"],settings.data.energy_requirements.air_separation_unit.A[\"energy consumption high\"], equivalent_electricity_req_3, settings.data.energy_requirements.air_separation_unit.B[\"energy consumption\"]]\n",
    "\n",
    "mean = np.mean(data)\n",
    "std = np.std(data)\n",
    "\n",
    "distribution = make_dist(gaussian(mean, std))\n",
    "\n",
    "print(\"Data:\", data)\n",
    "print(\"Mean:\", mean)\n",
    "print(\"Std:\", std)"
   ],
   "metadata": {
    "collapsed": false
   }
  },
  {
   "cell_type": "code",
   "execution_count": 27,
   "outputs": [
    {
     "data": {
      "text/plain": "<Figure size 432x288 with 1 Axes>",
      "image/png": "[encoded data removed]"
     },
     "metadata": {
      "needs_background": "light"
     },
     "output_type": "display_data"
    }
   ],
   "source": [
    "# Show distribution\n",
    "\n",
    "plt.figure()\n",
    "histogram = plt.hist(distribution,20)\n",
    "plt.show()"
   ],
   "metadata": {
    "collapsed": false
   }
  },
  {
   "cell_type": "markdown",
   "source": [
    "# Summary\n",
    "- All methods produce similar numbers and are in the same order of magnitude.\n",
    "- Numbers from GaBi are most pessimistic - close to the lower efficiency of Method 2.\n",
    "- Most conservative values (Method 1) are used in analysis."
   ],
   "metadata": {
    "collapsed": false
   }
  }
 ],
 "metadata": {
  "kernelspec": {
   "display_name": "Python 3",
   "language": "python",
   "name": "python3"
  },
  "language_info": {
   "codemirror_mode": {
    "name": "ipython",
    "version": 2
   },
   "file_extension": ".py",
   "mimetype": "text/x-python",
   "name": "python",
   "nbconvert_exporter": "python",
   "pygments_lexer": "ipython2",
   "version": "2.7.6"
  }
 },
 "nbformat": 4,
 "nbformat_minor": 0
}

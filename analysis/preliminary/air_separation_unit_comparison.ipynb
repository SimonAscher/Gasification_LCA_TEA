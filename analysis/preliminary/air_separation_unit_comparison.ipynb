{
 "cells": [
  {
   "cell_type": "markdown",
   "source": [
    "# Compare energy requirements and resulting GWPs for different types of air separation units"
   ],
   "metadata": {
    "collapsed": false
   }
  },
  {
   "cell_type": "code",
   "execution_count": 1,
   "metadata": {
    "collapsed": true
   },
   "outputs": [],
   "source": [
    "from config import settings"
   ]
  },
  {
   "cell_type": "code",
   "execution_count": 2,
   "outputs": [
    {
     "name": "stdout",
     "output_type": "stream",
     "text": [
      "Emissions from Method 1: 0.0913 kg CO2eq./kg O2\n"
     ]
    }
   ],
   "source": [
    "# Method 1: Gabi Data\n",
    "\n",
    "emissions_1 = settings.data.CO2_equivalents.resource_requirements.oxygen\n",
    "\n",
    "print(\"Emissions from Method 1:\", emissions_1, \"kg CO2eq./kg O2\")\n"
   ],
   "metadata": {
    "collapsed": false
   }
  },
  {
   "cell_type": "code",
   "execution_count": 3,
   "outputs": [
    {
     "name": "stdout",
     "output_type": "stream",
     "text": [
      "Lower emissions from Method 2: 0.05777687074829932 kg CO2eq./kg O2\n",
      "Higher emissions from Method 2: 0.08024565381708239 kg CO2eq./kg O2\n"
     ]
    }
   ],
   "source": [
    "# Method 2: Data from Masaaki et al.\n",
    "\n",
    "emissions_2_low = settings.data.energy_requirements.air_separation_unit[\"energy consumption low\"] * (1 / settings.data.densities[\"O2\"]) * settings.data.CO2_equivalents.electricity.UK\n",
    "\n",
    "emissions_2_high = settings.data.energy_requirements.air_separation_unit[\"energy consumption high\"] * (1 / settings.data.densities.O2) * settings.data.CO2_equivalents.electricity.UK\n",
    "\n",
    "print(\"Lower emissions from Method 2:\", emissions_2_low, \"kg CO2eq./kg O2\")\n",
    "print(\"Higher emissions from Method 2:\", emissions_2_high, \"kg CO2eq./kg O2\")\n"
   ],
   "metadata": {
    "collapsed": false
   }
  },
  {
   "cell_type": "code",
   "execution_count": 4,
   "outputs": [
    {
     "name": "stdout",
     "output_type": "stream",
     "text": [
      "Emissions from Method 3: 0.04777425 kg CO2eq./kg O2\n"
     ]
    }
   ],
   "source": [
    "# Method 3: Data from \"https://doi.org/10.1002/apj.354\"\n",
    "\n",
    "assumed_time_req = 1  # assume that ASU would need to run for 1 hr - nothing given in paper - bit weird that they quote it as power per tonne of O2 instead of energy per tonne of O2.\n",
    "emissions_3 = (settings.data.power_requirements.air_separation_unit[\"power consumption\"] / 1000) * assumed_time_req * settings.data.CO2_equivalents.electricity.UK\n",
    "\n",
    "print(\"Emissions from Method 3:\", emissions_3, \"kg CO2eq./kg O2\")\n"
   ],
   "metadata": {
    "collapsed": false
   }
  },
  {
   "cell_type": "markdown",
   "source": [
    "# Summary\n",
    "- All methods produce similar numbers and are in the same order of magnitude.\n",
    "- Numbers from GaBi are most pessimistic - close to the lower efficiency of Method 2.\n",
    "- Most conservative values (Method 1) are used in analysis."
   ],
   "metadata": {
    "collapsed": false
   }
  }
 ],
 "metadata": {
  "kernelspec": {
   "display_name": "Python 3",
   "language": "python",
   "name": "python3"
  },
  "language_info": {
   "codemirror_mode": {
    "name": "ipython",
    "version": 2
   },
   "file_extension": ".py",
   "mimetype": "text/x-python",
   "name": "python",
   "nbconvert_exporter": "python",
   "pygments_lexer": "ipython2",
   "version": "2.7.6"
  }
 },
 "nbformat": 4,
 "nbformat_minor": 0
}

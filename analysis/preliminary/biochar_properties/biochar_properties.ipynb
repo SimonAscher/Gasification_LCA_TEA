{
 "cells": [
  {
   "cell_type": "code",
   "execution_count": 1,
   "metadata": {
    "collapsed": true
   },
   "outputs": [],
   "source": [
    "# Fix sys path to root directory so locally defined packages can be found\n",
    "import sys\n",
    "sys.path.append('C:\\\\Users\\\\2270577A\\\\PycharmProjects\\\\PhD_LCA_TEA')\n"
   ]
  },
  {
   "cell_type": "code",
   "execution_count": 2,
   "outputs": [],
   "source": [
    "import numpy as np\n",
    "import pickle\n",
    "\n",
    "from config import settings\n"
   ],
   "metadata": {
    "collapsed": false
   }
  },
  {
   "cell_type": "code",
   "execution_count": 3,
   "outputs": [],
   "source": [
    "carbon_percentage_data_raw = np.array([60.04, 59.49, 45.7, 64.80, 1.38, 89.85, 42.0, 46.8, 65.29, 79.34, 35, 71, 33.1])\n",
    "source = \"10.1016/j.biortech.2017.06.177\"\n"
   ],
   "metadata": {
    "collapsed": false
   }
  },
  {
   "cell_type": "code",
   "execution_count": 4,
   "outputs": [],
   "source": [
    "# function to reject outliers from a numpy array\n",
    "def reject_outliers(data, m=2):\n",
    "    return data[abs(data - np.mean(data)) < m * np.std(data)]"
   ],
   "metadata": {
    "collapsed": false
   }
  },
  {
   "cell_type": "code",
   "execution_count": 5,
   "outputs": [
    {
     "data": {
      "text/plain": "array([60.04, 59.49, 45.7 , 64.8 ,  1.38, 89.85, 42.  , 46.8 , 65.29,\n       79.34, 35.  , 71.  , 33.1 ])"
     },
     "execution_count": 5,
     "metadata": {},
     "output_type": "execute_result"
    }
   ],
   "source": [
    "# show data\n",
    "carbon_percentage_data_raw"
   ],
   "metadata": {
    "collapsed": false
   }
  },
  {
   "cell_type": "code",
   "execution_count": 6,
   "outputs": [
    {
     "data": {
      "text/plain": "array([60.04, 59.49, 45.7 , 64.8 , 89.85, 42.  , 46.8 , 65.29, 79.34,\n       35.  , 71.  , 33.1 ])"
     },
     "execution_count": 6,
     "metadata": {},
     "output_type": "execute_result"
    }
   ],
   "source": [
    "# Remove outliers from array and show new array\n",
    "carbon_percentage_data = reject_outliers(carbon_percentage_data_raw, m=2)\n",
    "carbon_percentage_data"
   ],
   "metadata": {
    "collapsed": false
   }
  },
  {
   "cell_type": "code",
   "execution_count": 7,
   "outputs": [
    {
     "name": "stdout",
     "output_type": "stream",
     "text": [
      "Mean: 0.5770083333333335\n",
      "Std: 0.16894895411698235\n"
     ]
    }
   ],
   "source": [
    "mean_carbon_percentage = np.mean(carbon_percentage_data) / 100\n",
    "std_carbon_percentage = np.std(carbon_percentage_data) / 100\n",
    "print(\"Mean:\", mean_carbon_percentage)\n",
    "print(\"Std:\", std_carbon_percentage)\n"
   ],
   "metadata": {
    "collapsed": false
   }
  },
  {
   "cell_type": "code",
   "execution_count": 8,
   "outputs": [
    {
     "data": {
      "text/plain": "<Box: {'lower': 0.8, 'mode': 0.9, 'upper': 0.97, 'source': ['https://doi.org/10.1111/gcbb.12266', 'https://doi.org/10.1021/es902266r']}>"
     },
     "execution_count": 8,
     "metadata": {},
     "output_type": "execute_result"
    }
   ],
   "source": [
    "# Display triangular distribution data on recalcitrant fraction as stored in settings\n",
    "recalcitrant_carbon_fraction_data = settings.data.biochar.recalcitrant_fraction\n",
    "recalcitrant_carbon_fraction_data\n"
   ],
   "metadata": {
    "collapsed": false
   }
  },
  {
   "cell_type": "code",
   "execution_count": 10,
   "outputs": [],
   "source": [
    "output_dict = {\"Biochar carbon fraction\": {\"Mean\": mean_carbon_percentage, \"Std\": std_carbon_percentage},\n",
    "               \"Biochar recalcitrant carbon fraction\": {\"Lower\": recalcitrant_carbon_fraction_data.lower, \"Mode\": recalcitrant_carbon_fraction_data.mode, \"Upper\": recalcitrant_carbon_fraction_data.upper}\n",
    "               }\n",
    "\n",
    "# Store Performance summary data frame of best performing model\n",
    "with open(r\"results\\biochar_properties_results\", \"wb\") as f:\n",
    "    pickle.dump(output_dict, f)\n",
    "\n",
    "# Also save to data folder\n",
    "with open(r\"C:\\Users\\2270577A\\PycharmProjects\\PhD_LCA_TEA\\data\\biochar_properties_results\", \"wb\") as f:\n",
    "    pickle.dump(output_dict, f)\n"
   ],
   "metadata": {
    "collapsed": false
   }
  }
 ],
 "metadata": {
  "kernelspec": {
   "display_name": "Python 3",
   "language": "python",
   "name": "python3"
  },
  "language_info": {
   "codemirror_mode": {
    "name": "ipython",
    "version": 2
   },
   "file_extension": ".py",
   "mimetype": "text/x-python",
   "name": "python",
   "nbconvert_exporter": "python",
   "pygments_lexer": "ipython2",
   "version": "2.7.6"
  }
 },
 "nbformat": 4,
 "nbformat_minor": 0
}

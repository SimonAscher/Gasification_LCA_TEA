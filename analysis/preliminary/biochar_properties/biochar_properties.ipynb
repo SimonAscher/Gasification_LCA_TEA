{
 "cells": [
  {
   "cell_type": "code",
   "execution_count": 1,
   "metadata": {
    "collapsed": true
   },
   "outputs": [],
   "source": [
    "# Fix sys path to root directory so locally defined packages can be found\n",
    "import sys\n",
    "sys.path.append('C:\\\\Users\\\\2270577A\\\\PycharmProjects\\\\PhD_LCA_TEA')\n"
   ]
  },
  {
   "cell_type": "code",
   "execution_count": 2,
   "outputs": [],
   "source": [
    "import math\n",
    "\n",
    "import numpy as np\n",
    "import pickle\n",
    "import pandas as pd\n",
    "import matplotlib.pyplot as plt\n",
    "\n",
    "from configs import gaussian, triangular\n",
    "from functions.MonteCarloAnalysis import make_dist\n"
   ],
   "metadata": {
    "collapsed": false
   }
  },
  {
   "cell_type": "markdown",
   "source": [
    "# Biochar carbon content based on feedstock type (based on IPCC data)"
   ],
   "metadata": {
    "collapsed": false
   }
  },
  {
   "cell_type": "code",
   "execution_count": 3,
   "outputs": [
    {
     "data": {
      "text/plain": "       animal manure  wood  herbaceous biomass  rice husk and rice straw  \\\nmean            0.09  0.52                0.28                      0.13   \n95%             0.53  0.52                0.50                      0.50   \nlower            NaN   NaN                 NaN                       NaN   \nupper            NaN   NaN                 NaN                       NaN   \nstd              NaN   NaN                 NaN                       NaN   \n\n       nut shells, pits, and stones  biosolids (paper sludge, sewage sludge)  \nmean                           0.40                                     0.07  \n95%                            0.52                                     0.50  \nlower                           NaN                                      NaN  \nupper                           NaN                                      NaN  \nstd                             NaN                                      NaN  ",
      "text/html": "<div>\n<style scoped>\n    .dataframe tbody tr th:only-of-type {\n        vertical-align: middle;\n    }\n\n    .dataframe tbody tr th {\n        vertical-align: top;\n    }\n\n    .dataframe thead th {\n        text-align: right;\n    }\n</style>\n<table border=\"1\" class=\"dataframe\">\n  <thead>\n    <tr style=\"text-align: right;\">\n      <th></th>\n      <th>animal manure</th>\n      <th>wood</th>\n      <th>herbaceous biomass</th>\n      <th>rice husk and rice straw</th>\n      <th>nut shells, pits, and stones</th>\n      <th>biosolids (paper sludge, sewage sludge)</th>\n    </tr>\n  </thead>\n  <tbody>\n    <tr>\n      <th>mean</th>\n      <td>0.09</td>\n      <td>0.52</td>\n      <td>0.28</td>\n      <td>0.13</td>\n      <td>0.40</td>\n      <td>0.07</td>\n    </tr>\n    <tr>\n      <th>95%</th>\n      <td>0.53</td>\n      <td>0.52</td>\n      <td>0.50</td>\n      <td>0.50</td>\n      <td>0.52</td>\n      <td>0.50</td>\n    </tr>\n    <tr>\n      <th>lower</th>\n      <td>NaN</td>\n      <td>NaN</td>\n      <td>NaN</td>\n      <td>NaN</td>\n      <td>NaN</td>\n      <td>NaN</td>\n    </tr>\n    <tr>\n      <th>upper</th>\n      <td>NaN</td>\n      <td>NaN</td>\n      <td>NaN</td>\n      <td>NaN</td>\n      <td>NaN</td>\n      <td>NaN</td>\n    </tr>\n    <tr>\n      <th>std</th>\n      <td>NaN</td>\n      <td>NaN</td>\n      <td>NaN</td>\n      <td>NaN</td>\n      <td>NaN</td>\n      <td>NaN</td>\n    </tr>\n  </tbody>\n</table>\n</div>"
     },
     "execution_count": 3,
     "metadata": {},
     "output_type": "execute_result"
    }
   ],
   "source": [
    "# Get data\n",
    "biochar_carbon_data = {\"animal manure\": {\"mean\": 0.09, \"95%\": 0.53},\n",
    "                       \"wood\": {\"mean\": 0.52, \"95%\": 0.52},\n",
    "                       \"herbaceous biomass\": {\"mean\": 0.28, \"95%\": 0.50},\n",
    "                       \"rice husk and rice straw\": {\"mean\": 0.13, \"95%\": 0.50},\n",
    "                       \"nut shells, pits, and stones\": {\"mean\": 0.40, \"95%\": 0.52},\n",
    "                       \"biosolids (paper sludge, sewage sludge)\": {\"mean\": 0.07, \"95%\": 0.50}\n",
    "                       }\n",
    "\n",
    "source = {\"Title\": \"Method for estimating the change in mineral soil organic carbon stocks from biochar amendments: \"\n",
    "                   \"basis for future methodological development\",\n",
    "          \"Publication\": \"2019 Refinement to the 2006 IPCC Guidelines for National Greenhouse Gas Inventories\",\n",
    "          \"URL\": \"https://www.ipcc-nggip.iges.or.jp/public/2019rf/pdf/4_Volume4/19R_V4_Ch02_Ap4_Biochar.pdf\"}\n",
    "\n",
    "# Create dataframe and add rows which are to be calculated\n",
    "biochar_carbon_df = pd.DataFrame(biochar_carbon_data)\n",
    "added_rows_df = pd.DataFrame(columns=biochar_carbon_df.columns, index=[\"lower\", \"upper\", \"std\"])\n",
    "biochar_carbon_df = pd.concat([biochar_carbon_df, added_rows_df])\n",
    "biochar_carbon_df"
   ],
   "metadata": {
    "collapsed": false
   }
  },
  {
   "cell_type": "code",
   "execution_count": 4,
   "outputs": [
    {
     "data": {
      "text/plain": "       animal manure      wood  herbaceous biomass  rice husk and rice straw  \\\nmean        0.090000  0.520000            0.280000                  0.130000   \n95%         0.530000  0.520000            0.500000                  0.500000   \nlower       0.042300  0.249600            0.140000                  0.065000   \nupper       0.137700  0.790400            0.420000                  0.195000   \nstd         0.024337  0.137959            0.071429                  0.033163   \n\n       nut shells, pits, and stones  biosolids (paper sludge, sewage sludge)  \nmean                       0.400000                                 0.070000  \n95%                        0.520000                                 0.500000  \nlower                      0.192000                                 0.035000  \nupper                      0.608000                                 0.105000  \nstd                        0.106122                                 0.017857  ",
      "text/html": "<div>\n<style scoped>\n    .dataframe tbody tr th:only-of-type {\n        vertical-align: middle;\n    }\n\n    .dataframe tbody tr th {\n        vertical-align: top;\n    }\n\n    .dataframe thead th {\n        text-align: right;\n    }\n</style>\n<table border=\"1\" class=\"dataframe\">\n  <thead>\n    <tr style=\"text-align: right;\">\n      <th></th>\n      <th>animal manure</th>\n      <th>wood</th>\n      <th>herbaceous biomass</th>\n      <th>rice husk and rice straw</th>\n      <th>nut shells, pits, and stones</th>\n      <th>biosolids (paper sludge, sewage sludge)</th>\n    </tr>\n  </thead>\n  <tbody>\n    <tr>\n      <th>mean</th>\n      <td>0.090000</td>\n      <td>0.520000</td>\n      <td>0.280000</td>\n      <td>0.130000</td>\n      <td>0.400000</td>\n      <td>0.070000</td>\n    </tr>\n    <tr>\n      <th>95%</th>\n      <td>0.530000</td>\n      <td>0.520000</td>\n      <td>0.500000</td>\n      <td>0.500000</td>\n      <td>0.520000</td>\n      <td>0.500000</td>\n    </tr>\n    <tr>\n      <th>lower</th>\n      <td>0.042300</td>\n      <td>0.249600</td>\n      <td>0.140000</td>\n      <td>0.065000</td>\n      <td>0.192000</td>\n      <td>0.035000</td>\n    </tr>\n    <tr>\n      <th>upper</th>\n      <td>0.137700</td>\n      <td>0.790400</td>\n      <td>0.420000</td>\n      <td>0.195000</td>\n      <td>0.608000</td>\n      <td>0.105000</td>\n    </tr>\n    <tr>\n      <th>std</th>\n      <td>0.024337</td>\n      <td>0.137959</td>\n      <td>0.071429</td>\n      <td>0.033163</td>\n      <td>0.106122</td>\n      <td>0.017857</td>\n    </tr>\n  </tbody>\n</table>\n</div>"
     },
     "execution_count": 4,
     "metadata": {},
     "output_type": "execute_result"
    }
   ],
   "source": [
    "# Calculate upper and lower 95% confidence limit and standard deviation\n",
    "for label in biochar_carbon_df.columns:\n",
    "    # extract data\n",
    "    mean = biochar_carbon_df.loc[\"mean\"][label]\n",
    "    confidence_interval_95 = biochar_carbon_df.loc[\"95%\"][label]\n",
    "\n",
    "    # do calculations\n",
    "    lower = mean - (mean * confidence_interval_95)  # calculate lower confidence interval\n",
    "    upper = mean + (mean * confidence_interval_95)  # calculate upper confidence interval\n",
    "    std = math.sqrt(1) * (upper - lower) / 3.92  # calculate standard deviation from confidence intervals\n",
    "\n",
    "    # store calculated parameters\n",
    "    biochar_carbon_df[label][\"lower\"] = lower\n",
    "    biochar_carbon_df[label][\"upper\"] = upper\n",
    "    biochar_carbon_df[label][\"std\"] = std\n",
    "biochar_carbon_df"
   ],
   "metadata": {
    "collapsed": false
   }
  },
  {
   "cell_type": "code",
   "execution_count": 5,
   "outputs": [
    {
     "data": {
      "text/plain": "<Figure size 432x288 with 1 Axes>",
      "image/png": "[encoded data removed]"
     },
     "metadata": {
      "needs_background": "light"
     },
     "output_type": "display_data"
    }
   ],
   "source": [
    "# Make and plot some sample distributions\n",
    "wood_dist = make_dist(gaussian(mean=biochar_carbon_df[\"wood\"][\"mean\"], std=biochar_carbon_df[\"wood\"][\"std\"]),\n",
    "                      length_array=1000)\n",
    "\n",
    "plt.figure()\n",
    "plt.title(\"Wood\")\n",
    "plt.hist(wood_dist, bins=20)\n",
    "plt.xlabel(\"Instances\")\n",
    "plt.ylabel(\"Biochar carbon content [%daf]\")\n",
    "plt.show()\n"
   ],
   "metadata": {
    "collapsed": false
   }
  },
  {
   "cell_type": "code",
   "execution_count": 6,
   "outputs": [
    {
     "data": {
      "text/plain": "<Figure size 432x288 with 1 Axes>",
      "image/png": "[encoded data removed]"
     },
     "metadata": {
      "needs_background": "light"
     },
     "output_type": "display_data"
    }
   ],
   "source": [
    "herbaceous_dist = make_dist(gaussian(mean=biochar_carbon_df[\"herbaceous biomass\"][\"mean\"],\n",
    "                               std=biochar_carbon_df[\"herbaceous biomass\"][\"std\"]),\n",
    "                      length_array=1000)\n",
    "\n",
    "plt.figure()\n",
    "plt.title(\"Herbaceous biomass\")\n",
    "plt.hist(herbaceous_dist, bins=20)\n",
    "plt.xlabel(\"Instances\")\n",
    "plt.ylabel(\"Biochar carbon content [%daf]\")\n",
    "plt.show()"
   ],
   "metadata": {
    "collapsed": false
   }
  },
  {
   "cell_type": "markdown",
   "source": [
    "# General Biochar carbon content data\n"
   ],
   "metadata": {
    "collapsed": false
   }
  },
  {
   "cell_type": "code",
   "execution_count": 7,
   "outputs": [],
   "source": [
    "carbon_percentage_data_raw = np.array([60.04, 59.49, 45.7, 64.80, 1.38, 89.85, 42.0, 46.8, 65.29, 79.34, 35, 71, 33.1])\n",
    "source = \"10.1016/j.biortech.2017.06.177\"\n"
   ],
   "metadata": {
    "collapsed": false
   }
  },
  {
   "cell_type": "code",
   "execution_count": 8,
   "outputs": [],
   "source": [
    "# function to reject outliers from a numpy array\n",
    "def reject_outliers(data, m=2):\n",
    "    return data[abs(data - np.mean(data)) < m * np.std(data)]"
   ],
   "metadata": {
    "collapsed": false
   }
  },
  {
   "cell_type": "code",
   "execution_count": 9,
   "outputs": [
    {
     "data": {
      "text/plain": "array([60.04, 59.49, 45.7 , 64.8 ,  1.38, 89.85, 42.  , 46.8 , 65.29,\n       79.34, 35.  , 71.  , 33.1 ])"
     },
     "execution_count": 9,
     "metadata": {},
     "output_type": "execute_result"
    }
   ],
   "source": [
    "# show data\n",
    "carbon_percentage_data_raw"
   ],
   "metadata": {
    "collapsed": false
   }
  },
  {
   "cell_type": "code",
   "execution_count": 10,
   "outputs": [
    {
     "data": {
      "text/plain": "array([60.04, 59.49, 45.7 , 64.8 , 89.85, 42.  , 46.8 , 65.29, 79.34,\n       35.  , 71.  , 33.1 ])"
     },
     "execution_count": 10,
     "metadata": {},
     "output_type": "execute_result"
    }
   ],
   "source": [
    "# Remove outliers from array and show new array\n",
    "carbon_percentage_data = reject_outliers(carbon_percentage_data_raw, m=2)\n",
    "carbon_percentage_data"
   ],
   "metadata": {
    "collapsed": false
   }
  },
  {
   "cell_type": "code",
   "execution_count": 11,
   "outputs": [
    {
     "name": "stdout",
     "output_type": "stream",
     "text": [
      "Mean: 0.5770083333333335\n",
      "Std: 0.16894895411698235\n"
     ]
    }
   ],
   "source": [
    "mean_carbon_percentage_general = np.mean(carbon_percentage_data) / 100\n",
    "std_carbon_percentage_general = np.std(carbon_percentage_data) / 100\n",
    "print(\"Mean:\", mean_carbon_percentage_general)\n",
    "print(\"Std:\", std_carbon_percentage_general)\n"
   ],
   "metadata": {
    "collapsed": false
   }
  },
  {
   "cell_type": "code",
   "execution_count": 12,
   "outputs": [
    {
     "data": {
      "text/plain": "<Figure size 432x288 with 1 Axes>",
      "image/png": "[encoded data removed]"
     },
     "metadata": {
      "needs_background": "light"
     },
     "output_type": "display_data"
    }
   ],
   "source": [
    "general_dist = make_dist(gaussian(mean=mean_carbon_percentage_general, std=std_carbon_percentage_general),\n",
    "                            length_array=1000)\n",
    "\n",
    "plt.figure()\n",
    "plt.title(\"General data\")\n",
    "plt.hist(general_dist, bins=20)\n",
    "plt.xlabel(\"Instances\")\n",
    "plt.ylabel(\"Biochar carbon content [%daf]\")\n",
    "plt.show()"
   ],
   "metadata": {
    "collapsed": false
   }
  },
  {
   "cell_type": "markdown",
   "source": [
    "# Recalcitrant carbon fraction"
   ],
   "metadata": {
    "collapsed": false
   }
  },
  {
   "cell_type": "code",
   "execution_count": 13,
   "outputs": [
    {
     "data": {
      "text/plain": "0.8"
     },
     "execution_count": 13,
     "metadata": {},
     "output_type": "execute_result"
    }
   ],
   "source": [
    "recalcitrant_carbon_triangular = triangular(lower=0.80,mode=0.90, upper=0.97)\n",
    "recalcitrant_carbon_triangular.lower"
   ],
   "metadata": {
    "collapsed": false
   }
  },
  {
   "cell_type": "code",
   "execution_count": 14,
   "outputs": [
    {
     "data": {
      "text/plain": "<Figure size 432x288 with 1 Axes>",
      "image/png": "[encoded data removed]"
     },
     "metadata": {
      "needs_background": "light"
     },
     "output_type": "display_data"
    }
   ],
   "source": [
    "recalcitrant_carbon_dist = make_dist(values=recalcitrant_carbon_triangular, length_array=1000)\n",
    "\n",
    "plt.figure()\n",
    "plt.title(\"General data\")\n",
    "plt.hist(recalcitrant_carbon_dist, bins=20)\n",
    "plt.xlabel(\"Instances\")\n",
    "plt.ylabel(\"Recalcitrant carbon [%]\")\n",
    "plt.show()"
   ],
   "metadata": {
    "collapsed": false
   }
  },
  {
   "cell_type": "markdown",
   "source": [
    "# Prepare outputs"
   ],
   "metadata": {
    "collapsed": false
   }
  },
  {
   "cell_type": "code",
   "execution_count": 15,
   "outputs": [
    {
     "data": {
      "text/plain": "       animal manure      wood  herbaceous biomass  rice husk and rice straw  \\\nmean        0.090000  0.520000            0.280000                  0.130000   \n95%         0.530000  0.520000            0.500000                  0.500000   \nlower       0.042300  0.249600            0.140000                  0.065000   \nupper       0.137700  0.790400            0.420000                  0.195000   \nstd         0.024337  0.137959            0.071429                  0.033163   \n\n       nut shells, pits, and stones  biosolids (paper sludge, sewage sludge)  \\\nmean                       0.400000                                 0.070000   \n95%                        0.520000                                 0.500000   \nlower                      0.192000                                 0.035000   \nupper                      0.608000                                 0.105000   \nstd                        0.106122                                 0.017857   \n\n        general  \nmean   0.577008  \n95%         NaN  \nlower       NaN  \nupper       NaN  \nstd    0.168949  ",
      "text/html": "<div>\n<style scoped>\n    .dataframe tbody tr th:only-of-type {\n        vertical-align: middle;\n    }\n\n    .dataframe tbody tr th {\n        vertical-align: top;\n    }\n\n    .dataframe thead th {\n        text-align: right;\n    }\n</style>\n<table border=\"1\" class=\"dataframe\">\n  <thead>\n    <tr style=\"text-align: right;\">\n      <th></th>\n      <th>animal manure</th>\n      <th>wood</th>\n      <th>herbaceous biomass</th>\n      <th>rice husk and rice straw</th>\n      <th>nut shells, pits, and stones</th>\n      <th>biosolids (paper sludge, sewage sludge)</th>\n      <th>general</th>\n    </tr>\n  </thead>\n  <tbody>\n    <tr>\n      <th>mean</th>\n      <td>0.090000</td>\n      <td>0.520000</td>\n      <td>0.280000</td>\n      <td>0.130000</td>\n      <td>0.400000</td>\n      <td>0.070000</td>\n      <td>0.577008</td>\n    </tr>\n    <tr>\n      <th>95%</th>\n      <td>0.530000</td>\n      <td>0.520000</td>\n      <td>0.500000</td>\n      <td>0.500000</td>\n      <td>0.520000</td>\n      <td>0.500000</td>\n      <td>NaN</td>\n    </tr>\n    <tr>\n      <th>lower</th>\n      <td>0.042300</td>\n      <td>0.249600</td>\n      <td>0.140000</td>\n      <td>0.065000</td>\n      <td>0.192000</td>\n      <td>0.035000</td>\n      <td>NaN</td>\n    </tr>\n    <tr>\n      <th>upper</th>\n      <td>0.137700</td>\n      <td>0.790400</td>\n      <td>0.420000</td>\n      <td>0.195000</td>\n      <td>0.608000</td>\n      <td>0.105000</td>\n      <td>NaN</td>\n    </tr>\n    <tr>\n      <th>std</th>\n      <td>0.024337</td>\n      <td>0.137959</td>\n      <td>0.071429</td>\n      <td>0.033163</td>\n      <td>0.106122</td>\n      <td>0.017857</td>\n      <td>0.168949</td>\n    </tr>\n  </tbody>\n</table>\n</div>"
     },
     "execution_count": 15,
     "metadata": {},
     "output_type": "execute_result"
    }
   ],
   "source": [
    "# Add general data to dataframe\n",
    "biochar_carbon_df[\"general\"] = np.nan\n",
    "biochar_carbon_df[\"general\"][\"mean\"] = mean_carbon_percentage_general\n",
    "biochar_carbon_df[\"general\"][\"std\"] = std_carbon_percentage_general\n",
    "\n",
    "biochar_carbon_df\n"
   ],
   "metadata": {
    "collapsed": false
   }
  },
  {
   "cell_type": "markdown",
   "source": [
    "# Note:\n",
    "- General data has higher carbon percentage than all other more specific IPCC data.\n",
    "- Some feedstock types result in very low carbon contents in biochar - likely due to high ash contents among other factors.\n",
    "- IPCC data might be overly conservative whilst other data might be optimistic (if high biochar carbon content is deemed desirable).\n",
    "- In practice, have model who selects based on feedstock type and reverts to general data if unknown feedstock type.\n"
   ],
   "metadata": {
    "collapsed": false
   }
  },
  {
   "cell_type": "code",
   "execution_count": 16,
   "outputs": [],
   "source": [
    "output_dict = {\"Biochar carbon fraction\": biochar_carbon_df,\n",
    "               \"Biochar recalcitrant carbon fraction\": recalcitrant_carbon_triangular}\n",
    "\n",
    "# Store results\n",
    "with open(r\"results\\biochar_properties_results\", \"wb\") as f:\n",
    "    pickle.dump(output_dict, f)\n",
    "\n",
    "# Also save to data folder\n",
    "with open(r\"C:\\Users\\2270577A\\PycharmProjects\\PhD_LCA_TEA\\data\\biochar_properties_results\", \"wb\") as f:\n",
    "    pickle.dump(output_dict, f)\n"
   ],
   "metadata": {
    "collapsed": false
   }
  }
 ],
 "metadata": {
  "kernelspec": {
   "display_name": "Python 3",
   "language": "python",
   "name": "python3"
  },
  "language_info": {
   "codemirror_mode": {
    "name": "ipython",
    "version": 2
   },
   "file_extension": ".py",
   "mimetype": "text/x-python",
   "name": "python",
   "nbconvert_exporter": "python",
   "pygments_lexer": "ipython2",
   "version": "2.7.6"
  }
 },
 "nbformat": 4,
 "nbformat_minor": 0
}

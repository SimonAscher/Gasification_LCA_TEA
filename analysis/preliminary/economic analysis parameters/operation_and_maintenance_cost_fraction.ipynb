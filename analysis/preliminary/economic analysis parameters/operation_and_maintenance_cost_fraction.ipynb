{
 "cells": [
  {
   "cell_type": "markdown",
   "source": [
    "# Analysis on fixed operation and maintenance cost in relationship to CAPEX"
   ],
   "metadata": {
    "collapsed": false
   },
   "id": "c222a09cde404e82"
  },
  {
   "cell_type": "code",
   "execution_count": 1,
   "outputs": [],
   "source": [
    "import matplotlib.pyplot as plt\n",
    "import numpy as np"
   ],
   "metadata": {
    "collapsed": false,
    "ExecuteTime": {
     "end_time": "2023-10-17T17:10:10.174628600Z",
     "start_time": "2023-10-17T17:10:09.294568Z"
    }
   },
   "id": "dc262b7007861f2"
  },
  {
   "cell_type": "code",
   "execution_count": 2,
   "outputs": [],
   "source": [
    "o_and_m_cost = []\n",
    "source = []"
   ],
   "metadata": {
    "collapsed": false,
    "ExecuteTime": {
     "end_time": "2023-10-17T17:10:10.194956100Z",
     "start_time": "2023-10-17T17:10:10.179052200Z"
    }
   },
   "id": "22eefe7c448bc4fb"
  },
  {
   "cell_type": "code",
   "execution_count": 3,
   "outputs": [],
   "source": [
    "# Source 1 - Entrained flow gasifier\n",
    "o_and_m_cost.append(0.05)\n",
    "source.append(\"http://dx.doi.org/10.1016/J.IJHYDENE.2018.04.024\")"
   ],
   "metadata": {
    "collapsed": false,
    "ExecuteTime": {
     "end_time": "2023-10-17T17:10:10.223423800Z",
     "start_time": "2023-10-17T17:10:10.194956100Z"
    }
   },
   "id": "9fc8781273b0f95"
  },
  {
   "cell_type": "code",
   "execution_count": 4,
   "outputs": [],
   "source": [
    "# Source 2 - Alternative fuels production systems\n",
    "\n",
    "# Lower bound\n",
    "o_and_m_cost.append(0.02)\n",
    "source.append(\"http://dx.doi.org/10.1016/j.fuel.2016.12.003\")\n",
    "\n",
    "# Upper bound\n",
    "o_and_m_cost.append(0.06)\n",
    "source.append(\"http://dx.doi.org/10.1016/j.fuel.2016.12.003\")"
   ],
   "metadata": {
    "collapsed": false,
    "ExecuteTime": {
     "end_time": "2023-10-17T17:10:10.228411400Z",
     "start_time": "2023-10-17T17:10:10.214650600Z"
    }
   },
   "id": "8382fc36e767ef15"
  },
  {
   "cell_type": "code",
   "execution_count": 5,
   "outputs": [],
   "source": [
    "# Source 3 - Biomass technologies\n",
    "o_and_m_cost.append(0.02)\n",
    "o_and_m_cost.append(0.07)\n",
    "source.append(\"https://www.irena.org/-/media/Files/IRENA/Agency/Publication/2012/RE_Technologies_Cost_Analysis-BIOMASS.pdf\")"
   ],
   "metadata": {
    "collapsed": false,
    "ExecuteTime": {
     "end_time": "2023-10-17T17:10:10.242526700Z",
     "start_time": "2023-10-17T17:10:10.229408100Z"
    }
   },
   "id": "4408b362c611c75e"
  },
  {
   "cell_type": "code",
   "execution_count": 6,
   "outputs": [],
   "source": [
    "# Source 4 - Fixed and fluidised bed gasifiers\n",
    "\n",
    "# Lower bound\n",
    "o_and_m_cost.append(0.03)\n",
    "source.append(\"https://www.irena.org/-/media/Files/IRENA/Agency/Publication/2012/RE_Technologies_Cost_Analysis-BIOMASS.pdf\")\n",
    "\n",
    "# Upper bound\n",
    "o_and_m_cost.append(0.06)\n",
    "source.append(\"https://www.irena.org/-/media/Files/IRENA/Agency/Publication/2012/RE_Technologies_Cost_Analysis-BIOMASS.pdf\")"
   ],
   "metadata": {
    "collapsed": false,
    "ExecuteTime": {
     "end_time": "2023-10-17T17:10:10.274378300Z",
     "start_time": "2023-10-17T17:10:10.243523400Z"
    }
   },
   "id": "9f4b1d8f6692305c"
  },
  {
   "cell_type": "code",
   "execution_count": 7,
   "outputs": [],
   "source": [
    "# Source 5 - Biomass power generation systems.\n",
    "o_and_m_cost.append(0.03)  # Note - maintenance cost only\n",
    "source.append(\"https://doi.org/10.1016/S0961-9534(02)00149-6\")"
   ],
   "metadata": {
    "collapsed": false,
    "ExecuteTime": {
     "end_time": "2023-10-17T17:10:10.304456900Z",
     "start_time": "2023-10-17T17:10:10.268836600Z"
    }
   },
   "id": "8fd52e1e74f8f3cf"
  },
  {
   "cell_type": "code",
   "execution_count": 8,
   "outputs": [],
   "source": [
    "# Source 6 - Integrated Gasification Combined Cycle + Optional CCS\n",
    "o_and_m_cost.append(0.03)  # Note - Approximate - 2.4 to 3.0 %\n",
    "source.append(\"https://doi.org/10.1016/j.rser.2007.06.010\")"
   ],
   "metadata": {
    "collapsed": false,
    "ExecuteTime": {
     "end_time": "2023-10-17T17:10:10.309309500Z",
     "start_time": "2023-10-17T17:10:10.289036500Z"
    }
   },
   "id": "54860e27d610397b"
  },
  {
   "cell_type": "code",
   "execution_count": 9,
   "outputs": [
    {
     "data": {
      "text/plain": "<Figure size 432x288 with 1 Axes>",
      "image/png": "[encoded data removed]"
     },
     "metadata": {
      "needs_background": "light"
     },
     "output_type": "display_data"
    }
   ],
   "source": [
    "fig, ax = plt.subplots()\n",
    "ax.hist(o_and_m_cost)\n",
    "ax.set_xlabel(\"Fixed O&M Cost as Fraction of CAPEX\")\n",
    "ax.set_ylabel(\"Instances\")\n",
    "plt.show()"
   ],
   "metadata": {
    "collapsed": false,
    "ExecuteTime": {
     "end_time": "2023-10-17T17:10:10.494724900Z",
     "start_time": "2023-10-17T17:10:10.316597200Z"
    }
   },
   "id": "df29f77ad76fd3da"
  },
  {
   "cell_type": "code",
   "execution_count": 11,
   "outputs": [
    {
     "data": {
      "text/plain": "<Figure size 432x288 with 1 Axes>",
      "image/png": "[encoded data removed]"
     },
     "metadata": {
      "needs_background": "light"
     },
     "output_type": "display_data"
    }
   ],
   "source": [
    "fig, ax = plt.subplots()\n",
    "sorted_o_and_m_cost = np.sort(o_and_m_cost)\n",
    "ax.scatter(np.arange(len(sorted_o_and_m_cost)), sorted_o_and_m_cost)\n",
    "ax.set_xlabel(\"Instance\")\n",
    "ax.set_ylabel(\"Fixed O&M Cost as Fraction of CAPEX\")\n",
    "plt.show()"
   ],
   "metadata": {
    "collapsed": false,
    "ExecuteTime": {
     "end_time": "2023-10-17T17:11:16.459842900Z",
     "start_time": "2023-10-17T17:11:16.350487Z"
    }
   },
   "id": "9009ffca53c12edf"
  }
 ],
 "metadata": {
  "kernelspec": {
   "display_name": "Python 3",
   "language": "python",
   "name": "python3"
  },
  "language_info": {
   "codemirror_mode": {
    "name": "ipython",
    "version": 2
   },
   "file_extension": ".py",
   "mimetype": "text/x-python",
   "name": "python",
   "nbconvert_exporter": "python",
   "pygments_lexer": "ipython2",
   "version": "2.7.6"
  }
 },
 "nbformat": 4,
 "nbformat_minor": 5
}

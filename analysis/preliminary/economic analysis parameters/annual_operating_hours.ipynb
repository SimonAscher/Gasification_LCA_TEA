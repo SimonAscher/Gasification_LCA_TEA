{
 "cells": [
  {
   "cell_type": "markdown",
   "source": [
    "# Analyis on annual operating hours of gasification plants"
   ],
   "metadata": {
    "collapsed": false
   },
   "id": "143e1ed09065579d"
  },
  {
   "cell_type": "code",
   "execution_count": 14,
   "id": "cbd740b4f0d861f4",
   "metadata": {
    "collapsed": true,
    "ExecuteTime": {
     "end_time": "2023-08-08T16:30:37.008070900Z",
     "start_time": "2023-08-08T16:30:37.003092Z"
    }
   },
   "outputs": [],
   "source": [
    "import os\n",
    "\n",
    "import pandas as pd\n",
    "import numpy as np\n",
    "import matplotlib.pyplot as plt\n",
    "\n",
    "from scipy import stats\n",
    "from functions.general.utility import get_project_root\n",
    "from functions.general.utility import reject_outliers"
   ]
  },
  {
   "cell_type": "code",
   "execution_count": 3,
   "outputs": [
    {
     "data": {
      "text/plain": "    Value       Units Country  Reference Year  \\\n0    8410  hours/year     USA            2007   \n1    7896  hours/year      UK            2009   \n2    7200  hours/year   Italy            2015   \n3    7500  hours/year   Spain            2018   \n4    8600  hours/year    Iran            2018   \n5    7680  hours/year   Italy            2012   \n6    8000  hours/year  Mexico            2019   \n7    6000  hours/year  Poland            2014   \n8    8766  hours/year     USA            2020   \n9    8000  hours/year      UK            2022   \n10   8000  hours/year  Europe            2014   \n11   7500  hours/year  Europe            2018   \n12   7896  hours/year      UK            2009   \n\n                                            Reference               Notes  \n0   Process Design and Economics for Conversion of...                 NaN  \n1           https://doi.org/10.1016/j.cej.2008.06.014                 NaN  \n2      http://dx.doi.org/10.1016/j.fuproc.2014.11.003                 NaN  \n3        https://doi.org/10.1016/j.wasman.2018.03.039                 NaN  \n4                            https://doi.org/10.1016/                 NaN  \n5      http://dx.doi.org/10.1016/j.energy.2012.03.048                 NaN  \n6        https://doi.org/10.1016/j.energy.2019.116095                 NaN  \n7        https://doi.org/10.1016/j.energy.2014.01.015                 NaN  \n8   https://doi.org/10.1016/j.compchemeng.2020.106758                 NaN  \n9      https://doi.org/10.1016/j.enconman.2022.115346                 NaN  \n10                    https://doi.org/10.1002/er.3038                 NaN  \n11       https://doi.org/10.1016/j.energy.2018.02.109                 NaN  \n12        http://dx.doi.org/10.1016/j.cej.2008.06.014  given as days/year  ",
      "text/html": "<div>\n<style scoped>\n    .dataframe tbody tr th:only-of-type {\n        vertical-align: middle;\n    }\n\n    .dataframe tbody tr th {\n        vertical-align: top;\n    }\n\n    .dataframe thead th {\n        text-align: right;\n    }\n</style>\n<table border=\"1\" class=\"dataframe\">\n  <thead>\n    <tr style=\"text-align: right;\">\n      <th></th>\n      <th>Value</th>\n      <th>Units</th>\n      <th>Country</th>\n      <th>Reference Year</th>\n      <th>Reference</th>\n      <th>Notes</th>\n    </tr>\n  </thead>\n  <tbody>\n    <tr>\n      <th>0</th>\n      <td>8410</td>\n      <td>hours/year</td>\n      <td>USA</td>\n      <td>2007</td>\n      <td>Process Design and Economics for Conversion of...</td>\n      <td>NaN</td>\n    </tr>\n    <tr>\n      <th>1</th>\n      <td>7896</td>\n      <td>hours/year</td>\n      <td>UK</td>\n      <td>2009</td>\n      <td>https://doi.org/10.1016/j.cej.2008.06.014</td>\n      <td>NaN</td>\n    </tr>\n    <tr>\n      <th>2</th>\n      <td>7200</td>\n      <td>hours/year</td>\n      <td>Italy</td>\n      <td>2015</td>\n      <td>http://dx.doi.org/10.1016/j.fuproc.2014.11.003</td>\n      <td>NaN</td>\n    </tr>\n    <tr>\n      <th>3</th>\n      <td>7500</td>\n      <td>hours/year</td>\n      <td>Spain</td>\n      <td>2018</td>\n      <td>https://doi.org/10.1016/j.wasman.2018.03.039</td>\n      <td>NaN</td>\n    </tr>\n    <tr>\n      <th>4</th>\n      <td>8600</td>\n      <td>hours/year</td>\n      <td>Iran</td>\n      <td>2018</td>\n      <td>https://doi.org/10.1016/</td>\n      <td>NaN</td>\n    </tr>\n    <tr>\n      <th>5</th>\n      <td>7680</td>\n      <td>hours/year</td>\n      <td>Italy</td>\n      <td>2012</td>\n      <td>http://dx.doi.org/10.1016/j.energy.2012.03.048</td>\n      <td>NaN</td>\n    </tr>\n    <tr>\n      <th>6</th>\n      <td>8000</td>\n      <td>hours/year</td>\n      <td>Mexico</td>\n      <td>2019</td>\n      <td>https://doi.org/10.1016/j.energy.2019.116095</td>\n      <td>NaN</td>\n    </tr>\n    <tr>\n      <th>7</th>\n      <td>6000</td>\n      <td>hours/year</td>\n      <td>Poland</td>\n      <td>2014</td>\n      <td>https://doi.org/10.1016/j.energy.2014.01.015</td>\n      <td>NaN</td>\n    </tr>\n    <tr>\n      <th>8</th>\n      <td>8766</td>\n      <td>hours/year</td>\n      <td>USA</td>\n      <td>2020</td>\n      <td>https://doi.org/10.1016/j.compchemeng.2020.106758</td>\n      <td>NaN</td>\n    </tr>\n    <tr>\n      <th>9</th>\n      <td>8000</td>\n      <td>hours/year</td>\n      <td>UK</td>\n      <td>2022</td>\n      <td>https://doi.org/10.1016/j.enconman.2022.115346</td>\n      <td>NaN</td>\n    </tr>\n    <tr>\n      <th>10</th>\n      <td>8000</td>\n      <td>hours/year</td>\n      <td>Europe</td>\n      <td>2014</td>\n      <td>https://doi.org/10.1002/er.3038</td>\n      <td>NaN</td>\n    </tr>\n    <tr>\n      <th>11</th>\n      <td>7500</td>\n      <td>hours/year</td>\n      <td>Europe</td>\n      <td>2018</td>\n      <td>https://doi.org/10.1016/j.energy.2018.02.109</td>\n      <td>NaN</td>\n    </tr>\n    <tr>\n      <th>12</th>\n      <td>7896</td>\n      <td>hours/year</td>\n      <td>UK</td>\n      <td>2009</td>\n      <td>http://dx.doi.org/10.1016/j.cej.2008.06.014</td>\n      <td>given as days/year</td>\n    </tr>\n  </tbody>\n</table>\n</div>"
     },
     "execution_count": 3,
     "metadata": {},
     "output_type": "execute_result"
    }
   ],
   "source": [
    "# General parameters\n",
    "root_dir = get_project_root()\n",
    "\n",
    "# Load and display data\n",
    "data_file = \"annual_operating_hours.csv\"\n",
    "data_file_path = os.path.join(root_dir, \"data\", data_file)\n",
    "df_source = pd.read_csv(data_file_path)\n",
    "df = df_source.copy()  # working copy of original dataframe\n",
    "df"
   ],
   "metadata": {
    "collapsed": false,
    "ExecuteTime": {
     "end_time": "2023-08-08T16:26:14.137839800Z",
     "start_time": "2023-08-08T16:26:14.106520900Z"
    }
   },
   "id": "de04336faceeab2d"
  },
  {
   "cell_type": "code",
   "execution_count": 5,
   "outputs": [
    {
     "data": {
      "text/plain": "array([8410, 7896, 7200, 7500, 8600, 7680, 8000, 6000, 8766, 8000, 8000,\n       7500, 7896], dtype=int64)"
     },
     "execution_count": 5,
     "metadata": {},
     "output_type": "execute_result"
    }
   ],
   "source": [
    "# Hours before rejecting outliers\n",
    "hours_array_raw = np.array(df[\"Value\"])\n",
    "hours_array_raw"
   ],
   "metadata": {
    "collapsed": false,
    "ExecuteTime": {
     "end_time": "2023-08-08T16:26:21.129163500Z",
     "start_time": "2023-08-08T16:26:21.107786300Z"
    }
   },
   "id": "fd4dca8cf547932c"
  },
  {
   "cell_type": "code",
   "execution_count": 6,
   "outputs": [
    {
     "data": {
      "text/plain": "array([8410, 7896, 7200, 7500, 8600, 7680, 8000, 8766, 8000, 8000, 7500,\n       7896], dtype=int64)"
     },
     "execution_count": 6,
     "metadata": {},
     "output_type": "execute_result"
    }
   ],
   "source": [
    "# Hours after rejecting outliers\n",
    "hours_array_after_rejecting_outliers = reject_outliers(hours_array_raw, 2)\n",
    "hours_array_after_rejecting_outliers"
   ],
   "metadata": {
    "collapsed": false,
    "ExecuteTime": {
     "end_time": "2023-08-08T16:26:25.716696800Z",
     "start_time": "2023-08-08T16:26:25.705727300Z"
    }
   },
   "id": "ee22bd0ff9b85349"
  },
  {
   "cell_type": "code",
   "execution_count": 7,
   "outputs": [
    {
     "data": {
      "text/plain": "<Figure size 432x288 with 1 Axes>",
      "image/png": "[encoded data removed]"
     },
     "metadata": {},
     "output_type": "display_data"
    }
   ],
   "source": [
    "# Plot of raw data\n",
    "fig, ax = plt.subplots()\n",
    "ax.hist(hours_array_raw)\n",
    "plt.show()"
   ],
   "metadata": {
    "collapsed": false,
    "ExecuteTime": {
     "end_time": "2023-08-08T16:26:33.359141500Z",
     "start_time": "2023-08-08T16:26:33.204134700Z"
    }
   },
   "id": "93f8637986f8010f"
  },
  {
   "cell_type": "code",
   "execution_count": 8,
   "outputs": [
    {
     "data": {
      "text/plain": "<Figure size 432x288 with 1 Axes>",
      "image/png": "[encoded data removed]"
     },
     "metadata": {},
     "output_type": "display_data"
    }
   ],
   "source": [
    "# Plot of data after removing outliers\n",
    "fig, ax = plt.subplots()\n",
    "ax.hist(hours_array_after_rejecting_outliers)\n",
    "plt.show()"
   ],
   "metadata": {
    "collapsed": false,
    "ExecuteTime": {
     "end_time": "2023-08-08T16:26:35.729188600Z",
     "start_time": "2023-08-08T16:26:35.579150600Z"
    }
   },
   "id": "559da499c4feff78"
  },
  {
   "cell_type": "code",
   "execution_count": 20,
   "outputs": [
    {
     "name": "stdout",
     "output_type": "stream",
     "text": [
      "Mean: 7954, Std: 443, Mode:8000\n"
     ]
    }
   ],
   "source": [
    "# Display stats\n",
    "print(f\"Mean: {np.mean(hours_array_after_rejecting_outliers):.0f}, Std: {np.std(hours_array_after_rejecting_outliers):.0f}, Mode:{int(stats.mode(hours_array_after_rejecting_outliers).mode):.0f}\")\n"
   ],
   "metadata": {
    "collapsed": false,
    "ExecuteTime": {
     "end_time": "2023-08-08T16:33:24.947959200Z",
     "start_time": "2023-08-08T16:33:24.939980300Z"
    }
   },
   "id": "1df4f98ef9933a5f"
  }
 ],
 "metadata": {
  "kernelspec": {
   "display_name": "Python 3",
   "language": "python",
   "name": "python3"
  },
  "language_info": {
   "codemirror_mode": {
    "name": "ipython",
    "version": 2
   },
   "file_extension": ".py",
   "mimetype": "text/x-python",
   "name": "python",
   "nbconvert_exporter": "python",
   "pygments_lexer": "ipython2",
   "version": "2.7.6"
  }
 },
 "nbformat": 4,
 "nbformat_minor": 5
}

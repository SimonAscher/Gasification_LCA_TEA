{
 "cells": [
  {
   "cell_type": "code",
   "execution_count": 4,
   "id": "initial_id",
   "metadata": {
    "collapsed": true,
    "ExecuteTime": {
     "end_time": "2023-09-20T16:22:01.913163Z",
     "start_time": "2023-09-20T16:22:00.086868100Z"
    }
   },
   "outputs": [],
   "source": [
    "from functions.TEA import convert_currency_annual_average\n",
    "from functions.TEA.scaling import CEPCI_scale\n"
   ]
  },
  {
   "cell_type": "code",
   "execution_count": 5,
   "outputs": [],
   "source": [
    "# General parameters\n",
    "scaling_factor = 0.65\n",
    "updated_currency = \"GBP\"\n",
    "updated_CEPCI_year = 2020\n"
   ],
   "metadata": {
    "collapsed": false,
    "ExecuteTime": {
     "end_time": "2023-09-20T16:22:03.802299300Z",
     "start_time": "2023-09-20T16:22:03.779061900Z"
    }
   },
   "id": "a419be79f3448ffa"
  },
  {
   "cell_type": "code",
   "execution_count": 6,
   "outputs": [
    {
     "data": {
      "text/plain": "{'CAPEX': 6600000,\n 'Currency': 'USD',\n 'Year': 2010,\n 'Size': 667.67,\n 'Reference': 'Techno-economic and environmental evaluation of biomass dryer',\n 'CEPCI_currency_scaled_CAPEX': 4271382.376438356,\n 'Scaled_CAPEX': 4633534.803779808}"
     },
     "execution_count": 6,
     "metadata": {},
     "output_type": "execute_result"
    }
   ],
   "source": [
    "Ref_1 = {\"CAPEX\": 6600000,\n",
    "         \"Currency\": \"USD\",\n",
    "         \"Year\": 2010,\n",
    "         \"Size\": 667.67,\n",
    "         \"Reference\": \"Techno-economic and environmental evaluation of biomass dryer\"}\n",
    "\n",
    "Ref_1[\"Currency_scaled_CAPEX\"] = convert_currency_annual_average(value=Ref_1[\"CAPEX\"],\n",
    "                                                                       year=Ref_1[\"Year\"],\n",
    "                                                                       base_currency=Ref_1[\"Currency\"],\n",
    "                                                                       converted_currency=updated_currency)\n",
    "Ref_1[\"Scaled_CAPEX\"] = CEPCI_scale(base_year=Ref_1[\"Year\"], design_year=updated_CEPCI_year,value=Ref_1[\"Currency_scaled_CAPEX\"])\n",
    "Ref_1\n"
   ],
   "metadata": {
    "collapsed": false,
    "ExecuteTime": {
     "end_time": "2023-09-20T16:22:06.454781900Z",
     "start_time": "2023-09-20T16:22:05.672348700Z"
    }
   },
   "id": "b2ea0e5b5adc044c"
  },
  {
   "cell_type": "code",
   "execution_count": 8,
   "outputs": [
    {
     "data": {
      "text/plain": "{'CAPEX': 4716424,\n 'Currency': 'USD',\n 'Year': 2016,\n 'Size': 8000,\n 'Reference': 'Evaluating industrial drying of cellulosic feedstock for bioenergy: A systems approach',\n 'Currency_scaled_CAPEX': 3489150.269918776,\n 'Scaled_CAPEX': 3848564.3091683006}"
     },
     "execution_count": 8,
     "metadata": {},
     "output_type": "execute_result"
    }
   ],
   "source": [
    "Ref_2 = {\"CAPEX\": 4716424,\n",
    "         \"Currency\": \"USD\",\n",
    "         \"Year\": 2016,\n",
    "         \"Size\": 8000,\n",
    "         \"Reference\": \"Evaluating industrial drying of cellulosic feedstock for bioenergy: A systems approach\"}\n",
    "\n",
    "Ref_2[\"Currency_scaled_CAPEX\"] = convert_currency_annual_average(value=Ref_2[\"CAPEX\"],\n",
    "                                                                       year=Ref_2[\"Year\"],\n",
    "                                                                       base_currency=Ref_2[\"Currency\"],\n",
    "                                                                       converted_currency=updated_currency)\n",
    "Ref_2[\"Scaled_CAPEX\"] = CEPCI_scale(base_year=Ref_2[\"Year\"], design_year=updated_CEPCI_year,value=Ref_2[\"Currency_scaled_CAPEX\"])\n",
    "Ref_2"
   ],
   "metadata": {
    "collapsed": false,
    "ExecuteTime": {
     "end_time": "2023-09-20T16:23:35.606427200Z",
     "start_time": "2023-09-20T16:23:34.905809200Z"
    }
   },
   "id": "68eb4d8b75ccc90c"
  },
  {
   "cell_type": "code",
   "execution_count": 7,
   "outputs": [
    {
     "data": {
      "text/plain": "{'CAPEX': 2428800.0,\n 'Currency': 'USD',\n 'Year': 2000,\n 'Size': 700,\n 'Reference': 'Chemical Process Design and Integration, Smith, 2005',\n 'Currency_scaled_CAPEX': 1604904.7932590167,\n 'Scaled_CAPEX': 2433216.477980874}"
     },
     "execution_count": 7,
     "metadata": {},
     "output_type": "execute_result"
    }
   ],
   "source": [
    "Ref_3 = {\"CAPEX\": 230000 * 2.4 * 4.4,\n",
    "         \"Currency\": \"USD\",\n",
    "         \"Year\": 2000,\n",
    "         \"Size\": 700,\n",
    "         \"Reference\": \"Chemical Process Design and Integration, Smith, 2005\"}\n",
    "\n",
    "Ref_3[\"Currency_scaled_CAPEX\"] = convert_currency_annual_average(value=Ref_3[\"CAPEX\"],\n",
    "                                                                 year=Ref_3[\"Year\"],\n",
    "                                                                 base_currency=Ref_3[\"Currency\"],\n",
    "                                                                 converted_currency=updated_currency)\n",
    "Ref_3[\"Scaled_CAPEX\"] = CEPCI_scale(base_year=Ref_3[\"Year\"], design_year=updated_CEPCI_year,value=Ref_3[\"Currency_scaled_CAPEX\"])\n",
    "Ref_3"
   ],
   "metadata": {
    "collapsed": false,
    "ExecuteTime": {
     "end_time": "2023-09-20T16:23:33.472649600Z",
     "start_time": "2023-09-20T16:23:33.073866100Z"
    }
   },
   "id": "4dedb256ea0b1854"
  },
  {
   "cell_type": "markdown",
   "source": [
    "# Conclusions\n",
    "- Numbers don't line up well at all. \n",
    "- 700 and 667 kg H2O/hour systems have sizes of £2-4 Million\n",
    "- 8000 kg H2O/hour system has size of £3.8 Million\n",
    "- Values are a factor of 10 apart!\n",
    "\n",
    "# Action\n",
    "- Try to find more data to try to establish regression model. "
   ],
   "metadata": {
    "collapsed": false
   },
   "id": "dc4e6813876d8869"
  }
 ],
 "metadata": {
  "kernelspec": {
   "display_name": "Python 3",
   "language": "python",
   "name": "python3"
  },
  "language_info": {
   "codemirror_mode": {
    "name": "ipython",
    "version": 2
   },
   "file_extension": ".py",
   "mimetype": "text/x-python",
   "name": "python",
   "nbconvert_exporter": "python",
   "pygments_lexer": "ipython2",
   "version": "2.7.6"
  }
 },
 "nbformat": 4,
 "nbformat_minor": 5
}

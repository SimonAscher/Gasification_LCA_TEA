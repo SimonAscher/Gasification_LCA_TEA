{
 "cells": [
  {
   "cell_type": "markdown",
   "source": [
    "# Analysis on the energy requirements for milling and pelleting of feedstock\n",
    "Note: Analysis updated in other notebook"
   ],
   "metadata": {
    "collapsed": false
   }
  },
  {
   "cell_type": "code",
   "execution_count": 4,
   "outputs": [
    {
     "ename": "ModuleNotFoundError",
     "evalue": "No module named 'functions'",
     "output_type": "error",
     "traceback": [
      "\u001B[1;31m---------------------------------------------------------------------------\u001B[0m",
      "\u001B[1;31mModuleNotFoundError\u001B[0m                       Traceback (most recent call last)",
      "Input \u001B[1;32mIn [4]\u001B[0m, in \u001B[0;36m<cell line: 3>\u001B[1;34m()\u001B[0m\n\u001B[0;32m      1\u001B[0m \u001B[38;5;66;03m# Import packages and specify general data\u001B[39;00m\n\u001B[0;32m      2\u001B[0m \u001B[38;5;28;01mimport\u001B[39;00m \u001B[38;5;21;01mnumpy\u001B[39;00m \u001B[38;5;28;01mas\u001B[39;00m \u001B[38;5;21;01mnp\u001B[39;00m\n\u001B[1;32m----> 3\u001B[0m \u001B[38;5;28;01mfrom\u001B[39;00m \u001B[38;5;21;01mfunctions\u001B[39;00m\u001B[38;5;21;01m.\u001B[39;00m\u001B[38;5;21;01mLCA\u001B[39;00m \u001B[38;5;28;01mimport\u001B[39;00m electricity_GWP\n\u001B[0;32m      5\u001B[0m source \u001B[38;5;241m=\u001B[39m \u001B[38;5;124m\"\u001B[39m\u001B[38;5;124m10.13031/aea.30.9719\u001B[39m\u001B[38;5;124m\"\u001B[39m\n\u001B[0;32m      7\u001B[0m particle_size_limits_mm_3_2mm_screen \u001B[38;5;241m=\u001B[39m (\u001B[38;5;241m15\u001B[39m, \u001B[38;5;241m18\u001B[39m)  \u001B[38;5;66;03m# [mm]\u001B[39;00m\n",
      "\u001B[1;31mModuleNotFoundError\u001B[0m: No module named 'functions'"
     ]
    }
   ],
   "source": [
    "# Import packages and specify general data\n",
    "import numpy as np\n",
    "from functions.LCA import electricity_GWP\n",
    "\n",
    "source = \"10.13031/aea.30.9719\"\n",
    "\n",
    "particle_size_limits_mm_3_2mm_screen = (15, 18)  # [mm]\n",
    "particle_size_limits_mm_6_5mm_screen = (20, 31)  # [mm]\n"
   ],
   "metadata": {
    "collapsed": false
   }
  },
  {
   "cell_type": "code",
   "execution_count": 4,
   "outputs": [
    {
     "name": "stdout",
     "output_type": "stream",
     "text": [
      "Data for finer screen:\n",
      "Mean energy consumption for 3.2 mm screen: 33.9625 kWh/tonne\n",
      "Standard deviation for 3.2 mm screen: 4.085023714741446 kWh/tonne\n",
      "Data for coarser screen:\n",
      "Mean energy consumption for 6.5 mm screen: 13.807500000000001 kWh/tonne\n",
      "Standard deviation for 6.5 mm screen: 0.23752631433169674 kWh/tonne\n"
     ]
    }
   ],
   "source": [
    "# Specify milling data for 2 different screen sizes resulting in the above specified particle sizes post milling\n",
    "\n",
    "# Define data from reference\n",
    "energy_mill_3_2mm_screen = [38.58, 32.26, 36.88, 28.13]  # [kWh/tonne]\n",
    "energy_mill_6_5mm_screen = [14.07, 13.67, 13.49, 14.00]  # [kWh/tonne]\n",
    "\n",
    "# Calculate mean and std\n",
    "mean_energy_mill_3_2mm_screen = np.mean(energy_mill_3_2mm_screen)  # [kWh/tonne]\n",
    "mean_energy_mill_6_5mm_screen = np.mean(energy_mill_6_5mm_screen)  # [kWh/tonne]\n",
    "std_energy_mill_3_2mm_screen = np.std(energy_mill_3_2mm_screen)  # [kWh/tonne]\n",
    "std_energy_mill_6_5mm_screen = np.std(energy_mill_6_5mm_screen)  # [kWh/tonne]\n",
    "\n",
    "print(\"Data for finer screen:\")\n",
    "print(\"Mean energy consumption for 3.2 mm screen:\", mean_energy_mill_3_2mm_screen, \"kWh/tonne\")\n",
    "print(\"Standard deviation for 3.2 mm screen:\", std_energy_mill_3_2mm_screen, \"kWh/tonne\")\n",
    "\n",
    "print(\"Data for coarser screen:\")\n",
    "print(\"Mean energy consumption for 6.5 mm screen:\",mean_energy_mill_6_5mm_screen, \"kWh/tonne\")\n",
    "print(\"Standard deviation for 6.5 mm screen:\", std_energy_mill_6_5mm_screen, \"kWh/tonne\")"
   ],
   "metadata": {
    "collapsed": false
   }
  },
  {
   "cell_type": "code",
   "execution_count": 5,
   "outputs": [
    {
     "name": "stdout",
     "output_type": "stream",
     "text": [
      "Data for finer particles:\n",
      "Mean energy consumption for 15-18 mm particle size resulting from 3.2 mm screen: 109.9225 kWh/tonne\n",
      "Standard deviation for 15-18 mm particle size resulting from 3.2 mm screen: 11.901861986680908 kWh/tonne\n",
      "Data for larger particles:\n",
      "Mean energy consumption for 20-31 mm particle size resulting from 6.5 mm screen: 140.74 kWh/tonne\n",
      "Standard deviation for 20-31 mm particle size resulting from 6.5 mm screen: 30.889227086477902 kWh/tonne\n"
     ]
    }
   ],
   "source": [
    "# Specify pelleting data for 2 different particle size ranges resulting from the above specified milling process'\n",
    "\n",
    "# Define data from reference\n",
    "energy_pelleting_15_18_mm_particle_size = [122.86, 92.80, 118.99, 105.04]  # [kWh/tonne] (i.e. resulting from 3.2 mm milling screen)\n",
    "energy_pelleting_20_31_mm_particle_size = [122.59, 99.42, 168.08, 172.87]  # [kWh/tonne] (i.e. resulting from 6.5 mm milling screen)\n",
    "\n",
    "# Calculate mean and std\n",
    "mean_energy_pelleting_15_18_mm_particle_size = np.mean(energy_pelleting_15_18_mm_particle_size)  # [kWh/tonne]\n",
    "mean_energy_pelleting_20_31_mm_particle_size = np.mean(energy_pelleting_20_31_mm_particle_size)  # [kWh/tonne]\n",
    "std_energy_pelleting_15_18_mm_particle_size = np.std(energy_pelleting_15_18_mm_particle_size)  # [kWh/tonne]\n",
    "std_energy_pelleting_20_31_mm_particle_size = np.std(energy_pelleting_20_31_mm_particle_size)  # [kWh/tonne]\n",
    "\n",
    "print(\"Data for finer particles:\")\n",
    "print(\"Mean energy consumption for 15-18 mm particle size resulting from 3.2 mm screen:\", mean_energy_pelleting_15_18_mm_particle_size, \"kWh/tonne\")\n",
    "print(\"Standard deviation for 15-18 mm particle size resulting from 3.2 mm screen:\", std_energy_pelleting_15_18_mm_particle_size, \"kWh/tonne\")\n",
    "\n",
    "print(\"Data for larger particles:\")\n",
    "print(\"Mean energy consumption for 20-31 mm particle size resulting from 6.5 mm screen:\", mean_energy_pelleting_20_31_mm_particle_size, \"kWh/tonne\")\n",
    "print(\"Standard deviation for 20-31 mm particle size resulting from 6.5 mm screen:\", std_energy_pelleting_20_31_mm_particle_size, \"kWh/tonne\")\n"
   ],
   "metadata": {
    "collapsed": false
   }
  },
  {
   "cell_type": "code",
   "execution_count": 6,
   "outputs": [
    {
     "name": "stdout",
     "output_type": "stream",
     "text": [
      "Example GWP milling: 7.211257624999999 kg CO2eq./tonne\n",
      "Example GWP pelleting: 23.339844425 kg CO2eq./tonne\n"
     ]
    }
   ],
   "source": [
    "# Check GWP\n",
    "print(\"Example GWP milling:\", electricity_GWP(mean_energy_mill_3_2mm_screen), \"kg CO2eq./tonne\")\n",
    "print(\"Example GWP pelleting:\", electricity_GWP(mean_energy_pelleting_15_18_mm_particle_size), \"kg CO2eq./tonne\")\n"
   ],
   "metadata": {
    "collapsed": false
   }
  },
  {
   "cell_type": "markdown",
   "source": [
    "# Conclusions\n",
    "- Good and detailed reference data.\n",
    "- Milling process only produces particle sizes in the range from 15-31mm.\n",
    "- Could add a finer milling process from different source\n",
    "- Generally energy requirement and resulting emission due to milling and pelleting are low compared to other processes."
   ],
   "metadata": {
    "collapsed": false
   }
  }
 ],
 "metadata": {
  "kernelspec": {
   "display_name": "Python 3",
   "language": "python",
   "name": "python3"
  },
  "language_info": {
   "codemirror_mode": {
    "name": "ipython",
    "version": 2
   },
   "file_extension": ".py",
   "mimetype": "text/x-python",
   "name": "python",
   "nbconvert_exporter": "python",
   "pygments_lexer": "ipython2",
   "version": "2.7.6"
  }
 },
 "nbformat": 4,
 "nbformat_minor": 0
}

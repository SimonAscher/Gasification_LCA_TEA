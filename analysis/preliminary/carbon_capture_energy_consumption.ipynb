{
 "cells": [
  {
   "cell_type": "markdown",
   "metadata": {},
   "source": [
    "# Analysis on the Energy consumption of different carbon capture methods"
   ]
  },
  {
   "cell_type": "code",
   "execution_count": 11,
   "outputs": [
    {
     "name": "stdout",
     "output_type": "stream",
     "text": [
      "['C:\\\\Program Files\\\\JetBrains\\\\PyCharm 2022.2\\\\plugins\\\\python\\\\helpers-pro\\\\jupyter_debug', 'C:\\\\Program Files\\\\JetBrains\\\\PyCharm 2022.2\\\\plugins\\\\python\\\\helpers\\\\pydev', 'C:\\\\Users\\\\2270577A\\\\PycharmProjects\\\\PhD_LCA_TEA\\\\analysis\\\\preliminary', 'C:\\\\Users\\\\2270577A\\\\Anaconda3\\\\envs\\\\PhD_LCA_TEA\\\\python310.zip', 'C:\\\\Users\\\\2270577A\\\\Anaconda3\\\\envs\\\\PhD_LCA_TEA\\\\DLLs', 'C:\\\\Users\\\\2270577A\\\\Anaconda3\\\\envs\\\\PhD_LCA_TEA\\\\lib', 'C:\\\\Users\\\\2270577A\\\\Anaconda3\\\\envs\\\\PhD_LCA_TEA', '', 'C:\\\\Users\\\\2270577A\\\\Anaconda3\\\\envs\\\\PhD_LCA_TEA\\\\lib\\\\site-packages', 'C:\\\\Users\\\\2270577A\\\\Anaconda3\\\\envs\\\\PhD_LCA_TEA\\\\lib\\\\site-packages\\\\win32', 'C:\\\\Users\\\\2270577A\\\\Anaconda3\\\\envs\\\\PhD_LCA_TEA\\\\lib\\\\site-packages\\\\win32\\\\lib', 'C:\\\\Users\\\\2270577A\\\\Anaconda3\\\\envs\\\\PhD_LCA_TEA\\\\lib\\\\site-packages\\\\Pythonwin']\n"
     ]
    }
   ],
   "source": [
    "# TODO: IMPORTS IN JUPYTER STOPPED WORKING - SEE BELOW - WHY IS THIS THE CASE?\n",
    "# check path\n",
    "print(sys.path)"
   ],
   "metadata": {
    "collapsed": false
   }
  },
  {
   "cell_type": "code",
   "execution_count": 10,
   "metadata": {
    "collapsed": false,
    "jupyter": {
     "outputs_hidden": false
    }
   },
   "outputs": [
    {
     "ename": "ModuleNotFoundError",
     "evalue": "No module named 'functions'",
     "output_type": "error",
     "traceback": [
      "\u001B[1;31m---------------------------------------------------------------------------\u001B[0m",
      "\u001B[1;31mModuleNotFoundError\u001B[0m                       Traceback (most recent call last)",
      "Input \u001B[1;32mIn [10]\u001B[0m, in \u001B[0;36m<cell line: 4>\u001B[1;34m()\u001B[0m\n\u001B[0;32m      2\u001B[0m \u001B[38;5;28;01mimport\u001B[39;00m \u001B[38;5;21;01mmatplotlib\u001B[39;00m\u001B[38;5;21;01m.\u001B[39;00m\u001B[38;5;21;01mpyplot\u001B[39;00m \u001B[38;5;28;01mas\u001B[39;00m \u001B[38;5;21;01mplt\u001B[39;00m\n\u001B[0;32m      3\u001B[0m \u001B[38;5;28;01mimport\u001B[39;00m \u001B[38;5;21;01mnumpy\u001B[39;00m \u001B[38;5;28;01mas\u001B[39;00m \u001B[38;5;21;01mnp\u001B[39;00m\n\u001B[1;32m----> 4\u001B[0m \u001B[38;5;28;01mfrom\u001B[39;00m \u001B[38;5;21;01mfunctions\u001B[39;00m\u001B[38;5;21;01m.\u001B[39;00m\u001B[38;5;21;01mgeneral\u001B[39;00m\u001B[38;5;21;01m.\u001B[39;00m\u001B[38;5;21;01mutility\u001B[39;00m \u001B[38;5;28;01mimport\u001B[39;00m kJ_to_kWh, MJ_to_kWh\n\u001B[0;32m      5\u001B[0m \u001B[38;5;28;01mfrom\u001B[39;00m \u001B[38;5;21;01mconfigs\u001B[39;00m \u001B[38;5;28;01mimport\u001B[39;00m gaussian, triangular\n\u001B[0;32m      6\u001B[0m \u001B[38;5;28;01mfrom\u001B[39;00m \u001B[38;5;21;01mfunctions\u001B[39;00m\u001B[38;5;21;01m.\u001B[39;00m\u001B[38;5;21;01mMC\u001B[39;00m \u001B[38;5;28;01mimport\u001B[39;00m make_dist\n",
      "\u001B[1;31mModuleNotFoundError\u001B[0m: No module named 'functions'"
     ]
    }
   ],
   "source": [
    "# Import required packages\n",
    "import matplotlib.pyplot as plt\n",
    "import numpy as np\n",
    "from functions.general.utility import kJ_to_kWh, MJ_to_kWh\n",
    "from configs import gaussian, triangular\n",
    "from functions.MC import make_dist\n"
   ]
  },
  {
   "cell_type": "code",
   "execution_count": null,
   "metadata": {
    "collapsed": false,
    "jupyter": {
     "outputs_hidden": false
    }
   },
   "outputs": [],
   "source": [
    "# Option A: Vacuum Pressure Swing Adsorption (VPSA) (Pre-Comb)\n",
    "process_name_A = \"Pre combustion VPSA\"\n",
    "recovery_rate_A = 87.3  # [%] on a syngas basis\n",
    "recovery_rate_A = recovery_rate_A / 100 # decimals\n",
    "electricity_consumption_A = np.array([0.986, 0.698])  # [MJ/ kg CO2] when including/excluding CO2 compression\n",
    "heat_consumption_A = 0.51  # [MJ/ kg CO2]\n",
    "source_A = \"http://dx.doi.org/10.1016/j.ijggc.2015.01.008\"\n"
   ]
  },
  {
   "cell_type": "code",
   "execution_count": null,
   "metadata": {
    "collapsed": false,
    "jupyter": {
     "outputs_hidden": false
    }
   },
   "outputs": [],
   "source": [
    "# Option B: Amine-based Carbon Capture (Post-Comb)\n",
    "process_name_B = \"Post Combustion Amine Capture\"\n",
    "recovery_rate_B = 90  # [%] on a flue gas basis\n",
    "recovery_rate_B = recovery_rate_B / 100 # decimals\n",
    "electricity_consumption_B = np.array([0.324, 0.324, 0.324, 0.504, 0.492, 0.392, 0.402, 0.324, 0.325, 0.52, 1.02, 0.05])  # [MJ/ kg CO2]\n",
    "heat_consumption_B = np.array([3.52, 3.11, 3.53, 2.62, 2.41, 2.76, 3.17, 3.1, 3.09, 2.22, 2.32, 3.5])  # [MJ/ kg CO2]\n",
    "source_B = [\"http://dx.doi.org/10.1016/j.ijggc.2013.03.002\", \"http://dx.doi.org/10.1016/j.ijggc.2015.01.008\"]\n",
    "\n",
    "# COMMENTS:\n",
    "# - Ref 1 - relates to first 10 data points\n",
    "# - Ref 2 - relates to the final 2 data points\n",
    "# - recovery rate based on Ref 2\n",
    "# - Electricity consumption calculated from Table 2 of Ref 1 for the first 10 data points\n",
    "\n"
   ]
  },
  {
   "cell_type": "code",
   "execution_count": null,
   "metadata": {
    "collapsed": false,
    "jupyter": {
     "outputs_hidden": false
    }
   },
   "outputs": [],
   "source": [
    "# Option C: Vacuum Pressure Swing Adsorption (VPSA) (Post-Comb)\n",
    "process_name_C = \"Post combustion VPSA\"\n",
    "recovery_rate_C = np.array([90.9, 93.4, 97.9, 74.4, 80.7, 91.3, 80, 91.1, 80.6, 93.3])  # [%] on a flue gas basis\n",
    "recovery_rate_C = recovery_rate_C / 100 # decimals\n",
    "electricity_consumption_C = np.array([0.8229, 0.5284, 0.594, 0.7236, 0.8293, 0.756, 0.5132, 0.6457, 0.5244, 0.4981])  # [MJ/ kg CO2]\n",
    "heat_consumption_C = 0  # [MJ/ kg CO2]\n",
    "source_C = \"http://dx.doi.org/10.1016/j.jece.2017.07.029\"\n",
    "\n",
    "# COMMENTS:\n",
    "# - Data taken from Table 6\n"
   ]
  },
  {
   "cell_type": "markdown",
   "metadata": {},
   "source": [
    "# Option A - Vacuum Pressure Swing Adsorption (VPSA) (Pre-Comb)"
   ]
  },
  {
   "cell_type": "code",
   "execution_count": null,
   "metadata": {
    "collapsed": false,
    "jupyter": {
     "outputs_hidden": false
    }
   },
   "outputs": [],
   "source": [
    "# Create model\n",
    "def carbon_capture_VPSA_pre_comb():\n",
    "\n",
    "    # Define required data\n",
    "    recovery_mean = 0.873  # as decimal on a syngas basis\n",
    "    recovery_std = recovery_mean * 0.1  # use an estimated std of 10%\n",
    "\n",
    "    electricity_consumption_mean = 0.986  # [MJ/ kg CO2]\n",
    "    electricity_consumption_std = electricity_consumption_mean * 0.1 # [MJ/ kg CO2] use an estimated std of 10%\n",
    "\n",
    "    heat_consumption_mean = 0.51  # [MJ/ kg CO2]\n",
    "    heat_consumption_std = heat_consumption_mean * 0.1 # [MJ/ kg CO2] use an estimated std of 10%\n",
    "\n",
    "    # Calculate outputs\n",
    "    recovery_out = np.random.normal(recovery_mean, recovery_std)  # decimal\n",
    "    electricity_out = np.random.normal(electricity_consumption_mean, electricity_consumption_std)  # [MJ/ kg CO2]\n",
    "    heat_out = np.random.normal(heat_consumption_mean, heat_consumption_std)  # [MJ/ kg CO2]\n",
    "\n",
    "    return {\"Recovery\": recovery_out, \"Electricity consumption\": electricity_out, \"Heat consumption\": heat_out}\n"
   ]
  },
  {
   "cell_type": "code",
   "execution_count": null,
   "metadata": {
    "collapsed": false,
    "jupyter": {
     "outputs_hidden": false
    }
   },
   "outputs": [],
   "source": [
    "# Test model\n",
    "carbon_capture_VPSA_pre_comb()"
   ]
  },
  {
   "cell_type": "markdown",
   "metadata": {},
   "source": [
    "# Option B - Amine-based Carbon Capture (Post-Comb)"
   ]
  },
  {
   "cell_type": "code",
   "execution_count": null,
   "metadata": {
    "collapsed": false,
    "jupyter": {
     "outputs_hidden": false
    }
   },
   "outputs": [],
   "source": [
    "# Look at trends in data\n",
    "plt.scatter(np.arange(len(electricity_consumption_B)), electricity_consumption_B, label=\"Electricity consumption\")\n",
    "plt.scatter(np.arange(len(heat_consumption_B)), heat_consumption_B, label=\"Heat consumption\")\n",
    "total_consumption_B = electricity_consumption_B + heat_consumption_B\n",
    "plt.scatter(np.arange(len(heat_consumption_B)), total_consumption_B, label=\"Sum\")\n",
    "plt.xlabel(\"Samples\")\n",
    "plt.ylabel(\"Energy consumption [MJ/ kg CO2 removed]\")\n",
    "plt.legend()\n",
    "plt.show()"
   ]
  },
  {
   "cell_type": "markdown",
   "metadata": {},
   "source": [
    "A somewhat inverse relationship can be identified between electricity and heat consumption. The last two points from a different study don't quite fit in as well as the rest of the data.\n"
   ]
  },
  {
   "cell_type": "code",
   "execution_count": null,
   "metadata": {
    "collapsed": false,
    "jupyter": {
     "outputs_hidden": false
    }
   },
   "outputs": [],
   "source": [
    "# Show fractions of electricity consumption related to complete consumption\n",
    "electricity_fraction_B = electricity_consumption_B/total_consumption_B\n",
    "print(electricity_fraction_B)"
   ]
  },
  {
   "cell_type": "code",
   "execution_count": null,
   "metadata": {
    "collapsed": false,
    "jupyter": {
     "outputs_hidden": false
    }
   },
   "outputs": [],
   "source": [
    "# Discard outliers\n",
    "electricity_fraction_B_clean = electricity_fraction_B[0:-2]\n",
    "print(\"Array after discarding outliers:\")\n",
    "print(electricity_fraction_B_clean)\n",
    "\n",
    "# Calculate mean ans std\n",
    "electricity_fraction_B_mean = np.mean(electricity_fraction_B_clean)\n",
    "electricity_fraction_B_std = np.std(electricity_fraction_B_clean)\n",
    "\n",
    "print(\"Fraction of electricity consumption compared to total energy consumption:\")\n",
    "print(\"Mean:\", electricity_fraction_B_mean)\n",
    "print(\"Std:\", electricity_fraction_B_std)\n"
   ]
  },
  {
   "cell_type": "code",
   "execution_count": null,
   "metadata": {
    "collapsed": false,
    "jupyter": {
     "outputs_hidden": false
    }
   },
   "outputs": [],
   "source": [
    "# Calculate mean and std of total consumption\n",
    "total_consumption_B_mean = np.mean(total_consumption_B)\n",
    "total_consumption_B_std = np.std(total_consumption_B)\n",
    "print(\"Total energy consumption:\")\n",
    "print(\"Mean:\", total_consumption_B_mean)\n",
    "print(\"Std:\", total_consumption_B_std)\n"
   ]
  },
  {
   "cell_type": "code",
   "execution_count": null,
   "metadata": {
    "collapsed": false,
    "jupyter": {
     "outputs_hidden": false
    }
   },
   "outputs": [],
   "source": [
    "# Create model\n",
    "def carbon_capture_amine_post_comb():\n",
    "\n",
    "    # Define required data\n",
    "    recovery_mean = 0.90  # as decimal on a flue gas basis\n",
    "    recovery_std = recovery_mean * 0.1  # use an estimated std of 10%\n",
    "\n",
    "    total_consumption_mean = 3.36  # [MJ/ kg CO2]\n",
    "    total_consumption_std = 0.32  # [MJ/ kg CO2]\n",
    "    total_consumption = np.random.normal(total_consumption_mean, total_consumption_std)\n",
    "\n",
    "    electricity_fraction = np.random.normal(0.121, 0.037)\n",
    "    heat_fraction = 1-electricity_fraction\n",
    "\n",
    "    # Calculate outputs\n",
    "    recovery_out = np.random.normal(recovery_mean, recovery_std)  # decimal\n",
    "    electricity_out = total_consumption * electricity_fraction  # [MJ/ kg CO2]\n",
    "    heat_out = total_consumption * heat_fraction  # [MJ/ kg CO2]\n",
    "\n",
    "    return {\"Recovery\": recovery_out, \"Electricity consumption\": electricity_out, \"Heat consumption\": heat_out}\n"
   ]
  },
  {
   "cell_type": "code",
   "execution_count": null,
   "metadata": {
    "collapsed": false,
    "jupyter": {
     "outputs_hidden": false
    }
   },
   "outputs": [],
   "source": [
    "# Test final function\n",
    "carbon_capture_amine_post_comb()"
   ]
  },
  {
   "cell_type": "markdown",
   "metadata": {},
   "source": [
    "# Option C - Vacuum Pressure Swing Adsorption (VPSA) (Post-Comb)\n"
   ]
  },
  {
   "cell_type": "code",
   "execution_count": null,
   "metadata": {
    "collapsed": false,
    "jupyter": {
     "outputs_hidden": false
    }
   },
   "outputs": [],
   "source": [
    "# Calculate mean and std\n",
    "electricity_consumption_C_mean = np.mean(electricity_consumption_C)\n",
    "electricity_consumption_C_std = np.std(electricity_consumption_C)\n",
    "recovery_rate_C_mean = np.mean(recovery_rate_C)\n",
    "recovery_rate_C_std = np.std(recovery_rate_C)\n",
    "\n",
    "print(\"Electricity consumption:\")\n",
    "print(\"Mean:\", electricity_consumption_C_mean)\n",
    "print(\"Std:\", electricity_consumption_C_std)\n",
    "\n",
    "print(\"Recovery rate:\")\n",
    "print(\"Mean:\", recovery_rate_C_mean)\n",
    "print(\"Std:\", recovery_rate_C_std)"
   ]
  },
  {
   "cell_type": "code",
   "execution_count": null,
   "metadata": {
    "collapsed": false,
    "jupyter": {
     "outputs_hidden": false
    }
   },
   "outputs": [],
   "source": [
    "# Show electricity consumption distribution\n",
    "plt.scatter(np.arange(len(electricity_consumption_C)), np.sort(electricity_consumption_C))\n",
    "plt.xlabel(\"Samples\")\n",
    "plt.ylabel(\"Energy consumption [MJ/ kg CO2 removed]\")\n",
    "plt.show()"
   ]
  },
  {
   "cell_type": "code",
   "execution_count": null,
   "metadata": {
    "collapsed": false,
    "jupyter": {
     "outputs_hidden": false
    }
   },
   "outputs": [],
   "source": [
    "# Show recovery distribution\n",
    "plt.scatter(np.arange(len(recovery_rate_C)), np.sort(recovery_rate_C))\n",
    "plt.xlabel(\"Samples\")\n",
    "plt.ylabel(\"Recovery\")\n",
    "plt.show()"
   ]
  },
  {
   "cell_type": "code",
   "execution_count": null,
   "metadata": {
    "collapsed": false,
    "jupyter": {
     "outputs_hidden": false
    }
   },
   "outputs": [],
   "source": [
    "# Create model\n",
    "def carbon_capture_VPSA_post_comb():\n",
    "\n",
    "    # Define required data\n",
    "    recovery_mean = 0.874  # as decimal on a flue gas basis\n",
    "    recovery_std = 0.073\n",
    "\n",
    "    electricity_consumption_mean = 0.644  # [MJ/ kg CO2]\n",
    "    electricity_consumption_std = 0.124  # [MJ/ kg CO2]\n",
    "    electricity_consumption = np.random.normal(electricity_consumption_mean, electricity_consumption_std)\n",
    "\n",
    "    heat_consumption = 0  # no heat required\n",
    "\n",
    "    # Calculate outputs\n",
    "    recovery_out = np.random.normal(recovery_mean, recovery_std)  # decimal\n",
    "    electricity_out = np.random.normal(electricity_consumption_mean, electricity_consumption_std)  # [MJ/ kg CO2]\n",
    "    heat_out = heat_consumption  # [MJ/ kg CO2]\n",
    "\n",
    "    return {\"Recovery\": recovery_out, \"Electricity consumption\": electricity_out, \"Heat consumption\": heat_out}\n"
   ]
  },
  {
   "cell_type": "code",
   "execution_count": null,
   "metadata": {
    "collapsed": false,
    "jupyter": {
     "outputs_hidden": false
    }
   },
   "outputs": [],
   "source": [
    "# Test model\n",
    "carbon_capture_VPSA_post_comb()"
   ]
  },
  {
   "cell_type": "markdown",
   "metadata": {},
   "source": [
    "# Sensibility check - using data from Option C"
   ]
  },
  {
   "cell_type": "code",
   "execution_count": null,
   "metadata": {
    "collapsed": false,
    "jupyter": {
     "outputs_hidden": false
    }
   },
   "outputs": [],
   "source": [
    "\n",
    "energy_consumptions = MJ_to_kWh(electricity_consumption_C) # [kWh/kg CO2]\n",
    "recovery = recovery_rate_C\n",
    "\n",
    "# Calculate mean and std\n",
    "energy_consumption_mean = np.mean(energy_consumptions)\n",
    "energy_consumption_std = np.std(energy_consumptions)\n",
    "recovery_mean = np.mean(recovery)\n",
    "recovery_std = np.std(recovery)\n"
   ]
  },
  {
   "cell_type": "code",
   "execution_count": null,
   "metadata": {
    "collapsed": false,
    "jupyter": {
     "outputs_hidden": false
    }
   },
   "outputs": [],
   "source": [
    "# Create distribution to generate histograms\n",
    "energy_consumption_distribution = make_dist(gaussian(energy_consumption_mean, energy_consumption_std))\n",
    "recovery_distribution = make_dist(triangular(lower=min(recovery), mode=recovery_mean, upper=max(recovery)))\n"
   ]
  },
  {
   "cell_type": "markdown",
   "metadata": {},
   "source": []
  },
  {
   "cell_type": "code",
   "execution_count": null,
   "metadata": {
    "collapsed": false,
    "jupyter": {
     "outputs_hidden": false
    }
   },
   "outputs": [],
   "source": [
    "print(\"energy consumption\")\n",
    "plt.figure()\n",
    "histogram = plt.hist(energy_consumption_distribution,20)\n",
    "plt.xlabel(\"Energy consumption [kWh/kg CO2]\")\n",
    "plt.ylabel(\"Frequency\")\n",
    "plt.show()"
   ]
  },
  {
   "cell_type": "code",
   "execution_count": null,
   "metadata": {
    "collapsed": false,
    "jupyter": {
     "outputs_hidden": false
    }
   },
   "outputs": [],
   "source": [
    "print(\"Gas carbon recovery\")\n",
    "plt.figure()\n",
    "histogram = plt.hist(recovery_distribution,20)\n",
    "plt.xlabel(\"Carbon recovery\")\n",
    "plt.ylabel(\"Frequency\")\n",
    "plt.show()"
   ]
  },
  {
   "cell_type": "code",
   "execution_count": null,
   "metadata": {
    "collapsed": false,
    "jupyter": {
     "outputs_hidden": false
    }
   },
   "outputs": [],
   "source": [
    "# Sensibility check of data\n",
    "from processes.syngas_combustion import syngas_combustion_GWP_MC\n",
    "from functions.LCA import electricity_GWP\n",
    "\n",
    "# Calculate GWPs of syngas combustion\n",
    "GWP_results = syngas_combustion_GWP_MC()\n",
    "\n",
    "# Replace GWP results with approximated average GWP from biogenic and non-biogenic sources\n",
    "GWP_simplified = 1800  # kg CO2/FU\n",
    "\n",
    "neg_emissions = - GWP_simplified * recovery_mean  # kg CO2/FU\n",
    "energy_req_emissions = electricity_GWP(energy_consumption_mean * GWP_simplified)\n",
    "\n",
    "# Get current approximate avoided emissions due to electricity substitution - as used in the model right now.\n",
    "GWP_avoided_elect_emissions= 180  # kg CO2/FU"
   ]
  },
  {
   "cell_type": "code",
   "execution_count": null,
   "metadata": {
    "collapsed": false,
    "jupyter": {
     "outputs_hidden": false
    }
   },
   "outputs": [],
   "source": [
    "print(\"Avoided emissions from incorporating carbon capture:\", neg_emissions, \"kg CO2/ FU\")\n",
    "print(\"Emission penalty due to increased energy consumption:\", energy_req_emissions, \"kg CO2/ FU\")\n",
    "print(\"Percentage emission from additional energy requirements vs avoided emissions due to capture:\",-energy_req_emissions/neg_emissions * 100, \"%\")\n",
    "print(\"Percentage emission from additional energy requirements vs previous avoided emissions:\",energy_req_emissions/GWP_avoided_elect_emissions * 100, \"%\")\n"
   ]
  },
  {
   "cell_type": "markdown",
   "metadata": {},
   "source": [
    "# Summary\n",
    "- Results are promising.\n",
    "- Looks like avoided emission from electricity substitution would be decreased by 40% - i.e. 40% less electricity available for export.\n",
    "- Emissions due to increased electricity usage are 5% of emissions that could be avoided due to CC."
   ]
  }
 ],
 "metadata": {
  "kernelspec": {
   "display_name": "Python 3 (ipykernel)",
   "language": "python",
   "name": "python3"
  },
  "language_info": {
   "codemirror_mode": {
    "name": "ipython",
    "version": 3
   },
   "file_extension": ".py",
   "mimetype": "text/x-python",
   "name": "python",
   "nbconvert_exporter": "python",
   "pygments_lexer": "ipython3",
   "version": "3.8.13"
  }
 },
 "nbformat": 4,
 "nbformat_minor": 4
}

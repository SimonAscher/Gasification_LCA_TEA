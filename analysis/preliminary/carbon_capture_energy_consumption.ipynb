{
 "cells": [
  {
   "cell_type": "markdown",
   "source": [
    "# Analysis on the Energy consumption of different carbon capture methods"
   ],
   "metadata": {
    "collapsed": false
   }
  },
  {
   "cell_type": "code",
   "execution_count": 54,
   "outputs": [],
   "source": [
    "# Import required packages\n",
    "import matplotlib.pyplot as plt\n",
    "import numpy as np\n",
    "from functions.general.utility import kJ_to_kWh, MJ_to_kWh\n",
    "from configs import gaussian, triangular\n",
    "from functions.MC import make_dist\n"
   ],
   "metadata": {
    "collapsed": false
   }
  },
  {
   "cell_type": "code",
   "execution_count": 55,
   "outputs": [],
   "source": [
    "# Option A: Vacuum Pressure Swing Adsorption (VPSA) (Pre-Comb)\n",
    "process_name_A = \"Pre combustion VPSA\"\n",
    "recovery_rate_A = 87.3  # [%] on a syngas basis\n",
    "recovery_rate_A = recovery_rate_A / 100 # decimals\n",
    "electricity_consumption_A = np.array([0.986, 0.698])  # [MJ/ kg CO2] when including/excluding CO2 compression\n",
    "heat_consumption_A = 0.51  # [MJ/ kg CO2]\n",
    "source_A = \"http://dx.doi.org/10.1016/j.ijggc.2015.01.008\"\n"
   ],
   "metadata": {
    "collapsed": false
   }
  },
  {
   "cell_type": "code",
   "execution_count": 56,
   "outputs": [],
   "source": [
    "# Option B: Amine-based Carbon Capture (Post-Comb)\n",
    "process_name_B = \"Post Combustion Amine Capture\"\n",
    "recovery_rate_B = 90  # [%] on a flue gas basis\n",
    "recovery_rate_B = recovery_rate_B / 100 # decimals\n",
    "electricity_consumption_B = np.array([0.324, 0.324, 0.324, 0.504, 0.492, 0.392, 0.402, 0.324, 0.325, 0.52, 1.02, 0.05])  # [MJ/ kg CO2]\n",
    "heat_consumption_B = np.array([3.52, 3.11, 3.53, 2.62, 2.41, 2.76, 3.17, 3.1, 3.09, 2.22, 2.32, 3.5])  # [MJ/ kg CO2]\n",
    "source_B = [\"http://dx.doi.org/10.1016/j.ijggc.2013.03.002\", \"http://dx.doi.org/10.1016/j.ijggc.2015.01.008\"]\n",
    "\n",
    "# COMMENTS:\n",
    "# - Ref 1 - relates to first 10 data points\n",
    "# - Ref 2 - relates to the final 2 data points\n",
    "# - recovery rate based on Ref 2\n",
    "# - Electricity consumption calculated from Table 2 of Ref 1 for the first 10 data points\n",
    "\n"
   ],
   "metadata": {
    "collapsed": false
   }
  },
  {
   "cell_type": "code",
   "execution_count": 57,
   "outputs": [],
   "source": [
    "# Option C: Vacuum Pressure Swing Adsorption (VPSA) (Post-Comb)\n",
    "process_name_C = \"Post combustion VPSA\"\n",
    "recovery_rate_C = np.array([90.9, 93.4, 97.9, 74.4, 80.7, 91.3, 80, 91.1, 80.6, 93.3])  # [%] on a flue gas basis\n",
    "recovery_rate_C = recovery_rate_C / 100 # decimals\n",
    "electricity_consumption_C = np.array([0.8229, 0.5284, 0.594, 0.7236, 0.8293, 0.756, 0.5132, 0.6457, 0.5244, 0.4981])  # [MJ/ kg CO2]\n",
    "heat_consumption_C = 0  # [MJ/ kg CO2]\n",
    "source_C = \"http://dx.doi.org/10.1016/j.jece.2017.07.029\"\n",
    "\n",
    "# COMMENTS:\n",
    "# - Data taken from Table 6\n"
   ],
   "metadata": {
    "collapsed": false
   }
  },
  {
   "cell_type": "markdown",
   "source": [
    "# Option A - Vacuum Pressure Swing Adsorption (VPSA) (Pre-Comb)"
   ],
   "metadata": {
    "collapsed": false
   }
  },
  {
   "cell_type": "code",
   "execution_count": 58,
   "outputs": [],
   "source": [
    "# Create model\n",
    "def carbon_capture_VPSA_pre_comb():\n",
    "\n",
    "    # Define required data\n",
    "    recovery_mean = 0.873  # as decimal on a syngas basis\n",
    "    recovery_std = recovery_mean * 0.1  # use an estimated std of 10%\n",
    "\n",
    "    electricity_consumption_mean = 0.986  # [MJ/ kg CO2]\n",
    "    electricity_consumption_std = electricity_consumption_mean * 0.1 # [MJ/ kg CO2] use an estimated std of 10%\n",
    "\n",
    "    heat_consumption_mean = 0.51  # [MJ/ kg CO2]\n",
    "    heat_consumption_std = heat_consumption_mean * 0.1 # [MJ/ kg CO2] use an estimated std of 10%\n",
    "\n",
    "    # Calculate outputs\n",
    "    recovery_out = np.random.normal(recovery_mean, recovery_std)  # decimal\n",
    "    electricity_out = np.random.normal(electricity_consumption_mean, electricity_consumption_std)  # [MJ/ kg CO2]\n",
    "    heat_out = np.random.normal(heat_consumption_mean, heat_consumption_std)  # [MJ/ kg CO2]\n",
    "\n",
    "    return {\"Recovery\": recovery_out, \"Electricity consumption\": electricity_out, \"Heat consumption\": heat_out}\n"
   ],
   "metadata": {
    "collapsed": false
   }
  },
  {
   "cell_type": "code",
   "execution_count": 59,
   "outputs": [
    {
     "data": {
      "text/plain": "{'Recovery': 0.8569645229797429,\n 'Electricity consumption': 0.998928058008495,\n 'Heat consumption': 0.4406998967006634}"
     },
     "execution_count": 59,
     "metadata": {},
     "output_type": "execute_result"
    }
   ],
   "source": [
    "# Test model\n",
    "carbon_capture_VPSA_pre_comb()"
   ],
   "metadata": {
    "collapsed": false
   }
  },
  {
   "cell_type": "markdown",
   "source": [
    "# Option B - Amine-based Carbon Capture (Post-Comb)"
   ],
   "metadata": {
    "collapsed": false
   }
  },
  {
   "cell_type": "code",
   "execution_count": 60,
   "outputs": [
    {
     "data": {
      "text/plain": "<Figure size 432x288 with 1 Axes>",
      "image/png": "[encoded data removed]"
     },
     "metadata": {
      "needs_background": "light"
     },
     "output_type": "display_data"
    }
   ],
   "source": [
    "# Look at trends in data\n",
    "plt.scatter(np.arange(len(electricity_consumption_B)), electricity_consumption_B, label=\"Electricity consumption\")\n",
    "plt.scatter(np.arange(len(heat_consumption_B)), heat_consumption_B, label=\"Heat consumption\")\n",
    "total_consumption_B = electricity_consumption_B + heat_consumption_B\n",
    "plt.scatter(np.arange(len(heat_consumption_B)), total_consumption_B, label=\"Sum\")\n",
    "plt.legend()\n",
    "plt.show()"
   ],
   "metadata": {
    "collapsed": false
   }
  },
  {
   "cell_type": "markdown",
   "source": [
    "A somewhat inverse relationship can be identified between electricity and heat consumption. The last two points from a different study don't quite fit in as well as the rest of the data.\n"
   ],
   "metadata": {
    "collapsed": false
   }
  },
  {
   "cell_type": "code",
   "execution_count": 61,
   "outputs": [
    {
     "name": "stdout",
     "output_type": "stream",
     "text": [
      "[0.0842872  0.09435061 0.0840685  0.16133163 0.16953825 0.12436548\n",
      " 0.11254199 0.09462617 0.09516837 0.18978102 0.30538922 0.01408451]\n"
     ]
    }
   ],
   "source": [
    "# Show fractions of electricity consumption related to complete consumption\n",
    "electricity_fraction_B = electricity_consumption_B/total_consumption_B\n",
    "print(electricity_fraction_B)"
   ],
   "metadata": {
    "collapsed": false
   }
  },
  {
   "cell_type": "code",
   "execution_count": 62,
   "outputs": [
    {
     "name": "stdout",
     "output_type": "stream",
     "text": [
      "Array after discarding outliers:\n",
      "[0.0842872  0.09435061 0.0840685  0.16133163 0.16953825 0.12436548\n",
      " 0.11254199 0.09462617 0.09516837 0.18978102]\n",
      "Fraction of electricity consumption compared to total energy consumption:\n",
      "Mean: 0.12100592286808227\n",
      "Std: 0.03685254640168524\n"
     ]
    }
   ],
   "source": [
    "# Discard outliers\n",
    "electricity_fraction_B_clean = electricity_fraction_B[0:-2]\n",
    "print(\"Array after discarding outliers:\")\n",
    "print(electricity_fraction_B_clean)\n",
    "\n",
    "# Calculate mean ans std\n",
    "electricity_fraction_B_mean = np.mean(electricity_fraction_B_clean)\n",
    "electricity_fraction_B_std = np.std(electricity_fraction_B_clean)\n",
    "\n",
    "print(\"Fraction of electricity consumption compared to total energy consumption:\")\n",
    "print(\"Mean:\", electricity_fraction_B_mean)\n",
    "print(\"Std:\", electricity_fraction_B_std)\n"
   ],
   "metadata": {
    "collapsed": false
   }
  },
  {
   "cell_type": "code",
   "execution_count": 63,
   "outputs": [
    {
     "name": "stdout",
     "output_type": "stream",
     "text": [
      "Total energy consumption:\n",
      "Mean: 3.3625833333333333\n",
      "Std: 0.3247276957527473\n"
     ]
    }
   ],
   "source": [
    "# Calculate mean and std of total consumption\n",
    "total_consumption_B_mean = np.mean(total_consumption_B)\n",
    "total_consumption_B_std = np.std(total_consumption_B)\n",
    "print(\"Total energy consumption:\")\n",
    "print(\"Mean:\", total_consumption_B_mean)\n",
    "print(\"Std:\", total_consumption_B_std)\n"
   ],
   "metadata": {
    "collapsed": false
   }
  },
  {
   "cell_type": "code",
   "execution_count": 64,
   "outputs": [],
   "source": [
    "# Create model\n",
    "def carbon_capture_amine_post_comb():\n",
    "\n",
    "    # Define required data\n",
    "    recovery_mean = 0.90  # as decimal on a flue gas basis\n",
    "    recovery_std = recovery_mean * 0.1  # use an estimated std of 10%\n",
    "\n",
    "    total_consumption_mean = 3.36  # [MJ/ kg CO2]\n",
    "    total_consumption_std = 0.32  # [MJ/ kg CO2]\n",
    "    total_consumption = np.random.normal(total_consumption_mean, total_consumption_std)\n",
    "\n",
    "    electricity_fraction = np.random.normal(0.121, 0.037)\n",
    "    heat_fraction = 1-electricity_fraction\n",
    "\n",
    "    # Calculate outputs\n",
    "    recovery_out = np.random.normal(recovery_mean, recovery_std)  # decimal\n",
    "    electricity_out = total_consumption * electricity_fraction  # [MJ/ kg CO2]\n",
    "    heat_out = total_consumption * heat_fraction  # [MJ/ kg CO2]\n",
    "\n",
    "    return {\"Recovery\": recovery_out, \"Electricity consumption\": electricity_out, \"Heat consumption\": heat_out}\n"
   ],
   "metadata": {
    "collapsed": false
   }
  },
  {
   "cell_type": "code",
   "execution_count": 65,
   "outputs": [
    {
     "data": {
      "text/plain": "{'Recovery': 0.8368132671752783,\n 'Electricity consumption': 0.5628243430399933,\n 'Heat consumption': 2.915830922508761}"
     },
     "execution_count": 65,
     "metadata": {},
     "output_type": "execute_result"
    }
   ],
   "source": [
    "# Test final function\n",
    "carbon_capture_amine_post_comb()"
   ],
   "metadata": {
    "collapsed": false
   }
  },
  {
   "cell_type": "markdown",
   "source": [
    "# Option C - Vacuum Pressure Swing Adsorption (VPSA) (Post-Comb)\n"
   ],
   "metadata": {
    "collapsed": false
   }
  },
  {
   "cell_type": "code",
   "execution_count": 66,
   "outputs": [
    {
     "name": "stdout",
     "output_type": "stream",
     "text": [
      "Electricity consumption:\n",
      "Mean: 0.64356\n",
      "Std: 0.1240102350614658\n",
      "Recovery rate:\n",
      "Mean: 0.8736\n",
      "Std: 0.07328601503697685\n"
     ]
    }
   ],
   "source": [
    "# Calculate mean and std\n",
    "electricity_consumption_C_mean = np.mean(electricity_consumption_C)\n",
    "electricity_consumption_C_std = np.std(electricity_consumption_C)\n",
    "recovery_rate_C_mean = np.mean(recovery_rate_C)\n",
    "recovery_rate_C_std = np.std(recovery_rate_C)\n",
    "\n",
    "print(\"Electricity consumption:\")\n",
    "print(\"Mean:\", electricity_consumption_C_mean)\n",
    "print(\"Std:\", electricity_consumption_C_std)\n",
    "\n",
    "print(\"Recovery rate:\")\n",
    "print(\"Mean:\", recovery_rate_C_mean)\n",
    "print(\"Std:\", recovery_rate_C_std)"
   ],
   "metadata": {
    "collapsed": false
   }
  },
  {
   "cell_type": "code",
   "execution_count": 67,
   "outputs": [
    {
     "data": {
      "text/plain": "<Figure size 432x288 with 1 Axes>",
      "image/png": "[encoded data removed]"
     },
     "metadata": {
      "needs_background": "light"
     },
     "output_type": "display_data"
    }
   ],
   "source": [
    "# Show electricity consumption distribution\n",
    "plt.scatter(np.arange(len(electricity_consumption_C)), np.sort(electricity_consumption_C))\n",
    "plt.show()"
   ],
   "metadata": {
    "collapsed": false
   }
  },
  {
   "cell_type": "code",
   "execution_count": 68,
   "outputs": [
    {
     "data": {
      "text/plain": "<Figure size 432x288 with 1 Axes>",
      "image/png": "[encoded data removed]"
     },
     "metadata": {
      "needs_background": "light"
     },
     "output_type": "display_data"
    }
   ],
   "source": [
    "# Show recovery distribution\n",
    "plt.scatter(np.arange(len(recovery_rate_C)), np.sort(recovery_rate_C))\n",
    "plt.show()"
   ],
   "metadata": {
    "collapsed": false
   }
  },
  {
   "cell_type": "code",
   "execution_count": 69,
   "outputs": [],
   "source": [
    "# Create model\n",
    "def carbon_capture_VPSA_post_comb():\n",
    "\n",
    "    # Define required data\n",
    "    recovery_mean = 0.874  # as decimal on a flue gas basis\n",
    "    recovery_std = 0.073\n",
    "\n",
    "    electricity_consumption_mean = 0.644  # [MJ/ kg CO2]\n",
    "    electricity_consumption_std = 0.124  # [MJ/ kg CO2]\n",
    "    electricity_consumption = np.random.normal(electricity_consumption_mean, electricity_consumption_std)\n",
    "\n",
    "    heat_consumption = 0  # no heat required\n",
    "\n",
    "    # Calculate outputs\n",
    "    recovery_out = np.random.normal(recovery_mean, recovery_std)  # decimal\n",
    "    electricity_out = np.random.normal(electricity_consumption_mean, electricity_consumption_std)  # [MJ/ kg CO2]\n",
    "    heat_out = heat_consumption  # [MJ/ kg CO2]\n",
    "\n",
    "    return {\"Recovery\": recovery_out, \"Electricity consumption\": electricity_out, \"Heat consumption\": heat_out}\n"
   ],
   "metadata": {
    "collapsed": false
   }
  },
  {
   "cell_type": "code",
   "execution_count": 70,
   "outputs": [
    {
     "data": {
      "text/plain": "{'Recovery': 0.8075569347251728,\n 'Electricity consumption': 0.6975145631041507,\n 'Heat consumption': 0}"
     },
     "execution_count": 70,
     "metadata": {},
     "output_type": "execute_result"
    }
   ],
   "source": [
    "# Test model\n",
    "carbon_capture_VPSA_post_comb()"
   ],
   "metadata": {
    "collapsed": false
   }
  },
  {
   "cell_type": "markdown",
   "source": [
    "# Sensibility check - using data from Option C"
   ],
   "metadata": {
    "collapsed": false
   }
  },
  {
   "cell_type": "code",
   "execution_count": 71,
   "outputs": [],
   "source": [
    "\n",
    "energy_consumptions = MJ_to_kWh(electricity_consumption_C) # [kWh/kg CO2]\n",
    "recovery = recovery_rate_C\n",
    "\n",
    "# Calculate mean and std\n",
    "energy_consumption_mean = np.mean(energy_consumptions)\n",
    "energy_consumption_std = np.std(energy_consumptions)\n",
    "recovery_mean = np.mean(recovery)\n",
    "recovery_std = np.std(recovery)\n"
   ],
   "metadata": {
    "collapsed": false
   }
  },
  {
   "cell_type": "code",
   "execution_count": 72,
   "outputs": [],
   "source": [
    "# Create distribution to generate histograms\n",
    "energy_consumption_distribution = make_dist(gaussian(energy_consumption_mean, energy_consumption_std))\n",
    "recovery_distribution = make_dist(triangular(lower=min(recovery), mode=recovery_mean, upper=max(recovery)))\n"
   ],
   "metadata": {
    "collapsed": false
   }
  },
  {
   "cell_type": "markdown",
   "source": [],
   "metadata": {
    "collapsed": false
   }
  },
  {
   "cell_type": "code",
   "execution_count": 73,
   "outputs": [
    {
     "name": "stdout",
     "output_type": "stream",
     "text": [
      "energy consumption\n"
     ]
    },
    {
     "data": {
      "text/plain": "<Figure size 432x288 with 1 Axes>",
      "image/png": "[encoded data removed]"
     },
     "metadata": {
      "needs_background": "light"
     },
     "output_type": "display_data"
    }
   ],
   "source": [
    "print(\"energy consumption\")\n",
    "plt.figure()\n",
    "histogram = plt.hist(energy_consumption_distribution,20)\n",
    "plt.xlabel(\"Energy consumption [kWh/kg CO2]\")\n",
    "plt.ylabel(\"Frequency\")\n",
    "plt.show()"
   ],
   "metadata": {
    "collapsed": false
   }
  },
  {
   "cell_type": "code",
   "execution_count": 74,
   "outputs": [
    {
     "name": "stdout",
     "output_type": "stream",
     "text": [
      "Gas carbon recovery\n"
     ]
    },
    {
     "data": {
      "text/plain": "<Figure size 432x288 with 1 Axes>",
      "image/png": "[encoded data removed]"
     },
     "metadata": {
      "needs_background": "light"
     },
     "output_type": "display_data"
    }
   ],
   "source": [
    "print(\"Gas carbon recovery\")\n",
    "plt.figure()\n",
    "histogram = plt.hist(recovery_distribution,20)\n",
    "plt.xlabel(\"Carbon recovery\")\n",
    "plt.ylabel(\"Frequency\")\n",
    "plt.show()"
   ],
   "metadata": {
    "collapsed": false
   }
  },
  {
   "cell_type": "code",
   "execution_count": 75,
   "outputs": [],
   "source": [
    "# Sensibility check of data\n",
    "from processes.syngas_combustion import syngas_combustion_GWP_MC\n",
    "from functions.LCA import electricity_GWP\n",
    "\n",
    "# Calculate GWPs of syngas combustion\n",
    "GWP_results = syngas_combustion_GWP_MC()\n",
    "\n",
    "# Replace GWP results with approximated average GWP from biogenic and non-biogenic sources\n",
    "GWP_simplified = 1800  # kg CO2/FU\n",
    "\n",
    "neg_emissions = - GWP_simplified * recovery_mean  # kg CO2/FU\n",
    "energy_req_emissions = electricity_GWP(energy_consumption_mean * GWP_simplified)\n",
    "\n",
    "# Get current approximate avoided emissions due to electricity substitution - as used in the model right now.\n",
    "GWP_avoided_elect_emissions= 180  # kg CO2/FU"
   ],
   "metadata": {
    "collapsed": false
   }
  },
  {
   "cell_type": "code",
   "execution_count": 76,
   "outputs": [
    {
     "name": "stdout",
     "output_type": "stream",
     "text": [
      "Avoided emissions from incorporating carbon capture: -1572.48 kg CO2/ FU\n",
      "Emission penalty due to increased energy consumption: 68.3235474 kg CO2/ FU\n",
      "Percentage emission from additional energy requirements vs avoided emissions due to capture: 4.344954937423687 %\n",
      "Percentage emission from additional energy requirements vs previous avoided emissions: 37.95752633333333 %\n"
     ]
    }
   ],
   "source": [
    "print(\"Avoided emissions from incorporating carbon capture:\", neg_emissions, \"kg CO2/ FU\")\n",
    "print(\"Emission penalty due to increased energy consumption:\", energy_req_emissions, \"kg CO2/ FU\")\n",
    "print(\"Percentage emission from additional energy requirements vs avoided emissions due to capture:\",-energy_req_emissions/neg_emissions * 100, \"%\")\n",
    "print(\"Percentage emission from additional energy requirements vs previous avoided emissions:\",energy_req_emissions/GWP_avoided_elect_emissions * 100, \"%\")\n"
   ],
   "metadata": {
    "collapsed": false
   }
  },
  {
   "cell_type": "markdown",
   "source": [
    "# Summary\n",
    "- Results are promising.\n",
    "- Looks like avoided emission from electricity substitution would be decreased by 40% - i.e. 40% less electricity available for export.\n",
    "- Emissions due to increased electricity usage are 5% of emissions that could be avoided due to CC."
   ],
   "metadata": {
    "collapsed": false
   }
  }
 ],
 "metadata": {
  "kernelspec": {
   "display_name": "Python 3",
   "language": "python",
   "name": "python3"
  },
  "language_info": {
   "codemirror_mode": {
    "name": "ipython",
    "version": 2
   },
   "file_extension": ".py",
   "mimetype": "text/x-python",
   "name": "python",
   "nbconvert_exporter": "python",
   "pygments_lexer": "ipython2",
   "version": "2.7.6"
  }
 },
 "nbformat": 4,
 "nbformat_minor": 0
}
